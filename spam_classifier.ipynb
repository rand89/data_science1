{
 "cells": [
  {
   "cell_type": "markdown",
   "metadata": {},
   "source": [
    "### Модуль 2. Спам не пройдет\n",
    "Задание: Написать классификатор спама с использованием теоремы Байеса.\n",
    "\n",
    "Автор: Руслан Когочкин (https://www.kaggle.com/ruslankogochkin)"
   ]
  },
  {
   "cell_type": "code",
   "execution_count": 1,
   "metadata": {},
   "outputs": [],
   "source": [
    "# Внимание! Функция train() может выполняться до 5 минут. \n",
    "\n",
    "import numpy as np\n",
    "import pandas as pd\n",
    "import re\n",
    "from nltk.corpus import stopwords # pip install nltk\n",
    "\n",
    "pA = 0  \n",
    "pNotA = 0  \n",
    "spam = {}\n",
    "not_spam = {}\n",
    "number_spam_words = 0\n",
    "number_not_spam_words = 0\n",
    "uniqueWordsTrainSet = set()\n",
    "url_data = 'https://raw.githubusercontent.com/rand89/data_science1/master/data/spam_or_not_spam.csv'\n",
    "\n",
    "def get_train_data():\n",
    "    \"\"\" Считывает данные из csv-файла и возвращает список train_data\"\"\"\n",
    "    train_data = []\n",
    "    df = pd.read_csv(url_data)\n",
    "    df = df.dropna()\n",
    "    for i in df.index:\n",
    "        train_data += [df.loc[i]]\n",
    "    return train_data\n",
    "\n",
    "\n",
    "def get_train_data_test():\n",
    "    \"\"\" Считывает данные из X_train, y_train и возвращает список train_data\"\"\"\n",
    "    train_data = []\n",
    "    df_train = pd.DataFrame({'email': X_train, 'label': y_train})\n",
    "    for i in df_train.index:\n",
    "        train_data += [df_train.loc[i]]\n",
    "    return train_data\n",
    "\n",
    "\n",
    "def prepare_text(text):\n",
    "    \"\"\" Принимает текст text, заменяет числа, удаляет знаки препинания,\n",
    "    удаляет стоп-слова и возвращает список, состоящий из очищенных слов.\"\"\"\n",
    "    words = []\n",
    "    text = text.lower()\n",
    "    text = re.sub('[0-9]+', 'number', text)\n",
    "    text = re.sub('[!\"#$%&\\'()*+,-./:;<=>?@[\\\\]^_`{|}~]', ' ', text)\n",
    "    text = re.sub(' +', ' ', text).strip()\n",
    "    for word in text.split(' '):\n",
    "        if word not in stopwords.words('english'): words.append(word)    \n",
    "    return words\n",
    "\n",
    "\n",
    "def calculate_word_frequencies(body, label):\n",
    "    \"\"\" Принимает текст письма body и метку label (1/0).\n",
    "    Добавляет слова в множество уникальных слов uniqueWordsTrainSet.\n",
    "    Записывает слова письма в словари spam и not_spam.\n",
    "    Считает количество number_spam_words и number_not_spam_words.\"\"\"\n",
    "    global spam, not_spam, number_spam_words, number_not_spam_words, uniqueWordsTrainSet\n",
    "    for word in prepare_text(body):\n",
    "        uniqueWordsTrainSet.add(word)\n",
    "        if label == 1:\n",
    "            number_spam_words += 1\n",
    "            spam[word] = spam.get(word, 0) + 1\n",
    "        else:\n",
    "            number_not_spam_words += 1\n",
    "            not_spam[word] = not_spam.get(word, 0) + 1\n",
    "\n",
    "                \n",
    "def train():\n",
    "    \"\"\" Для каждого письма в тренировочном наборе train_data\n",
    "    вызывает функцию calculate_word_frequencies.\n",
    "    Считает количество number_spam_emails и number_not_spam_emails.\n",
    "    Сохраняет логарифмы вероятностей pA и pNotA.\"\"\"\n",
    "    global pA, pNotA\n",
    "    number_spam_emails = 0\n",
    "    number_not_spam_emails = 0\n",
    "    # train_data = get_train_data()\n",
    "    train_data = get_train_data_test()\n",
    "    for email in train_data:\n",
    "        calculate_word_frequencies(email[0], email[1])\n",
    "        if email[1] == 1:\n",
    "            number_spam_emails += 1\n",
    "        else:\n",
    "            number_not_spam_emails += 1  \n",
    "    pA = np.log(number_spam_emails / (number_spam_emails + number_not_spam_emails))\n",
    "    pNotA = np.log(number_not_spam_emails / (number_spam_emails + number_not_spam_emails))\n",
    "\n",
    "    \n",
    "def calculate_P_Bi_A(word, label):\n",
    "    \"\"\" Принимает слово word и метку label (1/0).\n",
    "    Возвращает логарифм вычисленной вероятности P_Bi_A со сглаживанием Лапласа.\"\"\"\n",
    "    if label == 1:\n",
    "        P_Bi_A = (spam.get(word, 0) + 1) / (number_spam_words + len(uniqueWordsTrainSet))\n",
    "    else:\n",
    "        P_Bi_A = (not_spam.get(word, 0) + 1) / (number_not_spam_words + len(uniqueWordsTrainSet))    \n",
    "    return np.log(P_Bi_A)\n",
    "\n",
    "\n",
    "def calculate_P_B_A(text, label):\n",
    "    \"\"\" Принимает текст письма text и метку label (1/0).\n",
    "    Возвращает сумму результатов выполнения функции calculate_P_Bi_A.\"\"\"\n",
    "    P_B_A = 0\n",
    "    for word in prepare_text(text):\n",
    "        P_B_A += calculate_P_Bi_A(word, label)\n",
    "    return P_B_A\n",
    "\n",
    "\n",
    "def classify(email):\n",
    "    \"\"\" Принимает текст письма email. Вычисляет вероятности P_A_B и P_notA_B.\n",
    "    Возвращает результат сравнения P_A_B и P_notA_B.\"\"\"\n",
    "    P_A_B = pA + calculate_P_B_A(email, 1)\n",
    "    P_notA_B = pNotA + calculate_P_B_A(email, 0)\n",
    "    if P_A_B > P_notA_B:\n",
    "        return True\n",
    "    else:\n",
    "        return False"
   ]
  },
  {
   "cell_type": "markdown",
   "metadata": {},
   "source": [
    "### Обучение"
   ]
  },
  {
   "cell_type": "code",
   "execution_count": 2,
   "metadata": {},
   "outputs": [],
   "source": [
    "df = pd.read_csv(url_data)\n",
    "df = df.dropna()"
   ]
  },
  {
   "cell_type": "code",
   "execution_count": 3,
   "metadata": {},
   "outputs": [],
   "source": [
    "from sklearn.model_selection import train_test_split\n",
    "\n",
    "X_train, X_test, y_train, y_test = train_test_split(df['email'], df['label'], test_size=0.25, random_state=42)"
   ]
  },
  {
   "cell_type": "code",
   "execution_count": 4,
   "metadata": {},
   "outputs": [],
   "source": [
    "train()"
   ]
  },
  {
   "cell_type": "markdown",
   "metadata": {},
   "source": [
    "### Тест"
   ]
  },
  {
   "cell_type": "code",
   "execution_count": 5,
   "metadata": {},
   "outputs": [],
   "source": [
    "y_pred = []\n",
    "for i in range(len(X_test)):\n",
    "        y_pred.append(classify(X_test.iloc[i]))"
   ]
  },
  {
   "cell_type": "code",
   "execution_count": 7,
   "metadata": {},
   "outputs": [
    {
     "name": "stdout",
     "output_type": "stream",
     "text": [
      "accuracy_score: 0.9933333333333333\n",
      "f1_score: 0.979253112033195\n",
      "precision_score: 1.0\n",
      "recall_score: 0.959349593495935\n"
     ]
    }
   ],
   "source": [
    "from sklearn.metrics import accuracy_score, f1_score, precision_score, recall_score, confusion_matrix\n",
    "\n",
    "print('accuracy_score:', accuracy_score(y_test, y_pred))\n",
    "print('f1_score:', f1_score(y_test, y_pred))\n",
    "print('precision_score:', precision_score(y_test, y_pred))\n",
    "print('recall_score:', recall_score(y_test, y_pred))"
   ]
  },
  {
   "cell_type": "code",
   "execution_count": 8,
   "metadata": {},
   "outputs": [
    {
     "data": {
      "text/plain": [
       "array([[627,   0],\n",
       "       [  5, 118]], dtype=int64)"
      ]
     },
     "execution_count": 8,
     "metadata": {},
     "output_type": "execute_result"
    }
   ],
   "source": [
    "confusion_matrix(y_test, y_pred)"
   ]
  },
  {
   "cell_type": "markdown",
   "metadata": {},
   "source": [
    "### Выводы\n",
    "Классификатор спама показал отличные результаты на тестовой выборке. Он совершенно точно определяет, что письмо является спамом (precision_score = 1), но обнаруживает только 96% спама (recall_score = 0.959). 5 спам-писем классификатор отнес к нормальным сообщениям (см. confusion_matrix). F1_score = 0.979, что является прекрасным показателем."
   ]
  }
 ],
 "metadata": {
  "kernelspec": {
   "display_name": "Python 3",
   "language": "python",
   "name": "python3"
  },
  "language_info": {
   "codemirror_mode": {
    "name": "ipython",
    "version": 3
   },
   "file_extension": ".py",
   "mimetype": "text/x-python",
   "name": "python",
   "nbconvert_exporter": "python",
   "pygments_lexer": "ipython3",
   "version": "3.7.3"
  }
 },
 "nbformat": 4,
 "nbformat_minor": 2
}
