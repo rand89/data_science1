{
 "cells": [
  {
   "cell_type": "markdown",
   "metadata": {},
   "source": [
    "## Модуль 5.1 - Рекомендательные системы\n",
    "<b>Цель</b> - увеличить средний чек продаж магазина путем создания рекомендательной системы товаров для пользователей.\n",
    "\n",
    "<b>Задачи:</b>\n",
    "- провести анализ датасета (EDA),\n",
    "- подготовить признаки для обучения модели, \n",
    "- обучить модель рекомендательной системы,\n",
    "- протестировать модель,\n",
    "- сделать submit на Kaggle."
   ]
  },
  {
   "cell_type": "markdown",
   "metadata": {},
   "source": [
    "## Импорт библиотек"
   ]
  },
  {
   "cell_type": "code",
   "execution_count": 1,
   "metadata": {},
   "outputs": [
    {
     "name": "stderr",
     "output_type": "stream",
     "text": [
      "G:\\soft\\Anaconda3\\lib\\site-packages\\statsmodels\\tools\\_testing.py:19: FutureWarning: pandas.util.testing is deprecated. Use the functions in the public API at pandas.testing instead.\n",
      "  import pandas.util.testing as tm\n"
     ]
    }
   ],
   "source": [
    "import pandas as pd\n",
    "import matplotlib.pyplot as plt\n",
    "import seaborn as sns\n",
    "%matplotlib inline"
   ]
  },
  {
   "cell_type": "markdown",
   "metadata": {},
   "source": [
    "## Получаем данные"
   ]
  },
  {
   "cell_type": "code",
   "execution_count": 2,
   "metadata": {},
   "outputs": [],
   "source": [
    "df = pd.read_csv('data3/train.csv', low_memory=False)"
   ]
  },
  {
   "cell_type": "code",
   "execution_count": 3,
   "metadata": {},
   "outputs": [
    {
     "data": {
      "text/html": [
       "<div>\n",
       "<style scoped>\n",
       "    .dataframe tbody tr th:only-of-type {\n",
       "        vertical-align: middle;\n",
       "    }\n",
       "\n",
       "    .dataframe tbody tr th {\n",
       "        vertical-align: top;\n",
       "    }\n",
       "\n",
       "    .dataframe thead th {\n",
       "        text-align: right;\n",
       "    }\n",
       "</style>\n",
       "<table border=\"1\" class=\"dataframe\">\n",
       "  <thead>\n",
       "    <tr style=\"text-align: right;\">\n",
       "      <th></th>\n",
       "      <th>verified</th>\n",
       "      <th>reviewTime</th>\n",
       "      <th>reviewerName</th>\n",
       "      <th>reviewText</th>\n",
       "      <th>summary</th>\n",
       "      <th>unixReviewTime</th>\n",
       "      <th>vote</th>\n",
       "      <th>style</th>\n",
       "      <th>image</th>\n",
       "      <th>userid</th>\n",
       "      <th>itemid</th>\n",
       "      <th>rating</th>\n",
       "    </tr>\n",
       "  </thead>\n",
       "  <tbody>\n",
       "    <tr>\n",
       "      <th>0</th>\n",
       "      <td>True</td>\n",
       "      <td>10 4, 2016</td>\n",
       "      <td>Heather</td>\n",
       "      <td>These are my FAVORITE spices in my collection....</td>\n",
       "      <td>Must Add to your Spice kitchen!</td>\n",
       "      <td>1475539200</td>\n",
       "      <td>NaN</td>\n",
       "      <td>NaN</td>\n",
       "      <td>NaN</td>\n",
       "      <td>102179</td>\n",
       "      <td>37138</td>\n",
       "      <td>1.0</td>\n",
       "    </tr>\n",
       "    <tr>\n",
       "      <th>1</th>\n",
       "      <td>True</td>\n",
       "      <td>03 1, 2016</td>\n",
       "      <td>Linda Odom</td>\n",
       "      <td>Add A package to my Coffee and it makes a good...</td>\n",
       "      <td>Milk Chocolate Swiis MIss Hot Cocoa Mix</td>\n",
       "      <td>1456790400</td>\n",
       "      <td>NaN</td>\n",
       "      <td>{'Size:': ' 60-0.73 oz Envelopes'}</td>\n",
       "      <td>NaN</td>\n",
       "      <td>3625</td>\n",
       "      <td>17322</td>\n",
       "      <td>1.0</td>\n",
       "    </tr>\n",
       "    <tr>\n",
       "      <th>2</th>\n",
       "      <td>True</td>\n",
       "      <td>06 26, 2016</td>\n",
       "      <td>DesertBlossom</td>\n",
       "      <td>I love the Torani syrups, but not the prices o...</td>\n",
       "      <td>Love these sugar free syrups, but didn't love ...</td>\n",
       "      <td>1466899200</td>\n",
       "      <td>28</td>\n",
       "      <td>NaN</td>\n",
       "      <td>NaN</td>\n",
       "      <td>39495</td>\n",
       "      <td>5600</td>\n",
       "      <td>1.0</td>\n",
       "    </tr>\n",
       "    <tr>\n",
       "      <th>3</th>\n",
       "      <td>True</td>\n",
       "      <td>09 5, 2013</td>\n",
       "      <td>Connie L. Reaves</td>\n",
       "      <td>Very fragrant. The price can't be beat. I do l...</td>\n",
       "      <td>Nice !</td>\n",
       "      <td>1378339200</td>\n",
       "      <td>NaN</td>\n",
       "      <td>NaN</td>\n",
       "      <td>NaN</td>\n",
       "      <td>72854</td>\n",
       "      <td>30249</td>\n",
       "      <td>1.0</td>\n",
       "    </tr>\n",
       "    <tr>\n",
       "      <th>4</th>\n",
       "      <td>True</td>\n",
       "      <td>09 14, 2016</td>\n",
       "      <td>Mike P.</td>\n",
       "      <td>These are my favorite jalapeno chips so far. T...</td>\n",
       "      <td>These are my favorite jalapeno chips so far</td>\n",
       "      <td>1473811200</td>\n",
       "      <td>NaN</td>\n",
       "      <td>{'Flavor:': ' Jalapeo'}</td>\n",
       "      <td>NaN</td>\n",
       "      <td>74859</td>\n",
       "      <td>4349</td>\n",
       "      <td>1.0</td>\n",
       "    </tr>\n",
       "  </tbody>\n",
       "</table>\n",
       "</div>"
      ],
      "text/plain": [
       "   verified   reviewTime      reviewerName  \\\n",
       "0      True   10 4, 2016           Heather   \n",
       "1      True   03 1, 2016        Linda Odom   \n",
       "2      True  06 26, 2016     DesertBlossom   \n",
       "3      True   09 5, 2013  Connie L. Reaves   \n",
       "4      True  09 14, 2016           Mike P.   \n",
       "\n",
       "                                          reviewText  \\\n",
       "0  These are my FAVORITE spices in my collection....   \n",
       "1  Add A package to my Coffee and it makes a good...   \n",
       "2  I love the Torani syrups, but not the prices o...   \n",
       "3  Very fragrant. The price can't be beat. I do l...   \n",
       "4  These are my favorite jalapeno chips so far. T...   \n",
       "\n",
       "                                             summary  unixReviewTime vote  \\\n",
       "0                    Must Add to your Spice kitchen!      1475539200  NaN   \n",
       "1            Milk Chocolate Swiis MIss Hot Cocoa Mix      1456790400  NaN   \n",
       "2  Love these sugar free syrups, but didn't love ...      1466899200   28   \n",
       "3                                             Nice !      1378339200  NaN   \n",
       "4        These are my favorite jalapeno chips so far      1473811200  NaN   \n",
       "\n",
       "                                style image  userid  itemid  rating  \n",
       "0                                 NaN   NaN  102179   37138     1.0  \n",
       "1  {'Size:': ' 60-0.73 oz Envelopes'}   NaN    3625   17322     1.0  \n",
       "2                                 NaN   NaN   39495    5600     1.0  \n",
       "3                                 NaN   NaN   72854   30249     1.0  \n",
       "4             {'Flavor:': ' Jalapeo'}   NaN   74859    4349     1.0  "
      ]
     },
     "execution_count": 3,
     "metadata": {},
     "output_type": "execute_result"
    }
   ],
   "source": [
    "df.head()"
   ]
  },
  {
   "cell_type": "code",
   "execution_count": 4,
   "metadata": {},
   "outputs": [
    {
     "data": {
      "text/plain": [
       "(857895, 12)"
      ]
     },
     "execution_count": 4,
     "metadata": {},
     "output_type": "execute_result"
    }
   ],
   "source": [
    "df.shape"
   ]
  },
  {
   "cell_type": "markdown",
   "metadata": {},
   "source": [
    "## EDA"
   ]
  },
  {
   "cell_type": "code",
   "execution_count": 5,
   "metadata": {},
   "outputs": [
    {
     "name": "stdout",
     "output_type": "stream",
     "text": [
      "<class 'pandas.core.frame.DataFrame'>\n",
      "RangeIndex: 857895 entries, 0 to 857894\n",
      "Data columns (total 12 columns):\n",
      " #   Column          Non-Null Count   Dtype  \n",
      "---  ------          --------------   -----  \n",
      " 0   verified        857895 non-null  bool   \n",
      " 1   reviewTime      857895 non-null  object \n",
      " 2   reviewerName    857719 non-null  object \n",
      " 3   reviewText      857616 non-null  object \n",
      " 4   summary         857725 non-null  object \n",
      " 5   unixReviewTime  857895 non-null  int64  \n",
      " 6   vote            118740 non-null  object \n",
      " 7   style           444406 non-null  object \n",
      " 8   image           7142 non-null    object \n",
      " 9   userid          857895 non-null  int64  \n",
      " 10  itemid          857895 non-null  int64  \n",
      " 11  rating          857895 non-null  float64\n",
      "dtypes: bool(1), float64(1), int64(3), object(7)\n",
      "memory usage: 72.8+ MB\n"
     ]
    }
   ],
   "source": [
    "df.info()"
   ]
  },
  {
   "cell_type": "code",
   "execution_count": 6,
   "metadata": {},
   "outputs": [
    {
     "data": {
      "text/plain": [
       "(826895, 12)"
      ]
     },
     "execution_count": 6,
     "metadata": {},
     "output_type": "execute_result"
    }
   ],
   "source": [
    "# Удалим дубликаты, т.к. пользователь может оценить один товар один раз.\n",
    "df.drop_duplicates(inplace=True)\n",
    "df.shape"
   ]
  },
  {
   "cell_type": "code",
   "execution_count": 7,
   "metadata": {
    "scrolled": true
   },
   "outputs": [
    {
     "data": {
      "text/plain": [
       "verified               0\n",
       "reviewTime             0\n",
       "reviewerName         164\n",
       "reviewText           274\n",
       "summary              166\n",
       "unixReviewTime         0\n",
       "vote              712944\n",
       "style             398698\n",
       "image             819916\n",
       "userid                 0\n",
       "itemid                 0\n",
       "rating                 0\n",
       "dtype: int64"
      ]
     },
     "execution_count": 7,
     "metadata": {},
     "output_type": "execute_result"
    }
   ],
   "source": [
    "# Посмотрим на пропущенные значения\n",
    "df.isna().sum()"
   ]
  },
  {
   "cell_type": "code",
   "execution_count": 8,
   "metadata": {},
   "outputs": [],
   "source": [
    "# Удалим строки с пропущенными значениями, где их мало.\n",
    "df.dropna(subset=['reviewerName', 'reviewText', 'summary'], inplace=True)"
   ]
  },
  {
   "cell_type": "markdown",
   "metadata": {},
   "source": [
    "Рассмотрим каждый признак по отдельности."
   ]
  },
  {
   "cell_type": "markdown",
   "metadata": {},
   "source": [
    "#### rating"
   ]
  },
  {
   "cell_type": "code",
   "execution_count": 9,
   "metadata": {},
   "outputs": [
    {
     "data": {
      "image/png": "[encoded data removed]",
      "text/plain": [
       "<Figure size 432x288 with 1 Axes>"
      ]
     },
     "metadata": {
      "needs_background": "light"
     },
     "output_type": "display_data"
    }
   ],
   "source": [
    "# rating: 1 - товар понравился, 0 - товар не понравился\n",
    "\n",
    "df['rating'] = df['rating'].astype(int)\n",
    "plt.hist(df['rating'], bins=3);\n",
    "plt.title('rating');"
   ]
  },
  {
   "cell_type": "code",
   "execution_count": 10,
   "metadata": {},
   "outputs": [
    {
     "data": {
      "text/plain": [
       "1    701088\n",
       "0    125236\n",
       "Name: rating, dtype: int64"
      ]
     },
     "execution_count": 10,
     "metadata": {},
     "output_type": "execute_result"
    }
   ],
   "source": [
    "df['rating'].value_counts()"
   ]
  },
  {
   "cell_type": "markdown",
   "metadata": {},
   "source": [
    "Пятикратное преимущество товаров, которые понравились."
   ]
  },
  {
   "cell_type": "markdown",
   "metadata": {},
   "source": [
    "#### verified"
   ]
  },
  {
   "cell_type": "code",
   "execution_count": 11,
   "metadata": {},
   "outputs": [
    {
     "data": {
      "text/plain": [
       "1    717641\n",
       "0    108683\n",
       "Name: verified, dtype: int64"
      ]
     },
     "execution_count": 11,
     "metadata": {},
     "output_type": "execute_result"
    }
   ],
   "source": [
    "# Признак verified\n",
    "df['verified'] = df['verified'].astype(int)\n",
    "df['verified'].value_counts()"
   ]
  },
  {
   "cell_type": "markdown",
   "metadata": {},
   "source": [
    "Количество отзывов от верифицированных пользователей в 7 раз больше, чем от неверифицированных."
   ]
  },
  {
   "cell_type": "markdown",
   "metadata": {},
   "source": [
    "#### reviewTime"
   ]
  },
  {
   "cell_type": "code",
   "execution_count": 12,
   "metadata": {},
   "outputs": [],
   "source": [
    "# Признак reviewTime (07 21, 2016). Разделим на день, месяц, год, день недели\n",
    "\n",
    "df['reviewTime'] = pd.to_datetime(df['reviewTime'], format=\"%m %d, %Y\")\n",
    "df['year'] = df['reviewTime'].dt.strftime('%Y').astype(int)\n",
    "df['month'] = df['reviewTime'].dt.strftime('%m').astype(int)\n",
    "df['day'] = df['reviewTime'].dt.strftime('%d').astype(int)\n",
    "df['weekday'] = df['reviewTime'].dt.strftime('%w').astype(int)"
   ]
  },
  {
   "cell_type": "code",
   "execution_count": 13,
   "metadata": {},
   "outputs": [
    {
     "data": {
      "text/plain": [
       "count                  826324\n",
       "unique                   4580\n",
       "top       2016-03-01 00:00:00\n",
       "freq                      909\n",
       "first     2000-08-09 00:00:00\n",
       "last      2018-10-02 00:00:00\n",
       "Name: reviewTime, dtype: object"
      ]
     },
     "execution_count": 13,
     "metadata": {},
     "output_type": "execute_result"
    }
   ],
   "source": [
    "df['reviewTime'].describe()"
   ]
  },
  {
   "cell_type": "markdown",
   "metadata": {},
   "source": [
    "Первый отзыв был в 2000 году, а последний в 2018. 1 марта 2016 было оставлено 909 отзывов!"
   ]
  },
  {
   "cell_type": "code",
   "execution_count": 14,
   "metadata": {},
   "outputs": [
    {
     "data": {
      "text/plain": [
       "reviewTime\n",
       "2016-03-01    909\n",
       "2016-07-14    858\n",
       "2015-06-03    769\n",
       "2016-01-20    763\n",
       "2016-02-20    753\n",
       "2016-02-18    738\n",
       "2016-01-22    729\n",
       "2016-04-21    723\n",
       "2016-04-19    721\n",
       "2017-01-03    717\n",
       "Name: rating, dtype: int64"
      ]
     },
     "execution_count": 14,
     "metadata": {},
     "output_type": "execute_result"
    }
   ],
   "source": [
    "df.groupby('reviewTime')['rating'].count().sort_values(ascending=False).head(10)"
   ]
  },
  {
   "cell_type": "code",
   "execution_count": 15,
   "metadata": {},
   "outputs": [
    {
     "data": {
      "text/plain": [
       "<matplotlib.axes._subplots.AxesSubplot at 0x29e001594a8>"
      ]
     },
     "execution_count": 15,
     "metadata": {},
     "output_type": "execute_result"
    },
    {
     "data": {
      "image/png": "[encoded data removed]",
      "text/plain": [
       "<Figure size 432x288 with 1 Axes>"
      ]
     },
     "metadata": {
      "needs_background": "light"
     },
     "output_type": "display_data"
    }
   ],
   "source": [
    "df['year'].hist(bins=50)"
   ]
  },
  {
   "cell_type": "markdown",
   "metadata": {},
   "source": [
    "Видим рост количества отзывов вплоть до 2016 года. С 2017 заметен спад. Интересно, почему."
   ]
  },
  {
   "cell_type": "code",
   "execution_count": 16,
   "metadata": {},
   "outputs": [
    {
     "data": {
      "text/plain": [
       "<matplotlib.axes._subplots.AxesSubplot at 0x29e001d5358>"
      ]
     },
     "execution_count": 16,
     "metadata": {},
     "output_type": "execute_result"
    },
    {
     "data": {
      "image/png": "[encoded data removed]",
      "text/plain": [
       "<Figure size 432x288 with 1 Axes>"
      ]
     },
     "metadata": {
      "needs_background": "light"
     },
     "output_type": "display_data"
    }
   ],
   "source": [
    "df['day'].hist(bins=31)"
   ]
  },
  {
   "cell_type": "markdown",
   "metadata": {},
   "source": [
    "Примерно одинаковое количество отзывов каждый день месяца."
   ]
  },
  {
   "cell_type": "code",
   "execution_count": 17,
   "metadata": {},
   "outputs": [
    {
     "data": {
      "text/plain": [
       "<matplotlib.axes._subplots.AxesSubplot at 0x29e000c6a20>"
      ]
     },
     "execution_count": 17,
     "metadata": {},
     "output_type": "execute_result"
    },
    {
     "data": {
      "image/png": "[encoded data removed]",
      "text/plain": [
       "<Figure size 432x288 with 1 Axes>"
      ]
     },
     "metadata": {
      "needs_background": "light"
     },
     "output_type": "display_data"
    }
   ],
   "source": [
    "df['month'].hist(bins=24)"
   ]
  },
  {
   "cell_type": "markdown",
   "metadata": {},
   "source": [
    "С января по март высокий уровень отзывов, потом спад. В декабре снова рост. Скорее всего из-за Рождества и Нового года."
   ]
  },
  {
   "cell_type": "code",
   "execution_count": 18,
   "metadata": {},
   "outputs": [
    {
     "data": {
      "text/plain": [
       "<matplotlib.axes._subplots.AxesSubplot at 0x29e0033a6a0>"
      ]
     },
     "execution_count": 18,
     "metadata": {},
     "output_type": "execute_result"
    },
    {
     "data": {
      "image/png": "[encoded data removed]",
      "text/plain": [
       "<Figure size 432x288 with 1 Axes>"
      ]
     },
     "metadata": {
      "needs_background": "light"
     },
     "output_type": "display_data"
    }
   ],
   "source": [
    "df['weekday'].hist(bins=14)"
   ]
  },
  {
   "cell_type": "markdown",
   "metadata": {},
   "source": [
    "В выходные (0 и 6) меньше отзывов, чем в будни. Понедельник лидер. "
   ]
  },
  {
   "cell_type": "code",
   "execution_count": 19,
   "metadata": {},
   "outputs": [
    {
     "data": {
      "text/plain": [
       "weekday\n",
       "5    0.850884\n",
       "1    0.850298\n",
       "3    0.849105\n",
       "6    0.848167\n",
       "0    0.847564\n",
       "2    0.846972\n",
       "4    0.846055\n",
       "Name: rating, dtype: float64"
      ]
     },
     "execution_count": 19,
     "metadata": {},
     "output_type": "execute_result"
    }
   ],
   "source": [
    "# Влияет ли день недели на то понравится товар или нет? Практически одинаковые результаты.\n",
    "df.groupby('weekday')['rating'].mean().sort_values(ascending=False)"
   ]
  },
  {
   "cell_type": "markdown",
   "metadata": {},
   "source": [
    "#### reviewText"
   ]
  },
  {
   "cell_type": "code",
   "execution_count": 20,
   "metadata": {},
   "outputs": [],
   "source": [
    "# признак reviewText. Определим длину отзыва.\n",
    "df['reviewText_len'] = df['reviewText'].str.len()"
   ]
  },
  {
   "cell_type": "code",
   "execution_count": 21,
   "metadata": {},
   "outputs": [
    {
     "data": {
      "text/plain": [
       "count    826324.000000\n",
       "mean        208.858114\n",
       "std         329.942526\n",
       "min           1.000000\n",
       "25%          39.000000\n",
       "50%         112.000000\n",
       "75%         244.000000\n",
       "max       19057.000000\n",
       "Name: reviewText_len, dtype: float64"
      ]
     },
     "execution_count": 21,
     "metadata": {},
     "output_type": "execute_result"
    }
   ],
   "source": [
    "df['reviewText_len'].describe()"
   ]
  },
  {
   "cell_type": "markdown",
   "metadata": {},
   "source": [
    "Максимальное значение - 19057 символов в отзыве!"
   ]
  },
  {
   "cell_type": "code",
   "execution_count": 22,
   "metadata": {},
   "outputs": [
    {
     "data": {
      "text/plain": [
       "585803    19057\n",
       "694225    12589\n",
       "693267    11901\n",
       "774702    11900\n",
       "376005    11665\n",
       "Name: reviewText_len, dtype: int64"
      ]
     },
     "execution_count": 22,
     "metadata": {},
     "output_type": "execute_result"
    }
   ],
   "source": [
    "df['reviewText_len'].sort_values(ascending=False).head()"
   ]
  },
  {
   "cell_type": "markdown",
   "metadata": {},
   "source": [
    "#### summary"
   ]
  },
  {
   "cell_type": "code",
   "execution_count": 23,
   "metadata": {},
   "outputs": [],
   "source": [
    "# признак summary. Определим длину summary.\n",
    "df['summary_len'] = df['summary'].str.len()"
   ]
  },
  {
   "cell_type": "code",
   "execution_count": 24,
   "metadata": {
    "scrolled": true
   },
   "outputs": [
    {
     "data": {
      "text/plain": [
       "count    826324.000000\n",
       "mean         22.379697\n",
       "std          18.262225\n",
       "min           1.000000\n",
       "25%          10.000000\n",
       "50%          15.000000\n",
       "75%          29.000000\n",
       "max         337.000000\n",
       "Name: summary_len, dtype: float64"
      ]
     },
     "execution_count": 24,
     "metadata": {},
     "output_type": "execute_result"
    }
   ],
   "source": [
    "df['summary_len'].describe()"
   ]
  },
  {
   "cell_type": "markdown",
   "metadata": {},
   "source": [
    "#### vote"
   ]
  },
  {
   "cell_type": "code",
   "execution_count": 25,
   "metadata": {},
   "outputs": [],
   "source": [
    "# признак vote\n",
    "df['vote'].fillna('0', inplace=True)\n",
    "df['vote'] = df['vote'].str.replace(',', '')\n",
    "df['vote'] = df['vote'].astype(int)"
   ]
  },
  {
   "cell_type": "code",
   "execution_count": 26,
   "metadata": {},
   "outputs": [
    {
     "data": {
      "text/plain": [
       "count    826324.000000\n",
       "mean          0.922824\n",
       "std           7.922721\n",
       "min           0.000000\n",
       "25%           0.000000\n",
       "50%           0.000000\n",
       "75%           0.000000\n",
       "max        1626.000000\n",
       "Name: vote, dtype: float64"
      ]
     },
     "execution_count": 26,
     "metadata": {},
     "output_type": "execute_result"
    }
   ],
   "source": [
    "df['vote'].describe()"
   ]
  },
  {
   "cell_type": "markdown",
   "metadata": {},
   "source": [
    "Максимальное значение - 1626 голоса за отзыв!"
   ]
  },
  {
   "cell_type": "code",
   "execution_count": 27,
   "metadata": {
    "scrolled": true
   },
   "outputs": [
    {
     "data": {
      "text/plain": [
       "26646     1626\n",
       "316141    1491\n",
       "166361    1383\n",
       "146565    1157\n",
       "217372    1060\n",
       "Name: vote, dtype: int32"
      ]
     },
     "execution_count": 27,
     "metadata": {},
     "output_type": "execute_result"
    }
   ],
   "source": [
    "df['vote'].sort_values(ascending=False).head()"
   ]
  },
  {
   "cell_type": "markdown",
   "metadata": {},
   "source": [
    "Посмотрим на самый полезный отзыв:"
   ]
  },
  {
   "cell_type": "code",
   "execution_count": 28,
   "metadata": {
    "scrolled": true
   },
   "outputs": [
    {
     "data": {
      "text/plain": [
       "\"I love these bars...  They are delicious.  Perfect size, portion, etc.  Exactly what I am looking for.  I was a huge fan at first.\\n\\nNow, I am finding a huge issue with quality control and contamination.  I just discovered Epic Bars within the last 3 weeks.  In that time, I have been to 5 different Whole Foods Markets around the country in 4 different cities because I travel a lot for work.  In each store that carries Epic Bars, there was product which was puffed-up like little pillows.  I am not sure what the issue is EXACTLY.  It seems like some kind of bacterial problem.  I Emailed Epic to tell them about it but they assured me there were no issues going forward.  In fact, they let me know about two chicken flavors that they have: sriracha and sesame BBQ, which was exciting to me.\\n\\nSo, I trusted them and ordered some product from Amazon.\\n\\nWhen I received the order, both boxes of chicken flavored bars had contaminated product.  The pictures show an ok package, an infected package, and then both packages side by side; all from the order I placed on Amazon.\\n\\nIn both boxes, 9/12 bars were puffed up the day the delivery arrived at my house; i.e. they hadn't sat on a shelf for a long time or anything.  So, there is definitely a problem with their packaging / manufacturing process at Epic.\""
      ]
     },
     "execution_count": 28,
     "metadata": {},
     "output_type": "execute_result"
    }
   ],
   "source": [
    "df.loc[26646]['reviewText']"
   ]
  },
  {
   "cell_type": "markdown",
   "metadata": {},
   "source": [
    "#### style"
   ]
  },
  {
   "cell_type": "markdown",
   "metadata": {},
   "source": [
    "Информация об упаковке (метаданные) товара. Много пропусков. Посмотрим на имеющиеся данные:"
   ]
  },
  {
   "cell_type": "code",
   "execution_count": 29,
   "metadata": {},
   "outputs": [
    {
     "data": {
      "text/plain": [
       "1                   {'Size:': ' 60-0.73 oz Envelopes'}\n",
       "4                              {'Flavor:': ' Jalapeo'}\n",
       "5    {'Size:': ' Pack of 6', 'Flavor:': ' Organic S...\n",
       "6    {'Size:': ' 16 Ounce (Pack of 6)', 'Flavor:': ...\n",
       "8    {'Size:': ' 12 ounce', 'Flavor:': ' Gourmet Ch...\n",
       "Name: style, dtype: object"
      ]
     },
     "execution_count": 29,
     "metadata": {},
     "output_type": "execute_result"
    }
   ],
   "source": [
    "# признак style.\n",
    "df['style'][~df['style'].isnull()].head()"
   ]
  },
  {
   "cell_type": "markdown",
   "metadata": {},
   "source": [
    "#### image"
   ]
  },
  {
   "cell_type": "markdown",
   "metadata": {},
   "source": [
    "Ссылка на картинку товара. Много пропусков."
   ]
  },
  {
   "cell_type": "code",
   "execution_count": 30,
   "metadata": {},
   "outputs": [
    {
     "data": {
      "text/plain": [
       "196    ['https://images-na.ssl-images-amazon.com/imag...\n",
       "261    ['https://images-na.ssl-images-amazon.com/imag...\n",
       "585    ['https://images-na.ssl-images-amazon.com/imag...\n",
       "623    ['https://images-na.ssl-images-amazon.com/imag...\n",
       "635    ['https://images-na.ssl-images-amazon.com/imag...\n",
       "Name: image, dtype: object"
      ]
     },
     "execution_count": 30,
     "metadata": {},
     "output_type": "execute_result"
    }
   ],
   "source": [
    "df['image'][~df['image'].isnull()].head()"
   ]
  },
  {
   "cell_type": "markdown",
   "metadata": {},
   "source": [
    "#### userid"
   ]
  },
  {
   "cell_type": "code",
   "execution_count": 31,
   "metadata": {},
   "outputs": [
    {
     "data": {
      "text/plain": [
       "127415"
      ]
     },
     "execution_count": 31,
     "metadata": {},
     "output_type": "execute_result"
    }
   ],
   "source": [
    "# Количество уникальных пользователей\n",
    "df['userid'].nunique()"
   ]
  },
  {
   "cell_type": "markdown",
   "metadata": {},
   "source": [
    "#### itemid"
   ]
  },
  {
   "cell_type": "code",
   "execution_count": 32,
   "metadata": {
    "scrolled": true
   },
   "outputs": [
    {
     "data": {
      "text/plain": [
       "41302"
      ]
     },
     "execution_count": 32,
     "metadata": {},
     "output_type": "execute_result"
    }
   ],
   "source": [
    "# Количество уникальных товаров\n",
    "df['itemid'].nunique()"
   ]
  },
  {
   "cell_type": "markdown",
   "metadata": {},
   "source": [
    "### Удаление дубликатов оценок"
   ]
  },
  {
   "cell_type": "markdown",
   "metadata": {},
   "source": [
    "Один пользователь может оценить товар только один раз."
   ]
  },
  {
   "cell_type": "code",
   "execution_count": 33,
   "metadata": {
    "scrolled": false
   },
   "outputs": [
    {
     "data": {
      "text/plain": [
       "14192"
      ]
     },
     "execution_count": 33,
     "metadata": {},
     "output_type": "execute_result"
    }
   ],
   "source": [
    "duplicates = df[df.duplicated(subset = ['itemid','userid'])]\n",
    "len(duplicates)"
   ]
  },
  {
   "cell_type": "code",
   "execution_count": 34,
   "metadata": {},
   "outputs": [
    {
     "data": {
      "text/html": [
       "<div>\n",
       "<style scoped>\n",
       "    .dataframe tbody tr th:only-of-type {\n",
       "        vertical-align: middle;\n",
       "    }\n",
       "\n",
       "    .dataframe tbody tr th {\n",
       "        vertical-align: top;\n",
       "    }\n",
       "\n",
       "    .dataframe thead th {\n",
       "        text-align: right;\n",
       "    }\n",
       "</style>\n",
       "<table border=\"1\" class=\"dataframe\">\n",
       "  <thead>\n",
       "    <tr style=\"text-align: right;\">\n",
       "      <th></th>\n",
       "      <th>verified</th>\n",
       "      <th>reviewTime</th>\n",
       "      <th>reviewerName</th>\n",
       "      <th>reviewText</th>\n",
       "      <th>summary</th>\n",
       "      <th>unixReviewTime</th>\n",
       "      <th>vote</th>\n",
       "      <th>style</th>\n",
       "      <th>image</th>\n",
       "      <th>userid</th>\n",
       "      <th>itemid</th>\n",
       "      <th>rating</th>\n",
       "      <th>year</th>\n",
       "      <th>month</th>\n",
       "      <th>day</th>\n",
       "      <th>weekday</th>\n",
       "      <th>reviewText_len</th>\n",
       "      <th>summary_len</th>\n",
       "    </tr>\n",
       "  </thead>\n",
       "  <tbody>\n",
       "    <tr>\n",
       "      <th>79282</th>\n",
       "      <td>1</td>\n",
       "      <td>2014-03-21</td>\n",
       "      <td>reviewer</td>\n",
       "      <td>I'm guessing these are fried, not baked.  They...</td>\n",
       "      <td>OK, but high calories and fat</td>\n",
       "      <td>1395360000</td>\n",
       "      <td>0</td>\n",
       "      <td>{'Flavor:': ' Caramel'}</td>\n",
       "      <td>NaN</td>\n",
       "      <td>83743</td>\n",
       "      <td>6349</td>\n",
       "      <td>1</td>\n",
       "      <td>2014</td>\n",
       "      <td>3</td>\n",
       "      <td>21</td>\n",
       "      <td>5</td>\n",
       "      <td>375</td>\n",
       "      <td>29</td>\n",
       "    </tr>\n",
       "    <tr>\n",
       "      <th>811874</th>\n",
       "      <td>1</td>\n",
       "      <td>2014-03-14</td>\n",
       "      <td>reviewer</td>\n",
       "      <td>These are very light, more like a potato chip ...</td>\n",
       "      <td>Good, but package seems very empty</td>\n",
       "      <td>1394755200</td>\n",
       "      <td>0</td>\n",
       "      <td>{'Flavor:': ' Cinnamon'}</td>\n",
       "      <td>NaN</td>\n",
       "      <td>83743</td>\n",
       "      <td>6349</td>\n",
       "      <td>1</td>\n",
       "      <td>2014</td>\n",
       "      <td>3</td>\n",
       "      <td>14</td>\n",
       "      <td>5</td>\n",
       "      <td>681</td>\n",
       "      <td>34</td>\n",
       "    </tr>\n",
       "  </tbody>\n",
       "</table>\n",
       "</div>"
      ],
      "text/plain": [
       "        verified reviewTime reviewerName  \\\n",
       "79282          1 2014-03-21     reviewer   \n",
       "811874         1 2014-03-14     reviewer   \n",
       "\n",
       "                                               reviewText  \\\n",
       "79282   I'm guessing these are fried, not baked.  They...   \n",
       "811874  These are very light, more like a potato chip ...   \n",
       "\n",
       "                                   summary  unixReviewTime  vote  \\\n",
       "79282        OK, but high calories and fat      1395360000     0   \n",
       "811874  Good, but package seems very empty      1394755200     0   \n",
       "\n",
       "                           style image  userid  itemid  rating  year  month  \\\n",
       "79282    {'Flavor:': ' Caramel'}   NaN   83743    6349       1  2014      3   \n",
       "811874  {'Flavor:': ' Cinnamon'}   NaN   83743    6349       1  2014      3   \n",
       "\n",
       "        day  weekday  reviewText_len  summary_len  \n",
       "79282    21        5             375           29  \n",
       "811874   14        5             681           34  "
      ]
     },
     "execution_count": 34,
     "metadata": {},
     "output_type": "execute_result"
    }
   ],
   "source": [
    "df[(df['userid']==83743) & (df['itemid']==6349)]"
   ]
  },
  {
   "cell_type": "code",
   "execution_count": 35,
   "metadata": {},
   "outputs": [
    {
     "data": {
      "text/plain": [
       "array([  9326,  10863,  11572, ..., 857835, 857836, 857890], dtype=int64)"
      ]
     },
     "execution_count": 35,
     "metadata": {},
     "output_type": "execute_result"
    }
   ],
   "source": [
    "duplicates.index.values"
   ]
  },
  {
   "cell_type": "code",
   "execution_count": 36,
   "metadata": {},
   "outputs": [],
   "source": [
    "df = df.drop(duplicates.index.values)"
   ]
  },
  {
   "cell_type": "code",
   "execution_count": 37,
   "metadata": {},
   "outputs": [
    {
     "data": {
      "text/html": [
       "<div>\n",
       "<style scoped>\n",
       "    .dataframe tbody tr th:only-of-type {\n",
       "        vertical-align: middle;\n",
       "    }\n",
       "\n",
       "    .dataframe tbody tr th {\n",
       "        vertical-align: top;\n",
       "    }\n",
       "\n",
       "    .dataframe thead th {\n",
       "        text-align: right;\n",
       "    }\n",
       "</style>\n",
       "<table border=\"1\" class=\"dataframe\">\n",
       "  <thead>\n",
       "    <tr style=\"text-align: right;\">\n",
       "      <th></th>\n",
       "      <th>verified</th>\n",
       "      <th>reviewTime</th>\n",
       "      <th>reviewerName</th>\n",
       "      <th>reviewText</th>\n",
       "      <th>summary</th>\n",
       "      <th>unixReviewTime</th>\n",
       "      <th>vote</th>\n",
       "      <th>style</th>\n",
       "      <th>image</th>\n",
       "      <th>userid</th>\n",
       "      <th>itemid</th>\n",
       "      <th>rating</th>\n",
       "      <th>year</th>\n",
       "      <th>month</th>\n",
       "      <th>day</th>\n",
       "      <th>weekday</th>\n",
       "      <th>reviewText_len</th>\n",
       "      <th>summary_len</th>\n",
       "    </tr>\n",
       "  </thead>\n",
       "  <tbody>\n",
       "    <tr>\n",
       "      <th>79282</th>\n",
       "      <td>1</td>\n",
       "      <td>2014-03-21</td>\n",
       "      <td>reviewer</td>\n",
       "      <td>I'm guessing these are fried, not baked.  They...</td>\n",
       "      <td>OK, but high calories and fat</td>\n",
       "      <td>1395360000</td>\n",
       "      <td>0</td>\n",
       "      <td>{'Flavor:': ' Caramel'}</td>\n",
       "      <td>NaN</td>\n",
       "      <td>83743</td>\n",
       "      <td>6349</td>\n",
       "      <td>1</td>\n",
       "      <td>2014</td>\n",
       "      <td>3</td>\n",
       "      <td>21</td>\n",
       "      <td>5</td>\n",
       "      <td>375</td>\n",
       "      <td>29</td>\n",
       "    </tr>\n",
       "  </tbody>\n",
       "</table>\n",
       "</div>"
      ],
      "text/plain": [
       "       verified reviewTime reviewerName  \\\n",
       "79282         1 2014-03-21     reviewer   \n",
       "\n",
       "                                              reviewText  \\\n",
       "79282  I'm guessing these are fried, not baked.  They...   \n",
       "\n",
       "                             summary  unixReviewTime  vote  \\\n",
       "79282  OK, but high calories and fat      1395360000     0   \n",
       "\n",
       "                         style image  userid  itemid  rating  year  month  \\\n",
       "79282  {'Flavor:': ' Caramel'}   NaN   83743    6349       1  2014      3   \n",
       "\n",
       "       day  weekday  reviewText_len  summary_len  \n",
       "79282   21        5             375           29  "
      ]
     },
     "execution_count": 37,
     "metadata": {},
     "output_type": "execute_result"
    }
   ],
   "source": [
    "df[(df['userid']==83743) & (df['itemid']==6349)]"
   ]
  },
  {
   "cell_type": "code",
   "execution_count": 38,
   "metadata": {},
   "outputs": [
    {
     "data": {
      "text/plain": [
       "(812132, 18)"
      ]
     },
     "execution_count": 38,
     "metadata": {},
     "output_type": "execute_result"
    }
   ],
   "source": [
    "df.shape"
   ]
  },
  {
   "cell_type": "markdown",
   "metadata": {},
   "source": [
    "Посмотрим на корреляции:"
   ]
  },
  {
   "cell_type": "code",
   "execution_count": 39,
   "metadata": {},
   "outputs": [
    {
     "data": {
      "text/plain": [
       "rating            1.000000\n",
       "verified          0.071624\n",
       "year              0.013189\n",
       "unixReviewTime    0.012524\n",
       "weekday           0.000245\n",
       "day               0.000090\n",
       "month            -0.005737\n",
       "userid           -0.010027\n",
       "itemid           -0.026177\n",
       "vote             -0.027375\n",
       "reviewText_len   -0.081787\n",
       "summary_len      -0.083264\n",
       "Name: rating, dtype: float64"
      ]
     },
     "execution_count": 39,
     "metadata": {},
     "output_type": "execute_result"
    }
   ],
   "source": [
    "corr_matrix = df.corr()\n",
    "corr_matrix[\"rating\"].sort_values(ascending=False)"
   ]
  },
  {
   "cell_type": "markdown",
   "metadata": {},
   "source": [
    "Есть слабая положительная корреляция с признаком verified и слабая отрицательная связь с длиной отзыва и summary. Чем длиннее отзыв, тем хуже rating."
   ]
  },
  {
   "cell_type": "markdown",
   "metadata": {},
   "source": [
    "### Анализ товаров"
   ]
  },
  {
   "cell_type": "markdown",
   "metadata": {},
   "source": [
    "Сколько оценок у каждого товара?"
   ]
  },
  {
   "cell_type": "code",
   "execution_count": 40,
   "metadata": {},
   "outputs": [
    {
     "data": {
      "text/plain": [
       "itemid\n",
       "22208    4974\n",
       "23540    4449\n",
       "24556    4373\n",
       "32046    2355\n",
       "29237    1989\n",
       "1919     1976\n",
       "379      1923\n",
       "1378     1913\n",
       "4689     1898\n",
       "15137    1499\n",
       "Name: rating, dtype: int64"
      ]
     },
     "execution_count": 40,
     "metadata": {},
     "output_type": "execute_result"
    }
   ],
   "source": [
    "df.groupby('itemid')['rating'].count().sort_values(ascending=False).head(10)"
   ]
  },
  {
   "cell_type": "markdown",
   "metadata": {},
   "source": [
    "Есть очень популярные товары! Добавим эти результаты в датафрейм."
   ]
  },
  {
   "cell_type": "code",
   "execution_count": 41,
   "metadata": {},
   "outputs": [],
   "source": [
    "ratings = pd.DataFrame(df.groupby('itemid')['rating'].mean())\n",
    "ratings['number_ratings'] = df.groupby('itemid')['rating'].count()"
   ]
  },
  {
   "cell_type": "markdown",
   "metadata": {},
   "source": [
    "Сделаем колонку, в которой посчитаем процент того, понравился ли товар. 100% означает, что абсолютно всем покупателям товар понравился (товар имеет оценки только 4 или/и 5)."
   ]
  },
  {
   "cell_type": "code",
   "execution_count": 42,
   "metadata": {},
   "outputs": [],
   "source": [
    "ratings['satisfaction'] = (df.groupby('itemid')['rating'].mean() * 100).astype(int)"
   ]
  },
  {
   "cell_type": "code",
   "execution_count": 43,
   "metadata": {},
   "outputs": [
    {
     "data": {
      "text/html": [
       "<div>\n",
       "<style scoped>\n",
       "    .dataframe tbody tr th:only-of-type {\n",
       "        vertical-align: middle;\n",
       "    }\n",
       "\n",
       "    .dataframe tbody tr th {\n",
       "        vertical-align: top;\n",
       "    }\n",
       "\n",
       "    .dataframe thead th {\n",
       "        text-align: right;\n",
       "    }\n",
       "</style>\n",
       "<table border=\"1\" class=\"dataframe\">\n",
       "  <thead>\n",
       "    <tr style=\"text-align: right;\">\n",
       "      <th></th>\n",
       "      <th>rating</th>\n",
       "      <th>number_ratings</th>\n",
       "      <th>satisfaction</th>\n",
       "    </tr>\n",
       "    <tr>\n",
       "      <th>itemid</th>\n",
       "      <th></th>\n",
       "      <th></th>\n",
       "      <th></th>\n",
       "    </tr>\n",
       "  </thead>\n",
       "  <tbody>\n",
       "    <tr>\n",
       "      <th>0</th>\n",
       "      <td>1.000000</td>\n",
       "      <td>8</td>\n",
       "      <td>100</td>\n",
       "    </tr>\n",
       "    <tr>\n",
       "      <th>1</th>\n",
       "      <td>0.761905</td>\n",
       "      <td>21</td>\n",
       "      <td>76</td>\n",
       "    </tr>\n",
       "    <tr>\n",
       "      <th>2</th>\n",
       "      <td>1.000000</td>\n",
       "      <td>6</td>\n",
       "      <td>100</td>\n",
       "    </tr>\n",
       "    <tr>\n",
       "      <th>3</th>\n",
       "      <td>0.905405</td>\n",
       "      <td>74</td>\n",
       "      <td>90</td>\n",
       "    </tr>\n",
       "    <tr>\n",
       "      <th>4</th>\n",
       "      <td>0.800000</td>\n",
       "      <td>10</td>\n",
       "      <td>80</td>\n",
       "    </tr>\n",
       "  </tbody>\n",
       "</table>\n",
       "</div>"
      ],
      "text/plain": [
       "          rating  number_ratings  satisfaction\n",
       "itemid                                        \n",
       "0       1.000000               8           100\n",
       "1       0.761905              21            76\n",
       "2       1.000000               6           100\n",
       "3       0.905405              74            90\n",
       "4       0.800000              10            80"
      ]
     },
     "execution_count": 43,
     "metadata": {},
     "output_type": "execute_result"
    }
   ],
   "source": [
    "ratings.head()"
   ]
  },
  {
   "cell_type": "code",
   "execution_count": 44,
   "metadata": {
    "scrolled": true
   },
   "outputs": [
    {
     "data": {
      "text/plain": [
       "<matplotlib.axes._subplots.AxesSubplot at 0x29e004225c0>"
      ]
     },
     "execution_count": 44,
     "metadata": {},
     "output_type": "execute_result"
    },
    {
     "data": {
      "image/png": "[encoded data removed]",
      "text/plain": [
       "<Figure size 864x288 with 1 Axes>"
      ]
     },
     "metadata": {
      "needs_background": "light"
     },
     "output_type": "display_data"
    }
   ],
   "source": [
    "plt.figure(figsize=(12,4))\n",
    "plt.xlabel('Уровень удовлетворенности товаром, %')\n",
    "plt.ylabel('Частота')\n",
    "ratings['satisfaction'].hist(bins=100)"
   ]
  },
  {
   "cell_type": "markdown",
   "metadata": {},
   "source": [
    "Около 12000 из 41302 товаров понравились абсолютно всем, кто их оценил. Посмотрим на ТОП-10 этих товаров:"
   ]
  },
  {
   "cell_type": "code",
   "execution_count": 45,
   "metadata": {},
   "outputs": [
    {
     "data": {
      "text/html": [
       "<div>\n",
       "<style scoped>\n",
       "    .dataframe tbody tr th:only-of-type {\n",
       "        vertical-align: middle;\n",
       "    }\n",
       "\n",
       "    .dataframe tbody tr th {\n",
       "        vertical-align: top;\n",
       "    }\n",
       "\n",
       "    .dataframe thead th {\n",
       "        text-align: right;\n",
       "    }\n",
       "</style>\n",
       "<table border=\"1\" class=\"dataframe\">\n",
       "  <thead>\n",
       "    <tr style=\"text-align: right;\">\n",
       "      <th></th>\n",
       "      <th>rating</th>\n",
       "      <th>number_ratings</th>\n",
       "      <th>satisfaction</th>\n",
       "    </tr>\n",
       "    <tr>\n",
       "      <th>itemid</th>\n",
       "      <th></th>\n",
       "      <th></th>\n",
       "      <th></th>\n",
       "    </tr>\n",
       "  </thead>\n",
       "  <tbody>\n",
       "    <tr>\n",
       "      <th>13528</th>\n",
       "      <td>1.0</td>\n",
       "      <td>134</td>\n",
       "      <td>100</td>\n",
       "    </tr>\n",
       "    <tr>\n",
       "      <th>26310</th>\n",
       "      <td>1.0</td>\n",
       "      <td>110</td>\n",
       "      <td>100</td>\n",
       "    </tr>\n",
       "    <tr>\n",
       "      <th>2949</th>\n",
       "      <td>1.0</td>\n",
       "      <td>70</td>\n",
       "      <td>100</td>\n",
       "    </tr>\n",
       "    <tr>\n",
       "      <th>29784</th>\n",
       "      <td>1.0</td>\n",
       "      <td>60</td>\n",
       "      <td>100</td>\n",
       "    </tr>\n",
       "    <tr>\n",
       "      <th>11996</th>\n",
       "      <td>1.0</td>\n",
       "      <td>57</td>\n",
       "      <td>100</td>\n",
       "    </tr>\n",
       "    <tr>\n",
       "      <th>19272</th>\n",
       "      <td>1.0</td>\n",
       "      <td>57</td>\n",
       "      <td>100</td>\n",
       "    </tr>\n",
       "    <tr>\n",
       "      <th>20328</th>\n",
       "      <td>1.0</td>\n",
       "      <td>57</td>\n",
       "      <td>100</td>\n",
       "    </tr>\n",
       "    <tr>\n",
       "      <th>37168</th>\n",
       "      <td>1.0</td>\n",
       "      <td>55</td>\n",
       "      <td>100</td>\n",
       "    </tr>\n",
       "    <tr>\n",
       "      <th>20753</th>\n",
       "      <td>1.0</td>\n",
       "      <td>54</td>\n",
       "      <td>100</td>\n",
       "    </tr>\n",
       "    <tr>\n",
       "      <th>3270</th>\n",
       "      <td>1.0</td>\n",
       "      <td>54</td>\n",
       "      <td>100</td>\n",
       "    </tr>\n",
       "  </tbody>\n",
       "</table>\n",
       "</div>"
      ],
      "text/plain": [
       "        rating  number_ratings  satisfaction\n",
       "itemid                                      \n",
       "13528      1.0             134           100\n",
       "26310      1.0             110           100\n",
       "2949       1.0              70           100\n",
       "29784      1.0              60           100\n",
       "11996      1.0              57           100\n",
       "19272      1.0              57           100\n",
       "20328      1.0              57           100\n",
       "37168      1.0              55           100\n",
       "20753      1.0              54           100\n",
       "3270       1.0              54           100"
      ]
     },
     "execution_count": 45,
     "metadata": {},
     "output_type": "execute_result"
    }
   ],
   "source": [
    "ratings[ratings['satisfaction'] == 100].sort_values(by='number_ratings', ascending=False).head(10)"
   ]
  },
  {
   "cell_type": "markdown",
   "metadata": {},
   "source": [
    "Рекордсмен - товар под номером 13528! 134 довольных покупателей."
   ]
  },
  {
   "cell_type": "code",
   "execution_count": 46,
   "metadata": {
    "scrolled": false
   },
   "outputs": [
    {
     "data": {
      "text/html": [
       "<div>\n",
       "<style scoped>\n",
       "    .dataframe tbody tr th:only-of-type {\n",
       "        vertical-align: middle;\n",
       "    }\n",
       "\n",
       "    .dataframe tbody tr th {\n",
       "        vertical-align: top;\n",
       "    }\n",
       "\n",
       "    .dataframe thead th {\n",
       "        text-align: right;\n",
       "    }\n",
       "</style>\n",
       "<table border=\"1\" class=\"dataframe\">\n",
       "  <thead>\n",
       "    <tr style=\"text-align: right;\">\n",
       "      <th></th>\n",
       "      <th>verified</th>\n",
       "      <th>reviewTime</th>\n",
       "      <th>reviewerName</th>\n",
       "      <th>reviewText</th>\n",
       "      <th>summary</th>\n",
       "      <th>unixReviewTime</th>\n",
       "      <th>vote</th>\n",
       "      <th>style</th>\n",
       "      <th>image</th>\n",
       "      <th>userid</th>\n",
       "      <th>itemid</th>\n",
       "      <th>rating</th>\n",
       "      <th>year</th>\n",
       "      <th>month</th>\n",
       "      <th>day</th>\n",
       "      <th>weekday</th>\n",
       "      <th>reviewText_len</th>\n",
       "      <th>summary_len</th>\n",
       "    </tr>\n",
       "  </thead>\n",
       "  <tbody>\n",
       "    <tr>\n",
       "      <th>6747</th>\n",
       "      <td>1</td>\n",
       "      <td>2016-09-02</td>\n",
       "      <td>Cheryl  Smith</td>\n",
       "      <td>Anyone that loves these things knows how good ...</td>\n",
       "      <td>These are good</td>\n",
       "      <td>1472774400</td>\n",
       "      <td>0</td>\n",
       "      <td>NaN</td>\n",
       "      <td>NaN</td>\n",
       "      <td>21394</td>\n",
       "      <td>13528</td>\n",
       "      <td>1</td>\n",
       "      <td>2016</td>\n",
       "      <td>9</td>\n",
       "      <td>2</td>\n",
       "      <td>5</td>\n",
       "      <td>105</td>\n",
       "      <td>14</td>\n",
       "    </tr>\n",
       "    <tr>\n",
       "      <th>12692</th>\n",
       "      <td>1</td>\n",
       "      <td>2015-04-13</td>\n",
       "      <td>Joseph Van Tuggle</td>\n",
       "      <td>great product!!</td>\n",
       "      <td>Five Stars</td>\n",
       "      <td>1428883200</td>\n",
       "      <td>0</td>\n",
       "      <td>NaN</td>\n",
       "      <td>NaN</td>\n",
       "      <td>3150</td>\n",
       "      <td>13528</td>\n",
       "      <td>1</td>\n",
       "      <td>2015</td>\n",
       "      <td>4</td>\n",
       "      <td>13</td>\n",
       "      <td>1</td>\n",
       "      <td>15</td>\n",
       "      <td>10</td>\n",
       "    </tr>\n",
       "    <tr>\n",
       "      <th>21864</th>\n",
       "      <td>1</td>\n",
       "      <td>2014-12-08</td>\n",
       "      <td>DR</td>\n",
       "      <td>Just as described!</td>\n",
       "      <td>Five Stars</td>\n",
       "      <td>1417996800</td>\n",
       "      <td>0</td>\n",
       "      <td>NaN</td>\n",
       "      <td>NaN</td>\n",
       "      <td>98204</td>\n",
       "      <td>13528</td>\n",
       "      <td>1</td>\n",
       "      <td>2014</td>\n",
       "      <td>12</td>\n",
       "      <td>8</td>\n",
       "      <td>1</td>\n",
       "      <td>18</td>\n",
       "      <td>10</td>\n",
       "    </tr>\n",
       "    <tr>\n",
       "      <th>24558</th>\n",
       "      <td>0</td>\n",
       "      <td>2014-01-07</td>\n",
       "      <td>John L.</td>\n",
       "      <td>To me this is the best hard butterscotch candy...</td>\n",
       "      <td>Werther's</td>\n",
       "      <td>1389052800</td>\n",
       "      <td>0</td>\n",
       "      <td>NaN</td>\n",
       "      <td>NaN</td>\n",
       "      <td>18139</td>\n",
       "      <td>13528</td>\n",
       "      <td>1</td>\n",
       "      <td>2014</td>\n",
       "      <td>1</td>\n",
       "      <td>7</td>\n",
       "      <td>2</td>\n",
       "      <td>267</td>\n",
       "      <td>9</td>\n",
       "    </tr>\n",
       "    <tr>\n",
       "      <th>25126</th>\n",
       "      <td>0</td>\n",
       "      <td>2014-08-16</td>\n",
       "      <td>PerpetualLearner</td>\n",
       "      <td>I remember when I was a kid my grandpapa alway...</td>\n",
       "      <td>I used to eat these soft and warm from my gran...</td>\n",
       "      <td>1408147200</td>\n",
       "      <td>0</td>\n",
       "      <td>NaN</td>\n",
       "      <td>NaN</td>\n",
       "      <td>107308</td>\n",
       "      <td>13528</td>\n",
       "      <td>1</td>\n",
       "      <td>2014</td>\n",
       "      <td>8</td>\n",
       "      <td>16</td>\n",
       "      <td>6</td>\n",
       "      <td>279</td>\n",
       "      <td>61</td>\n",
       "    </tr>\n",
       "  </tbody>\n",
       "</table>\n",
       "</div>"
      ],
      "text/plain": [
       "       verified reviewTime       reviewerName  \\\n",
       "6747          1 2016-09-02      Cheryl  Smith   \n",
       "12692         1 2015-04-13  Joseph Van Tuggle   \n",
       "21864         1 2014-12-08                 DR   \n",
       "24558         0 2014-01-07            John L.   \n",
       "25126         0 2014-08-16   PerpetualLearner   \n",
       "\n",
       "                                              reviewText  \\\n",
       "6747   Anyone that loves these things knows how good ...   \n",
       "12692                                    great product!!   \n",
       "21864                                 Just as described!   \n",
       "24558  To me this is the best hard butterscotch candy...   \n",
       "25126  I remember when I was a kid my grandpapa alway...   \n",
       "\n",
       "                                                 summary  unixReviewTime  \\\n",
       "6747                                      These are good      1472774400   \n",
       "12692                                         Five Stars      1428883200   \n",
       "21864                                         Five Stars      1417996800   \n",
       "24558                                          Werther's      1389052800   \n",
       "25126  I used to eat these soft and warm from my gran...      1408147200   \n",
       "\n",
       "       vote style image  userid  itemid  rating  year  month  day  weekday  \\\n",
       "6747      0   NaN   NaN   21394   13528       1  2016      9    2        5   \n",
       "12692     0   NaN   NaN    3150   13528       1  2015      4   13        1   \n",
       "21864     0   NaN   NaN   98204   13528       1  2014     12    8        1   \n",
       "24558     0   NaN   NaN   18139   13528       1  2014      1    7        2   \n",
       "25126     0   NaN   NaN  107308   13528       1  2014      8   16        6   \n",
       "\n",
       "       reviewText_len  summary_len  \n",
       "6747              105           14  \n",
       "12692              15           10  \n",
       "21864              18           10  \n",
       "24558             267            9  \n",
       "25126             279           61  "
      ]
     },
     "execution_count": 46,
     "metadata": {},
     "output_type": "execute_result"
    }
   ],
   "source": [
    "df[df['itemid'] == 13528].head()"
   ]
  },
  {
   "cell_type": "markdown",
   "metadata": {},
   "source": [
    "Если пользователь будет выбирать товар данного типа, то можно смело рекомендовать ему этот вид как ХИТ. Таким же образом можно сделать для каждого вида товара, представленного в магазине."
   ]
  },
  {
   "cell_type": "markdown",
   "metadata": {},
   "source": [
    "Посмотрим на абсолютных аутсайдеров. Таких 132 штуки:"
   ]
  },
  {
   "cell_type": "code",
   "execution_count": 47,
   "metadata": {},
   "outputs": [
    {
     "data": {
      "text/plain": [
       "132"
      ]
     },
     "execution_count": 47,
     "metadata": {},
     "output_type": "execute_result"
    }
   ],
   "source": [
    "len(ratings[ratings['satisfaction'] == 0])"
   ]
  },
  {
   "cell_type": "code",
   "execution_count": 48,
   "metadata": {},
   "outputs": [
    {
     "data": {
      "text/html": [
       "<div>\n",
       "<style scoped>\n",
       "    .dataframe tbody tr th:only-of-type {\n",
       "        vertical-align: middle;\n",
       "    }\n",
       "\n",
       "    .dataframe tbody tr th {\n",
       "        vertical-align: top;\n",
       "    }\n",
       "\n",
       "    .dataframe thead th {\n",
       "        text-align: right;\n",
       "    }\n",
       "</style>\n",
       "<table border=\"1\" class=\"dataframe\">\n",
       "  <thead>\n",
       "    <tr style=\"text-align: right;\">\n",
       "      <th></th>\n",
       "      <th>rating</th>\n",
       "      <th>number_ratings</th>\n",
       "      <th>satisfaction</th>\n",
       "    </tr>\n",
       "    <tr>\n",
       "      <th>itemid</th>\n",
       "      <th></th>\n",
       "      <th></th>\n",
       "      <th></th>\n",
       "    </tr>\n",
       "  </thead>\n",
       "  <tbody>\n",
       "    <tr>\n",
       "      <th>17570</th>\n",
       "      <td>0.0</td>\n",
       "      <td>11</td>\n",
       "      <td>0</td>\n",
       "    </tr>\n",
       "    <tr>\n",
       "      <th>24428</th>\n",
       "      <td>0.0</td>\n",
       "      <td>6</td>\n",
       "      <td>0</td>\n",
       "    </tr>\n",
       "    <tr>\n",
       "      <th>31224</th>\n",
       "      <td>0.0</td>\n",
       "      <td>6</td>\n",
       "      <td>0</td>\n",
       "    </tr>\n",
       "    <tr>\n",
       "      <th>5807</th>\n",
       "      <td>0.0</td>\n",
       "      <td>5</td>\n",
       "      <td>0</td>\n",
       "    </tr>\n",
       "    <tr>\n",
       "      <th>39284</th>\n",
       "      <td>0.0</td>\n",
       "      <td>5</td>\n",
       "      <td>0</td>\n",
       "    </tr>\n",
       "  </tbody>\n",
       "</table>\n",
       "</div>"
      ],
      "text/plain": [
       "        rating  number_ratings  satisfaction\n",
       "itemid                                      \n",
       "17570      0.0              11             0\n",
       "24428      0.0               6             0\n",
       "31224      0.0               6             0\n",
       "5807       0.0               5             0\n",
       "39284      0.0               5             0"
      ]
     },
     "execution_count": 48,
     "metadata": {},
     "output_type": "execute_result"
    }
   ],
   "source": [
    "ratings[ratings['satisfaction'] == 0].sort_values(by='number_ratings', ascending=False).head()"
   ]
  },
  {
   "cell_type": "code",
   "execution_count": 49,
   "metadata": {},
   "outputs": [
    {
     "data": {
      "text/html": [
       "<div>\n",
       "<style scoped>\n",
       "    .dataframe tbody tr th:only-of-type {\n",
       "        vertical-align: middle;\n",
       "    }\n",
       "\n",
       "    .dataframe tbody tr th {\n",
       "        vertical-align: top;\n",
       "    }\n",
       "\n",
       "    .dataframe thead th {\n",
       "        text-align: right;\n",
       "    }\n",
       "</style>\n",
       "<table border=\"1\" class=\"dataframe\">\n",
       "  <thead>\n",
       "    <tr style=\"text-align: right;\">\n",
       "      <th></th>\n",
       "      <th>verified</th>\n",
       "      <th>reviewTime</th>\n",
       "      <th>reviewerName</th>\n",
       "      <th>reviewText</th>\n",
       "      <th>summary</th>\n",
       "      <th>unixReviewTime</th>\n",
       "      <th>vote</th>\n",
       "      <th>style</th>\n",
       "      <th>image</th>\n",
       "      <th>userid</th>\n",
       "      <th>itemid</th>\n",
       "      <th>rating</th>\n",
       "      <th>year</th>\n",
       "      <th>month</th>\n",
       "      <th>day</th>\n",
       "      <th>weekday</th>\n",
       "      <th>reviewText_len</th>\n",
       "      <th>summary_len</th>\n",
       "    </tr>\n",
       "  </thead>\n",
       "  <tbody>\n",
       "    <tr>\n",
       "      <th>52696</th>\n",
       "      <td>1</td>\n",
       "      <td>2011-10-14</td>\n",
       "      <td>owalt</td>\n",
       "      <td>This was a disappointing order. The coffee tas...</td>\n",
       "      <td>Coffee</td>\n",
       "      <td>1318550400</td>\n",
       "      <td>0</td>\n",
       "      <td>{'Size:': ' 48 Count'}</td>\n",
       "      <td>NaN</td>\n",
       "      <td>103714</td>\n",
       "      <td>17570</td>\n",
       "      <td>0</td>\n",
       "      <td>2011</td>\n",
       "      <td>10</td>\n",
       "      <td>14</td>\n",
       "      <td>5</td>\n",
       "      <td>172</td>\n",
       "      <td>6</td>\n",
       "    </tr>\n",
       "    <tr>\n",
       "      <th>135759</th>\n",
       "      <td>0</td>\n",
       "      <td>2011-10-25</td>\n",
       "      <td>BlueBellBlue</td>\n",
       "      <td>Like many other reviewers said, it's instant c...</td>\n",
       "      <td>Seems to jam up the machine</td>\n",
       "      <td>1319500800</td>\n",
       "      <td>2</td>\n",
       "      <td>{'Size:': ' 48 Count'}</td>\n",
       "      <td>NaN</td>\n",
       "      <td>77481</td>\n",
       "      <td>17570</td>\n",
       "      <td>0</td>\n",
       "      <td>2011</td>\n",
       "      <td>10</td>\n",
       "      <td>25</td>\n",
       "      <td>2</td>\n",
       "      <td>397</td>\n",
       "      <td>27</td>\n",
       "    </tr>\n",
       "    <tr>\n",
       "      <th>213649</th>\n",
       "      <td>1</td>\n",
       "      <td>2011-01-21</td>\n",
       "      <td>EdE</td>\n",
       "      <td>Just had my first cup of this coffee.  It is s...</td>\n",
       "      <td>Micro Grind</td>\n",
       "      <td>1295568000</td>\n",
       "      <td>7</td>\n",
       "      <td>{'Size:': ' 48 Count'}</td>\n",
       "      <td>NaN</td>\n",
       "      <td>50605</td>\n",
       "      <td>17570</td>\n",
       "      <td>0</td>\n",
       "      <td>2011</td>\n",
       "      <td>1</td>\n",
       "      <td>21</td>\n",
       "      <td>5</td>\n",
       "      <td>899</td>\n",
       "      <td>11</td>\n",
       "    </tr>\n",
       "    <tr>\n",
       "      <th>367588</th>\n",
       "      <td>1</td>\n",
       "      <td>2011-07-21</td>\n",
       "      <td>Jessica</td>\n",
       "      <td>These are instant coffee cups, not traditional...</td>\n",
       "      <td>Horrible</td>\n",
       "      <td>1311206400</td>\n",
       "      <td>0</td>\n",
       "      <td>{'Size:': ' 48 Count'}</td>\n",
       "      <td>NaN</td>\n",
       "      <td>31714</td>\n",
       "      <td>17570</td>\n",
       "      <td>0</td>\n",
       "      <td>2011</td>\n",
       "      <td>7</td>\n",
       "      <td>21</td>\n",
       "      <td>4</td>\n",
       "      <td>169</td>\n",
       "      <td>8</td>\n",
       "    </tr>\n",
       "    <tr>\n",
       "      <th>391197</th>\n",
       "      <td>1</td>\n",
       "      <td>2011-02-22</td>\n",
       "      <td>K.N</td>\n",
       "      <td>It is beyond me why anyone owning a keurig cof...</td>\n",
       "      <td>BUYER BEWARE-INSTANT COFFEE</td>\n",
       "      <td>1298332800</td>\n",
       "      <td>0</td>\n",
       "      <td>{'Size:': ' 48 Count'}</td>\n",
       "      <td>NaN</td>\n",
       "      <td>109748</td>\n",
       "      <td>17570</td>\n",
       "      <td>0</td>\n",
       "      <td>2011</td>\n",
       "      <td>2</td>\n",
       "      <td>22</td>\n",
       "      <td>2</td>\n",
       "      <td>816</td>\n",
       "      <td>27</td>\n",
       "    </tr>\n",
       "  </tbody>\n",
       "</table>\n",
       "</div>"
      ],
      "text/plain": [
       "        verified reviewTime  reviewerName  \\\n",
       "52696          1 2011-10-14         owalt   \n",
       "135759         0 2011-10-25  BlueBellBlue   \n",
       "213649         1 2011-01-21           EdE   \n",
       "367588         1 2011-07-21       Jessica   \n",
       "391197         1 2011-02-22           K.N   \n",
       "\n",
       "                                               reviewText  \\\n",
       "52696   This was a disappointing order. The coffee tas...   \n",
       "135759  Like many other reviewers said, it's instant c...   \n",
       "213649  Just had my first cup of this coffee.  It is s...   \n",
       "367588  These are instant coffee cups, not traditional...   \n",
       "391197  It is beyond me why anyone owning a keurig cof...   \n",
       "\n",
       "                            summary  unixReviewTime  vote  \\\n",
       "52696                        Coffee      1318550400     0   \n",
       "135759  Seems to jam up the machine      1319500800     2   \n",
       "213649                  Micro Grind      1295568000     7   \n",
       "367588                     Horrible      1311206400     0   \n",
       "391197  BUYER BEWARE-INSTANT COFFEE      1298332800     0   \n",
       "\n",
       "                         style image  userid  itemid  rating  year  month  \\\n",
       "52696   {'Size:': ' 48 Count'}   NaN  103714   17570       0  2011     10   \n",
       "135759  {'Size:': ' 48 Count'}   NaN   77481   17570       0  2011     10   \n",
       "213649  {'Size:': ' 48 Count'}   NaN   50605   17570       0  2011      1   \n",
       "367588  {'Size:': ' 48 Count'}   NaN   31714   17570       0  2011      7   \n",
       "391197  {'Size:': ' 48 Count'}   NaN  109748   17570       0  2011      2   \n",
       "\n",
       "        day  weekday  reviewText_len  summary_len  \n",
       "52696    14        5             172            6  \n",
       "135759   25        2             397           27  \n",
       "213649   21        5             899           11  \n",
       "367588   21        4             169            8  \n",
       "391197   22        2             816           27  "
      ]
     },
     "execution_count": 49,
     "metadata": {},
     "output_type": "execute_result"
    }
   ],
   "source": [
    "df[df['itemid'] == 17570].head()"
   ]
  },
  {
   "cell_type": "markdown",
   "metadata": {},
   "source": [
    "Антилидер магазина - кофе под номером 17570. Товар никому не понравился."
   ]
  },
  {
   "cell_type": "code",
   "execution_count": 50,
   "metadata": {
    "scrolled": true
   },
   "outputs": [
    {
     "data": {
      "text/html": [
       "<div>\n",
       "<style scoped>\n",
       "    .dataframe tbody tr th:only-of-type {\n",
       "        vertical-align: middle;\n",
       "    }\n",
       "\n",
       "    .dataframe tbody tr th {\n",
       "        vertical-align: top;\n",
       "    }\n",
       "\n",
       "    .dataframe thead th {\n",
       "        text-align: right;\n",
       "    }\n",
       "</style>\n",
       "<table border=\"1\" class=\"dataframe\">\n",
       "  <thead>\n",
       "    <tr style=\"text-align: right;\">\n",
       "      <th></th>\n",
       "      <th>rating</th>\n",
       "      <th>number_ratings</th>\n",
       "      <th>satisfaction</th>\n",
       "    </tr>\n",
       "  </thead>\n",
       "  <tbody>\n",
       "    <tr>\n",
       "      <th>count</th>\n",
       "      <td>41302.000000</td>\n",
       "      <td>41302.000000</td>\n",
       "      <td>41302.000000</td>\n",
       "    </tr>\n",
       "    <tr>\n",
       "      <th>mean</th>\n",
       "      <td>0.832686</td>\n",
       "      <td>19.663261</td>\n",
       "      <td>83.002833</td>\n",
       "    </tr>\n",
       "    <tr>\n",
       "      <th>std</th>\n",
       "      <td>0.168439</td>\n",
       "      <td>64.970736</td>\n",
       "      <td>16.897517</td>\n",
       "    </tr>\n",
       "    <tr>\n",
       "      <th>min</th>\n",
       "      <td>0.000000</td>\n",
       "      <td>1.000000</td>\n",
       "      <td>0.000000</td>\n",
       "    </tr>\n",
       "    <tr>\n",
       "      <th>25%</th>\n",
       "      <td>0.750000</td>\n",
       "      <td>5.000000</td>\n",
       "      <td>75.000000</td>\n",
       "    </tr>\n",
       "    <tr>\n",
       "      <th>50%</th>\n",
       "      <td>0.857143</td>\n",
       "      <td>8.000000</td>\n",
       "      <td>85.000000</td>\n",
       "    </tr>\n",
       "    <tr>\n",
       "      <th>75%</th>\n",
       "      <td>1.000000</td>\n",
       "      <td>16.000000</td>\n",
       "      <td>100.000000</td>\n",
       "    </tr>\n",
       "    <tr>\n",
       "      <th>max</th>\n",
       "      <td>1.000000</td>\n",
       "      <td>4974.000000</td>\n",
       "      <td>100.000000</td>\n",
       "    </tr>\n",
       "  </tbody>\n",
       "</table>\n",
       "</div>"
      ],
      "text/plain": [
       "             rating  number_ratings  satisfaction\n",
       "count  41302.000000    41302.000000  41302.000000\n",
       "mean       0.832686       19.663261     83.002833\n",
       "std        0.168439       64.970736     16.897517\n",
       "min        0.000000        1.000000      0.000000\n",
       "25%        0.750000        5.000000     75.000000\n",
       "50%        0.857143        8.000000     85.000000\n",
       "75%        1.000000       16.000000    100.000000\n",
       "max        1.000000     4974.000000    100.000000"
      ]
     },
     "execution_count": 50,
     "metadata": {},
     "output_type": "execute_result"
    }
   ],
   "source": [
    "ratings.describe()"
   ]
  },
  {
   "cell_type": "code",
   "execution_count": 51,
   "metadata": {
    "scrolled": true
   },
   "outputs": [
    {
     "data": {
      "text/plain": [
       "<matplotlib.axes._subplots.AxesSubplot at 0x29e0064f6d8>"
      ]
     },
     "execution_count": 51,
     "metadata": {},
     "output_type": "execute_result"
    },
    {
     "data": {
      "image/png": "[encoded data removed]",
      "text/plain": [
       "<Figure size 864x288 with 1 Axes>"
      ]
     },
     "metadata": {
      "needs_background": "light"
     },
     "output_type": "display_data"
    }
   ],
   "source": [
    "plt.figure(figsize=(12,4))\n",
    "plt.xlabel('Количество оценок у товара')\n",
    "plt.ylabel('Частота')\n",
    "ratings['number_ratings'].hist(bins=80)"
   ]
  },
  {
   "cell_type": "markdown",
   "metadata": {},
   "source": [
    "75% товаров имеют количество оценок < 16"
   ]
  },
  {
   "cell_type": "code",
   "execution_count": 52,
   "metadata": {
    "scrolled": false
   },
   "outputs": [
    {
     "data": {
      "text/plain": [
       "<seaborn.axisgrid.JointGrid at 0x29e00733748>"
      ]
     },
     "execution_count": 52,
     "metadata": {},
     "output_type": "execute_result"
    },
    {
     "data": {
      "image/png": "[encoded data removed]",
      "text/plain": [
       "<Figure size 432x432 with 3 Axes>"
      ]
     },
     "metadata": {
      "needs_background": "light"
     },
     "output_type": "display_data"
    }
   ],
   "source": [
    "sns.jointplot(x='rating', y='number_ratings', data=ratings, alpha=0.3)"
   ]
  },
  {
   "cell_type": "markdown",
   "metadata": {},
   "source": [
    "Возьмем товары с количеством оценок больше 150"
   ]
  },
  {
   "cell_type": "code",
   "execution_count": 53,
   "metadata": {
    "scrolled": false
   },
   "outputs": [
    {
     "data": {
      "text/plain": [
       "<seaborn.axisgrid.JointGrid at 0x29e008bf320>"
      ]
     },
     "execution_count": 53,
     "metadata": {},
     "output_type": "execute_result"
    },
    {
     "data": {
      "image/png": "[encoded data removed]",
      "text/plain": [
       "<Figure size 432x432 with 3 Axes>"
      ]
     },
     "metadata": {
      "needs_background": "light"
     },
     "output_type": "display_data"
    }
   ],
   "source": [
    "sns.jointplot(x='rating', y='number_ratings', data=ratings[ratings['number_ratings']>150], alpha=0.3)"
   ]
  },
  {
   "cell_type": "markdown",
   "metadata": {},
   "source": [
    "#### Чем больше оценок, тем выше средний рейтинг товара. Нужно показывать пользователю товары с большим количеством оценок.\n",
    "Посмотрим на ТОП-10 таких товаров:"
   ]
  },
  {
   "cell_type": "code",
   "execution_count": 54,
   "metadata": {},
   "outputs": [
    {
     "data": {
      "text/html": [
       "<div>\n",
       "<style scoped>\n",
       "    .dataframe tbody tr th:only-of-type {\n",
       "        vertical-align: middle;\n",
       "    }\n",
       "\n",
       "    .dataframe tbody tr th {\n",
       "        vertical-align: top;\n",
       "    }\n",
       "\n",
       "    .dataframe thead th {\n",
       "        text-align: right;\n",
       "    }\n",
       "</style>\n",
       "<table border=\"1\" class=\"dataframe\">\n",
       "  <thead>\n",
       "    <tr style=\"text-align: right;\">\n",
       "      <th></th>\n",
       "      <th>rating</th>\n",
       "      <th>number_ratings</th>\n",
       "      <th>satisfaction</th>\n",
       "    </tr>\n",
       "    <tr>\n",
       "      <th>itemid</th>\n",
       "      <th></th>\n",
       "      <th></th>\n",
       "      <th></th>\n",
       "    </tr>\n",
       "  </thead>\n",
       "  <tbody>\n",
       "    <tr>\n",
       "      <th>22208</th>\n",
       "      <td>0.884399</td>\n",
       "      <td>4974</td>\n",
       "      <td>88</td>\n",
       "    </tr>\n",
       "    <tr>\n",
       "      <th>23540</th>\n",
       "      <td>0.885592</td>\n",
       "      <td>4449</td>\n",
       "      <td>88</td>\n",
       "    </tr>\n",
       "    <tr>\n",
       "      <th>24556</th>\n",
       "      <td>0.886348</td>\n",
       "      <td>4373</td>\n",
       "      <td>88</td>\n",
       "    </tr>\n",
       "    <tr>\n",
       "      <th>32046</th>\n",
       "      <td>0.880679</td>\n",
       "      <td>2355</td>\n",
       "      <td>88</td>\n",
       "    </tr>\n",
       "    <tr>\n",
       "      <th>29237</th>\n",
       "      <td>0.883861</td>\n",
       "      <td>1989</td>\n",
       "      <td>88</td>\n",
       "    </tr>\n",
       "    <tr>\n",
       "      <th>1919</th>\n",
       "      <td>0.909413</td>\n",
       "      <td>1976</td>\n",
       "      <td>90</td>\n",
       "    </tr>\n",
       "    <tr>\n",
       "      <th>379</th>\n",
       "      <td>0.906916</td>\n",
       "      <td>1923</td>\n",
       "      <td>90</td>\n",
       "    </tr>\n",
       "    <tr>\n",
       "      <th>1378</th>\n",
       "      <td>0.879770</td>\n",
       "      <td>1913</td>\n",
       "      <td>87</td>\n",
       "    </tr>\n",
       "    <tr>\n",
       "      <th>4689</th>\n",
       "      <td>0.896207</td>\n",
       "      <td>1898</td>\n",
       "      <td>89</td>\n",
       "    </tr>\n",
       "    <tr>\n",
       "      <th>15137</th>\n",
       "      <td>0.831221</td>\n",
       "      <td>1499</td>\n",
       "      <td>83</td>\n",
       "    </tr>\n",
       "  </tbody>\n",
       "</table>\n",
       "</div>"
      ],
      "text/plain": [
       "          rating  number_ratings  satisfaction\n",
       "itemid                                        \n",
       "22208   0.884399            4974            88\n",
       "23540   0.885592            4449            88\n",
       "24556   0.886348            4373            88\n",
       "32046   0.880679            2355            88\n",
       "29237   0.883861            1989            88\n",
       "1919    0.909413            1976            90\n",
       "379     0.906916            1923            90\n",
       "1378    0.879770            1913            87\n",
       "4689    0.896207            1898            89\n",
       "15137   0.831221            1499            83"
      ]
     },
     "execution_count": 54,
     "metadata": {},
     "output_type": "execute_result"
    }
   ],
   "source": [
    "ratings.sort_values('number_ratings', ascending=False).head(10)"
   ]
  },
  {
   "cell_type": "markdown",
   "metadata": {},
   "source": [
    "Посмотрим на самый продаваемый товар. Это товар с id = 22208. Товар из категории \"Snack\". Кстати, все товары из ТОП-4 это \"Snack\"."
   ]
  },
  {
   "cell_type": "code",
   "execution_count": 55,
   "metadata": {},
   "outputs": [
    {
     "data": {
      "text/html": [
       "<div>\n",
       "<style scoped>\n",
       "    .dataframe tbody tr th:only-of-type {\n",
       "        vertical-align: middle;\n",
       "    }\n",
       "\n",
       "    .dataframe tbody tr th {\n",
       "        vertical-align: top;\n",
       "    }\n",
       "\n",
       "    .dataframe thead th {\n",
       "        text-align: right;\n",
       "    }\n",
       "</style>\n",
       "<table border=\"1\" class=\"dataframe\">\n",
       "  <thead>\n",
       "    <tr style=\"text-align: right;\">\n",
       "      <th></th>\n",
       "      <th>verified</th>\n",
       "      <th>reviewTime</th>\n",
       "      <th>reviewerName</th>\n",
       "      <th>reviewText</th>\n",
       "      <th>summary</th>\n",
       "      <th>unixReviewTime</th>\n",
       "      <th>vote</th>\n",
       "      <th>style</th>\n",
       "      <th>image</th>\n",
       "      <th>userid</th>\n",
       "      <th>itemid</th>\n",
       "      <th>rating</th>\n",
       "      <th>year</th>\n",
       "      <th>month</th>\n",
       "      <th>day</th>\n",
       "      <th>weekday</th>\n",
       "      <th>reviewText_len</th>\n",
       "      <th>summary_len</th>\n",
       "    </tr>\n",
       "  </thead>\n",
       "  <tbody>\n",
       "    <tr>\n",
       "      <th>41</th>\n",
       "      <td>1</td>\n",
       "      <td>2017-03-04</td>\n",
       "      <td>E.S.</td>\n",
       "      <td>The dark chocolate and sea salt are a deliciou...</td>\n",
       "      <td>Great taste!</td>\n",
       "      <td>1488585600</td>\n",
       "      <td>0</td>\n",
       "      <td>NaN</td>\n",
       "      <td>NaN</td>\n",
       "      <td>111921</td>\n",
       "      <td>22208</td>\n",
       "      <td>1</td>\n",
       "      <td>2017</td>\n",
       "      <td>3</td>\n",
       "      <td>4</td>\n",
       "      <td>6</td>\n",
       "      <td>60</td>\n",
       "      <td>12</td>\n",
       "    </tr>\n",
       "    <tr>\n",
       "      <th>248</th>\n",
       "      <td>1</td>\n",
       "      <td>2017-08-31</td>\n",
       "      <td>booksrock</td>\n",
       "      <td>Delicious! My second favorite Kind bar!</td>\n",
       "      <td>My second favorite Kind bar</td>\n",
       "      <td>1504137600</td>\n",
       "      <td>0</td>\n",
       "      <td>NaN</td>\n",
       "      <td>NaN</td>\n",
       "      <td>123191</td>\n",
       "      <td>22208</td>\n",
       "      <td>1</td>\n",
       "      <td>2017</td>\n",
       "      <td>8</td>\n",
       "      <td>31</td>\n",
       "      <td>4</td>\n",
       "      <td>39</td>\n",
       "      <td>27</td>\n",
       "    </tr>\n",
       "    <tr>\n",
       "      <th>400</th>\n",
       "      <td>1</td>\n",
       "      <td>2015-03-02</td>\n",
       "      <td>Sara M. Mclaurin</td>\n",
       "      <td>delicious; satisfies the sweet tooth.  Chewey,...</td>\n",
       "      <td>Yum!</td>\n",
       "      <td>1425254400</td>\n",
       "      <td>0</td>\n",
       "      <td>NaN</td>\n",
       "      <td>NaN</td>\n",
       "      <td>59398</td>\n",
       "      <td>22208</td>\n",
       "      <td>1</td>\n",
       "      <td>2015</td>\n",
       "      <td>3</td>\n",
       "      <td>2</td>\n",
       "      <td>1</td>\n",
       "      <td>80</td>\n",
       "      <td>4</td>\n",
       "    </tr>\n",
       "    <tr>\n",
       "      <th>599</th>\n",
       "      <td>1</td>\n",
       "      <td>2013-08-11</td>\n",
       "      <td>C. Simmons</td>\n",
       "      <td>These are my favorite kind bars. They are grea...</td>\n",
       "      <td>These are really good</td>\n",
       "      <td>1376179200</td>\n",
       "      <td>0</td>\n",
       "      <td>NaN</td>\n",
       "      <td>NaN</td>\n",
       "      <td>109335</td>\n",
       "      <td>22208</td>\n",
       "      <td>1</td>\n",
       "      <td>2013</td>\n",
       "      <td>8</td>\n",
       "      <td>11</td>\n",
       "      <td>0</td>\n",
       "      <td>404</td>\n",
       "      <td>21</td>\n",
       "    </tr>\n",
       "    <tr>\n",
       "      <th>1119</th>\n",
       "      <td>1</td>\n",
       "      <td>2014-10-30</td>\n",
       "      <td>T. Lee</td>\n",
       "      <td>Love these!  I had heard of Kind bars, but nev...</td>\n",
       "      <td>Love these! I had heard of Kind bars</td>\n",
       "      <td>1414627200</td>\n",
       "      <td>0</td>\n",
       "      <td>NaN</td>\n",
       "      <td>NaN</td>\n",
       "      <td>111187</td>\n",
       "      <td>22208</td>\n",
       "      <td>1</td>\n",
       "      <td>2014</td>\n",
       "      <td>10</td>\n",
       "      <td>30</td>\n",
       "      <td>4</td>\n",
       "      <td>393</td>\n",
       "      <td>36</td>\n",
       "    </tr>\n",
       "  </tbody>\n",
       "</table>\n",
       "</div>"
      ],
      "text/plain": [
       "      verified reviewTime      reviewerName  \\\n",
       "41           1 2017-03-04              E.S.   \n",
       "248          1 2017-08-31         booksrock   \n",
       "400          1 2015-03-02  Sara M. Mclaurin   \n",
       "599          1 2013-08-11        C. Simmons   \n",
       "1119         1 2014-10-30            T. Lee   \n",
       "\n",
       "                                             reviewText  \\\n",
       "41    The dark chocolate and sea salt are a deliciou...   \n",
       "248             Delicious! My second favorite Kind bar!   \n",
       "400   delicious; satisfies the sweet tooth.  Chewey,...   \n",
       "599   These are my favorite kind bars. They are grea...   \n",
       "1119  Love these!  I had heard of Kind bars, but nev...   \n",
       "\n",
       "                                   summary  unixReviewTime  vote style image  \\\n",
       "41                            Great taste!      1488585600     0   NaN   NaN   \n",
       "248            My second favorite Kind bar      1504137600     0   NaN   NaN   \n",
       "400                                   Yum!      1425254400     0   NaN   NaN   \n",
       "599                  These are really good      1376179200     0   NaN   NaN   \n",
       "1119  Love these! I had heard of Kind bars      1414627200     0   NaN   NaN   \n",
       "\n",
       "      userid  itemid  rating  year  month  day  weekday  reviewText_len  \\\n",
       "41    111921   22208       1  2017      3    4        6              60   \n",
       "248   123191   22208       1  2017      8   31        4              39   \n",
       "400    59398   22208       1  2015      3    2        1              80   \n",
       "599   109335   22208       1  2013      8   11        0             404   \n",
       "1119  111187   22208       1  2014     10   30        4             393   \n",
       "\n",
       "      summary_len  \n",
       "41             12  \n",
       "248            27  \n",
       "400             4  \n",
       "599            21  \n",
       "1119           36  "
      ]
     },
     "execution_count": 55,
     "metadata": {},
     "output_type": "execute_result"
    }
   ],
   "source": [
    "df[df['itemid'] == 22208].head()"
   ]
  },
  {
   "cell_type": "code",
   "execution_count": 56,
   "metadata": {
    "scrolled": true
   },
   "outputs": [
    {
     "data": {
      "text/html": [
       "<div>\n",
       "<style scoped>\n",
       "    .dataframe tbody tr th:only-of-type {\n",
       "        vertical-align: middle;\n",
       "    }\n",
       "\n",
       "    .dataframe tbody tr th {\n",
       "        vertical-align: top;\n",
       "    }\n",
       "\n",
       "    .dataframe thead th {\n",
       "        text-align: right;\n",
       "    }\n",
       "</style>\n",
       "<table border=\"1\" class=\"dataframe\">\n",
       "  <thead>\n",
       "    <tr style=\"text-align: right;\">\n",
       "      <th></th>\n",
       "      <th>itemid</th>\n",
       "      <th>rating</th>\n",
       "      <th>number_ratings</th>\n",
       "      <th>satisfaction</th>\n",
       "    </tr>\n",
       "  </thead>\n",
       "  <tbody>\n",
       "    <tr>\n",
       "      <th>0</th>\n",
       "      <td>0</td>\n",
       "      <td>1.000000</td>\n",
       "      <td>8</td>\n",
       "      <td>100</td>\n",
       "    </tr>\n",
       "    <tr>\n",
       "      <th>1</th>\n",
       "      <td>1</td>\n",
       "      <td>0.761905</td>\n",
       "      <td>21</td>\n",
       "      <td>76</td>\n",
       "    </tr>\n",
       "    <tr>\n",
       "      <th>2</th>\n",
       "      <td>2</td>\n",
       "      <td>1.000000</td>\n",
       "      <td>6</td>\n",
       "      <td>100</td>\n",
       "    </tr>\n",
       "    <tr>\n",
       "      <th>3</th>\n",
       "      <td>3</td>\n",
       "      <td>0.905405</td>\n",
       "      <td>74</td>\n",
       "      <td>90</td>\n",
       "    </tr>\n",
       "    <tr>\n",
       "      <th>4</th>\n",
       "      <td>4</td>\n",
       "      <td>0.800000</td>\n",
       "      <td>10</td>\n",
       "      <td>80</td>\n",
       "    </tr>\n",
       "    <tr>\n",
       "      <th>...</th>\n",
       "      <td>...</td>\n",
       "      <td>...</td>\n",
       "      <td>...</td>\n",
       "      <td>...</td>\n",
       "    </tr>\n",
       "    <tr>\n",
       "      <th>41297</th>\n",
       "      <td>41315</td>\n",
       "      <td>0.750000</td>\n",
       "      <td>4</td>\n",
       "      <td>75</td>\n",
       "    </tr>\n",
       "    <tr>\n",
       "      <th>41298</th>\n",
       "      <td>41316</td>\n",
       "      <td>1.000000</td>\n",
       "      <td>3</td>\n",
       "      <td>100</td>\n",
       "    </tr>\n",
       "    <tr>\n",
       "      <th>41299</th>\n",
       "      <td>41317</td>\n",
       "      <td>0.750000</td>\n",
       "      <td>4</td>\n",
       "      <td>75</td>\n",
       "    </tr>\n",
       "    <tr>\n",
       "      <th>41300</th>\n",
       "      <td>41318</td>\n",
       "      <td>1.000000</td>\n",
       "      <td>2</td>\n",
       "      <td>100</td>\n",
       "    </tr>\n",
       "    <tr>\n",
       "      <th>41301</th>\n",
       "      <td>41319</td>\n",
       "      <td>1.000000</td>\n",
       "      <td>2</td>\n",
       "      <td>100</td>\n",
       "    </tr>\n",
       "  </tbody>\n",
       "</table>\n",
       "<p>41302 rows × 4 columns</p>\n",
       "</div>"
      ],
      "text/plain": [
       "       itemid    rating  number_ratings  satisfaction\n",
       "0           0  1.000000               8           100\n",
       "1           1  0.761905              21            76\n",
       "2           2  1.000000               6           100\n",
       "3           3  0.905405              74            90\n",
       "4           4  0.800000              10            80\n",
       "...       ...       ...             ...           ...\n",
       "41297   41315  0.750000               4            75\n",
       "41298   41316  1.000000               3           100\n",
       "41299   41317  0.750000               4            75\n",
       "41300   41318  1.000000               2           100\n",
       "41301   41319  1.000000               2           100\n",
       "\n",
       "[41302 rows x 4 columns]"
      ]
     },
     "execution_count": 56,
     "metadata": {},
     "output_type": "execute_result"
    }
   ],
   "source": [
    "ratings.reset_index(inplace=True)\n",
    "ratings"
   ]
  },
  {
   "cell_type": "markdown",
   "metadata": {},
   "source": [
    "Товары с некоторыми id отсутствуют в списке"
   ]
  },
  {
   "cell_type": "code",
   "execution_count": 57,
   "metadata": {
    "scrolled": true
   },
   "outputs": [
    {
     "name": "stdout",
     "output_type": "stream",
     "text": [
      "2398\n",
      "2513\n",
      "5187\n",
      "6265\n",
      "6500\n",
      "6564\n",
      "23183\n",
      "29382\n",
      "32861\n",
      "33885\n",
      "34321\n",
      "35193\n",
      "35331\n",
      "38860\n",
      "38875\n",
      "38890\n",
      "39019\n",
      "39031\n"
     ]
    }
   ],
   "source": [
    "for i in range(41320):\n",
    "    if i not in ratings['itemid'].values:\n",
    "        print(i)"
   ]
  },
  {
   "cell_type": "markdown",
   "metadata": {},
   "source": [
    "### Анализ пользователей"
   ]
  },
  {
   "cell_type": "markdown",
   "metadata": {},
   "source": [
    "Посмотрим на средний рейтинг каждого пользователя:"
   ]
  },
  {
   "cell_type": "code",
   "execution_count": 58,
   "metadata": {},
   "outputs": [
    {
     "data": {
      "text/plain": [
       "userid\n",
       "127495    1.0\n",
       "58018     1.0\n",
       "58005     1.0\n",
       "58006     1.0\n",
       "58007     1.0\n",
       "Name: rating, dtype: float64"
      ]
     },
     "execution_count": 58,
     "metadata": {},
     "output_type": "execute_result"
    }
   ],
   "source": [
    "df.groupby('userid')['rating'].mean().sort_values(ascending=False).head()"
   ]
  },
  {
   "cell_type": "markdown",
   "metadata": {},
   "source": [
    "Сколько товаров оценил каждый пользователь?"
   ]
  },
  {
   "cell_type": "code",
   "execution_count": 59,
   "metadata": {},
   "outputs": [
    {
     "data": {
      "text/plain": [
       "userid\n",
       "842      373\n",
       "355      275\n",
       "2024     274\n",
       "2809     249\n",
       "17987    249\n",
       "424      202\n",
       "1874     190\n",
       "4116     190\n",
       "888      188\n",
       "3528     187\n",
       "Name: rating, dtype: int64"
      ]
     },
     "execution_count": 59,
     "metadata": {},
     "output_type": "execute_result"
    }
   ],
   "source": [
    "df.groupby('userid')['rating'].count().sort_values(ascending=False).head(10)"
   ]
  },
  {
   "cell_type": "markdown",
   "metadata": {},
   "source": [
    "Пользователь \"842\" очень активен! Соберем все в датафрейм."
   ]
  },
  {
   "cell_type": "code",
   "execution_count": 60,
   "metadata": {},
   "outputs": [],
   "source": [
    "users = pd.DataFrame(df.groupby('userid')['rating'].mean())\n",
    "users['number_ratings'] = df.groupby('userid')['rating'].count()"
   ]
  },
  {
   "cell_type": "markdown",
   "metadata": {},
   "source": [
    "Сделаем колонку, в которой посчитаем процент того, понравился ли товар. 100% означает, что абсолютно все товары понравились пользователю (товар имеет оценки только 4 или/и 5)."
   ]
  },
  {
   "cell_type": "code",
   "execution_count": 61,
   "metadata": {},
   "outputs": [
    {
     "data": {
      "text/html": [
       "<div>\n",
       "<style scoped>\n",
       "    .dataframe tbody tr th:only-of-type {\n",
       "        vertical-align: middle;\n",
       "    }\n",
       "\n",
       "    .dataframe tbody tr th {\n",
       "        vertical-align: top;\n",
       "    }\n",
       "\n",
       "    .dataframe thead th {\n",
       "        text-align: right;\n",
       "    }\n",
       "</style>\n",
       "<table border=\"1\" class=\"dataframe\">\n",
       "  <thead>\n",
       "    <tr style=\"text-align: right;\">\n",
       "      <th></th>\n",
       "      <th>rating</th>\n",
       "      <th>number_ratings</th>\n",
       "      <th>satisfaction</th>\n",
       "    </tr>\n",
       "    <tr>\n",
       "      <th>userid</th>\n",
       "      <th></th>\n",
       "      <th></th>\n",
       "      <th></th>\n",
       "    </tr>\n",
       "  </thead>\n",
       "  <tbody>\n",
       "    <tr>\n",
       "      <th>0</th>\n",
       "      <td>1.000000</td>\n",
       "      <td>2</td>\n",
       "      <td>100</td>\n",
       "    </tr>\n",
       "    <tr>\n",
       "      <th>1</th>\n",
       "      <td>0.866667</td>\n",
       "      <td>15</td>\n",
       "      <td>86</td>\n",
       "    </tr>\n",
       "    <tr>\n",
       "      <th>2</th>\n",
       "      <td>0.888889</td>\n",
       "      <td>18</td>\n",
       "      <td>88</td>\n",
       "    </tr>\n",
       "    <tr>\n",
       "      <th>3</th>\n",
       "      <td>0.857143</td>\n",
       "      <td>7</td>\n",
       "      <td>85</td>\n",
       "    </tr>\n",
       "    <tr>\n",
       "      <th>4</th>\n",
       "      <td>0.833333</td>\n",
       "      <td>6</td>\n",
       "      <td>83</td>\n",
       "    </tr>\n",
       "  </tbody>\n",
       "</table>\n",
       "</div>"
      ],
      "text/plain": [
       "          rating  number_ratings  satisfaction\n",
       "userid                                        \n",
       "0       1.000000               2           100\n",
       "1       0.866667              15            86\n",
       "2       0.888889              18            88\n",
       "3       0.857143               7            85\n",
       "4       0.833333               6            83"
      ]
     },
     "execution_count": 61,
     "metadata": {},
     "output_type": "execute_result"
    }
   ],
   "source": [
    "users['satisfaction'] = (df.groupby('userid')['rating'].mean() * 100).astype(int)\n",
    "users.head()"
   ]
  },
  {
   "cell_type": "code",
   "execution_count": 62,
   "metadata": {},
   "outputs": [
    {
     "data": {
      "text/plain": [
       "<matplotlib.axes._subplots.AxesSubplot at 0x29e00ac0940>"
      ]
     },
     "execution_count": 62,
     "metadata": {},
     "output_type": "execute_result"
    },
    {
     "data": {
      "image/png": "[encoded data removed]",
      "text/plain": [
       "<Figure size 864x288 with 1 Axes>"
      ]
     },
     "metadata": {
      "needs_background": "light"
     },
     "output_type": "display_data"
    }
   ],
   "source": [
    "plt.figure(figsize=(12,4))\n",
    "plt.xlabel('Уровень удовлетворенности товаром, %')\n",
    "plt.ylabel('Частота')\n",
    "users['satisfaction'].hist(bins=100)"
   ]
  },
  {
   "cell_type": "markdown",
   "metadata": {},
   "source": [
    "Почти 70000 пользователей довольны каждым приобретенным товаром."
   ]
  },
  {
   "cell_type": "code",
   "execution_count": 63,
   "metadata": {},
   "outputs": [
    {
     "data": {
      "text/html": [
       "<div>\n",
       "<style scoped>\n",
       "    .dataframe tbody tr th:only-of-type {\n",
       "        vertical-align: middle;\n",
       "    }\n",
       "\n",
       "    .dataframe tbody tr th {\n",
       "        vertical-align: top;\n",
       "    }\n",
       "\n",
       "    .dataframe thead th {\n",
       "        text-align: right;\n",
       "    }\n",
       "</style>\n",
       "<table border=\"1\" class=\"dataframe\">\n",
       "  <thead>\n",
       "    <tr style=\"text-align: right;\">\n",
       "      <th></th>\n",
       "      <th>rating</th>\n",
       "      <th>number_ratings</th>\n",
       "      <th>satisfaction</th>\n",
       "    </tr>\n",
       "    <tr>\n",
       "      <th>userid</th>\n",
       "      <th></th>\n",
       "      <th></th>\n",
       "      <th></th>\n",
       "    </tr>\n",
       "  </thead>\n",
       "  <tbody>\n",
       "    <tr>\n",
       "      <th>13024</th>\n",
       "      <td>1.0</td>\n",
       "      <td>174</td>\n",
       "      <td>100</td>\n",
       "    </tr>\n",
       "    <tr>\n",
       "      <th>7336</th>\n",
       "      <td>1.0</td>\n",
       "      <td>87</td>\n",
       "      <td>100</td>\n",
       "    </tr>\n",
       "    <tr>\n",
       "      <th>19142</th>\n",
       "      <td>1.0</td>\n",
       "      <td>81</td>\n",
       "      <td>100</td>\n",
       "    </tr>\n",
       "    <tr>\n",
       "      <th>2430</th>\n",
       "      <td>1.0</td>\n",
       "      <td>73</td>\n",
       "      <td>100</td>\n",
       "    </tr>\n",
       "    <tr>\n",
       "      <th>29399</th>\n",
       "      <td>1.0</td>\n",
       "      <td>66</td>\n",
       "      <td>100</td>\n",
       "    </tr>\n",
       "  </tbody>\n",
       "</table>\n",
       "</div>"
      ],
      "text/plain": [
       "        rating  number_ratings  satisfaction\n",
       "userid                                      \n",
       "13024      1.0             174           100\n",
       "7336       1.0              87           100\n",
       "19142      1.0              81           100\n",
       "2430       1.0              73           100\n",
       "29399      1.0              66           100"
      ]
     },
     "execution_count": 63,
     "metadata": {},
     "output_type": "execute_result"
    }
   ],
   "source": [
    "users[users['satisfaction'] == 100].sort_values(by='number_ratings', ascending=False).head()"
   ]
  },
  {
   "cell_type": "markdown",
   "metadata": {},
   "source": [
    "Рекордсмен - пользователь с id 13024. Все 174 товара ему понравились."
   ]
  },
  {
   "cell_type": "code",
   "execution_count": 64,
   "metadata": {},
   "outputs": [
    {
     "data": {
      "text/html": [
       "<div>\n",
       "<style scoped>\n",
       "    .dataframe tbody tr th:only-of-type {\n",
       "        vertical-align: middle;\n",
       "    }\n",
       "\n",
       "    .dataframe tbody tr th {\n",
       "        vertical-align: top;\n",
       "    }\n",
       "\n",
       "    .dataframe thead th {\n",
       "        text-align: right;\n",
       "    }\n",
       "</style>\n",
       "<table border=\"1\" class=\"dataframe\">\n",
       "  <thead>\n",
       "    <tr style=\"text-align: right;\">\n",
       "      <th></th>\n",
       "      <th>verified</th>\n",
       "      <th>reviewTime</th>\n",
       "      <th>reviewerName</th>\n",
       "      <th>reviewText</th>\n",
       "      <th>summary</th>\n",
       "      <th>unixReviewTime</th>\n",
       "      <th>vote</th>\n",
       "      <th>style</th>\n",
       "      <th>image</th>\n",
       "      <th>userid</th>\n",
       "      <th>itemid</th>\n",
       "      <th>rating</th>\n",
       "      <th>year</th>\n",
       "      <th>month</th>\n",
       "      <th>day</th>\n",
       "      <th>weekday</th>\n",
       "      <th>reviewText_len</th>\n",
       "      <th>summary_len</th>\n",
       "    </tr>\n",
       "  </thead>\n",
       "  <tbody>\n",
       "    <tr>\n",
       "      <th>4640</th>\n",
       "      <td>0</td>\n",
       "      <td>2015-03-17</td>\n",
       "      <td>Madison T. Edwards</td>\n",
       "      <td>This is my official bed time tea! I love the t...</td>\n",
       "      <td>Love It</td>\n",
       "      <td>1426550400</td>\n",
       "      <td>0</td>\n",
       "      <td>NaN</td>\n",
       "      <td>NaN</td>\n",
       "      <td>13024</td>\n",
       "      <td>1919</td>\n",
       "      <td>1</td>\n",
       "      <td>2015</td>\n",
       "      <td>3</td>\n",
       "      <td>17</td>\n",
       "      <td>2</td>\n",
       "      <td>225</td>\n",
       "      <td>7</td>\n",
       "    </tr>\n",
       "    <tr>\n",
       "      <th>13328</th>\n",
       "      <td>0</td>\n",
       "      <td>2015-06-24</td>\n",
       "      <td>Madison T. Edwards</td>\n",
       "      <td>I love this oatmeal!  I love the original, but...</td>\n",
       "      <td>Good</td>\n",
       "      <td>1435104000</td>\n",
       "      <td>0</td>\n",
       "      <td>{'Flavor:': ' Peaches and Cream'}</td>\n",
       "      <td>NaN</td>\n",
       "      <td>13024</td>\n",
       "      <td>9090</td>\n",
       "      <td>1</td>\n",
       "      <td>2015</td>\n",
       "      <td>6</td>\n",
       "      <td>24</td>\n",
       "      <td>3</td>\n",
       "      <td>225</td>\n",
       "      <td>4</td>\n",
       "    </tr>\n",
       "    <tr>\n",
       "      <th>13990</th>\n",
       "      <td>0</td>\n",
       "      <td>2015-05-28</td>\n",
       "      <td>Madison T. Edwards</td>\n",
       "      <td>Great tasting peanut butter! This is a very go...</td>\n",
       "      <td>Yummy</td>\n",
       "      <td>1432771200</td>\n",
       "      <td>0</td>\n",
       "      <td>NaN</td>\n",
       "      <td>NaN</td>\n",
       "      <td>13024</td>\n",
       "      <td>743</td>\n",
       "      <td>1</td>\n",
       "      <td>2015</td>\n",
       "      <td>5</td>\n",
       "      <td>28</td>\n",
       "      <td>4</td>\n",
       "      <td>187</td>\n",
       "      <td>5</td>\n",
       "    </tr>\n",
       "    <tr>\n",
       "      <th>18122</th>\n",
       "      <td>0</td>\n",
       "      <td>2015-05-23</td>\n",
       "      <td>Madison T. Edwards</td>\n",
       "      <td>Spicy!! This is excellent for cheese dip, taco...</td>\n",
       "      <td>Spicy!</td>\n",
       "      <td>1432339200</td>\n",
       "      <td>0</td>\n",
       "      <td>NaN</td>\n",
       "      <td>NaN</td>\n",
       "      <td>13024</td>\n",
       "      <td>18872</td>\n",
       "      <td>1</td>\n",
       "      <td>2015</td>\n",
       "      <td>5</td>\n",
       "      <td>23</td>\n",
       "      <td>6</td>\n",
       "      <td>195</td>\n",
       "      <td>6</td>\n",
       "    </tr>\n",
       "    <tr>\n",
       "      <th>20141</th>\n",
       "      <td>0</td>\n",
       "      <td>2015-05-19</td>\n",
       "      <td>Madison T. Edwards</td>\n",
       "      <td>This is a very good snack! Good without being ...</td>\n",
       "      <td>Good</td>\n",
       "      <td>1431993600</td>\n",
       "      <td>0</td>\n",
       "      <td>NaN</td>\n",
       "      <td>NaN</td>\n",
       "      <td>13024</td>\n",
       "      <td>11088</td>\n",
       "      <td>1</td>\n",
       "      <td>2015</td>\n",
       "      <td>5</td>\n",
       "      <td>19</td>\n",
       "      <td>2</td>\n",
       "      <td>105</td>\n",
       "      <td>4</td>\n",
       "    </tr>\n",
       "  </tbody>\n",
       "</table>\n",
       "</div>"
      ],
      "text/plain": [
       "       verified reviewTime        reviewerName  \\\n",
       "4640          0 2015-03-17  Madison T. Edwards   \n",
       "13328         0 2015-06-24  Madison T. Edwards   \n",
       "13990         0 2015-05-28  Madison T. Edwards   \n",
       "18122         0 2015-05-23  Madison T. Edwards   \n",
       "20141         0 2015-05-19  Madison T. Edwards   \n",
       "\n",
       "                                              reviewText  summary  \\\n",
       "4640   This is my official bed time tea! I love the t...  Love It   \n",
       "13328  I love this oatmeal!  I love the original, but...     Good   \n",
       "13990  Great tasting peanut butter! This is a very go...    Yummy   \n",
       "18122  Spicy!! This is excellent for cheese dip, taco...   Spicy!   \n",
       "20141  This is a very good snack! Good without being ...     Good   \n",
       "\n",
       "       unixReviewTime  vote                              style image  userid  \\\n",
       "4640       1426550400     0                                NaN   NaN   13024   \n",
       "13328      1435104000     0  {'Flavor:': ' Peaches and Cream'}   NaN   13024   \n",
       "13990      1432771200     0                                NaN   NaN   13024   \n",
       "18122      1432339200     0                                NaN   NaN   13024   \n",
       "20141      1431993600     0                                NaN   NaN   13024   \n",
       "\n",
       "       itemid  rating  year  month  day  weekday  reviewText_len  summary_len  \n",
       "4640     1919       1  2015      3   17        2             225            7  \n",
       "13328    9090       1  2015      6   24        3             225            4  \n",
       "13990     743       1  2015      5   28        4             187            5  \n",
       "18122   18872       1  2015      5   23        6             195            6  \n",
       "20141   11088       1  2015      5   19        2             105            4  "
      ]
     },
     "execution_count": 64,
     "metadata": {},
     "output_type": "execute_result"
    }
   ],
   "source": [
    "df[df['userid'] == 13024].head()"
   ]
  },
  {
   "cell_type": "markdown",
   "metadata": {},
   "source": [
    "Посмотрим на пользователей, которым ничего не нравится. Таких 1717:"
   ]
  },
  {
   "cell_type": "code",
   "execution_count": 65,
   "metadata": {},
   "outputs": [
    {
     "data": {
      "text/plain": [
       "1717"
      ]
     },
     "execution_count": 65,
     "metadata": {},
     "output_type": "execute_result"
    }
   ],
   "source": [
    "len(users[users['satisfaction'] == 0])"
   ]
  },
  {
   "cell_type": "code",
   "execution_count": 66,
   "metadata": {},
   "outputs": [
    {
     "data": {
      "text/html": [
       "<div>\n",
       "<style scoped>\n",
       "    .dataframe tbody tr th:only-of-type {\n",
       "        vertical-align: middle;\n",
       "    }\n",
       "\n",
       "    .dataframe tbody tr th {\n",
       "        vertical-align: top;\n",
       "    }\n",
       "\n",
       "    .dataframe thead th {\n",
       "        text-align: right;\n",
       "    }\n",
       "</style>\n",
       "<table border=\"1\" class=\"dataframe\">\n",
       "  <thead>\n",
       "    <tr style=\"text-align: right;\">\n",
       "      <th></th>\n",
       "      <th>rating</th>\n",
       "      <th>number_ratings</th>\n",
       "      <th>satisfaction</th>\n",
       "    </tr>\n",
       "    <tr>\n",
       "      <th>userid</th>\n",
       "      <th></th>\n",
       "      <th></th>\n",
       "      <th></th>\n",
       "    </tr>\n",
       "  </thead>\n",
       "  <tbody>\n",
       "    <tr>\n",
       "      <th>17806</th>\n",
       "      <td>0.0</td>\n",
       "      <td>21</td>\n",
       "      <td>0</td>\n",
       "    </tr>\n",
       "    <tr>\n",
       "      <th>37786</th>\n",
       "      <td>0.0</td>\n",
       "      <td>18</td>\n",
       "      <td>0</td>\n",
       "    </tr>\n",
       "    <tr>\n",
       "      <th>37066</th>\n",
       "      <td>0.0</td>\n",
       "      <td>13</td>\n",
       "      <td>0</td>\n",
       "    </tr>\n",
       "    <tr>\n",
       "      <th>1453</th>\n",
       "      <td>0.0</td>\n",
       "      <td>13</td>\n",
       "      <td>0</td>\n",
       "    </tr>\n",
       "    <tr>\n",
       "      <th>72728</th>\n",
       "      <td>0.0</td>\n",
       "      <td>12</td>\n",
       "      <td>0</td>\n",
       "    </tr>\n",
       "  </tbody>\n",
       "</table>\n",
       "</div>"
      ],
      "text/plain": [
       "        rating  number_ratings  satisfaction\n",
       "userid                                      \n",
       "17806      0.0              21             0\n",
       "37786      0.0              18             0\n",
       "37066      0.0              13             0\n",
       "1453       0.0              13             0\n",
       "72728      0.0              12             0"
      ]
     },
     "execution_count": 66,
     "metadata": {},
     "output_type": "execute_result"
    }
   ],
   "source": [
    "users[users['satisfaction'] == 0].sort_values(by='number_ratings', ascending=False).head()"
   ]
  },
  {
   "cell_type": "code",
   "execution_count": 67,
   "metadata": {},
   "outputs": [
    {
     "data": {
      "text/html": [
       "<div>\n",
       "<style scoped>\n",
       "    .dataframe tbody tr th:only-of-type {\n",
       "        vertical-align: middle;\n",
       "    }\n",
       "\n",
       "    .dataframe tbody tr th {\n",
       "        vertical-align: top;\n",
       "    }\n",
       "\n",
       "    .dataframe thead th {\n",
       "        text-align: right;\n",
       "    }\n",
       "</style>\n",
       "<table border=\"1\" class=\"dataframe\">\n",
       "  <thead>\n",
       "    <tr style=\"text-align: right;\">\n",
       "      <th></th>\n",
       "      <th>verified</th>\n",
       "      <th>reviewTime</th>\n",
       "      <th>reviewerName</th>\n",
       "      <th>reviewText</th>\n",
       "      <th>summary</th>\n",
       "      <th>unixReviewTime</th>\n",
       "      <th>vote</th>\n",
       "      <th>style</th>\n",
       "      <th>image</th>\n",
       "      <th>userid</th>\n",
       "      <th>itemid</th>\n",
       "      <th>rating</th>\n",
       "      <th>year</th>\n",
       "      <th>month</th>\n",
       "      <th>day</th>\n",
       "      <th>weekday</th>\n",
       "      <th>reviewText_len</th>\n",
       "      <th>summary_len</th>\n",
       "    </tr>\n",
       "  </thead>\n",
       "  <tbody>\n",
       "    <tr>\n",
       "      <th>6418</th>\n",
       "      <td>0</td>\n",
       "      <td>2012-12-08</td>\n",
       "      <td>The public</td>\n",
       "      <td>Kelloggs uses GMO's in their products. GMO's h...</td>\n",
       "      <td>GMO is POISON</td>\n",
       "      <td>1354924800</td>\n",
       "      <td>0</td>\n",
       "      <td>NaN</td>\n",
       "      <td>NaN</td>\n",
       "      <td>17806</td>\n",
       "      <td>17830</td>\n",
       "      <td>0</td>\n",
       "      <td>2012</td>\n",
       "      <td>12</td>\n",
       "      <td>8</td>\n",
       "      <td>6</td>\n",
       "      <td>348</td>\n",
       "      <td>13</td>\n",
       "    </tr>\n",
       "    <tr>\n",
       "      <th>14700</th>\n",
       "      <td>0</td>\n",
       "      <td>2012-12-08</td>\n",
       "      <td>The public</td>\n",
       "      <td>Silks parent company contributed to the millio...</td>\n",
       "      <td>GMO's are Poison</td>\n",
       "      <td>1354924800</td>\n",
       "      <td>0</td>\n",
       "      <td>{'Size:': ' 32 Ounce (Pack of 6)', 'Flavor:': ...</td>\n",
       "      <td>NaN</td>\n",
       "      <td>17806</td>\n",
       "      <td>33412</td>\n",
       "      <td>0</td>\n",
       "      <td>2012</td>\n",
       "      <td>12</td>\n",
       "      <td>8</td>\n",
       "      <td>6</td>\n",
       "      <td>567</td>\n",
       "      <td>16</td>\n",
       "    </tr>\n",
       "    <tr>\n",
       "      <th>28854</th>\n",
       "      <td>0</td>\n",
       "      <td>2012-12-09</td>\n",
       "      <td>The public</td>\n",
       "      <td>GMO's cause cancer and organ failure. Save you...</td>\n",
       "      <td>GMO's are poison</td>\n",
       "      <td>1355011200</td>\n",
       "      <td>6</td>\n",
       "      <td>NaN</td>\n",
       "      <td>NaN</td>\n",
       "      <td>17806</td>\n",
       "      <td>29319</td>\n",
       "      <td>0</td>\n",
       "      <td>2012</td>\n",
       "      <td>12</td>\n",
       "      <td>9</td>\n",
       "      <td>0</td>\n",
       "      <td>306</td>\n",
       "      <td>16</td>\n",
       "    </tr>\n",
       "    <tr>\n",
       "      <th>58478</th>\n",
       "      <td>0</td>\n",
       "      <td>2012-12-09</td>\n",
       "      <td>Gerard S. Wilson</td>\n",
       "      <td>This product contains GMO's Known to cause Can...</td>\n",
       "      <td>GMO's cause Cancer</td>\n",
       "      <td>1355011200</td>\n",
       "      <td>0</td>\n",
       "      <td>NaN</td>\n",
       "      <td>NaN</td>\n",
       "      <td>17806</td>\n",
       "      <td>9086</td>\n",
       "      <td>0</td>\n",
       "      <td>2012</td>\n",
       "      <td>12</td>\n",
       "      <td>9</td>\n",
       "      <td>0</td>\n",
       "      <td>179</td>\n",
       "      <td>18</td>\n",
       "    </tr>\n",
       "    <tr>\n",
       "      <th>209539</th>\n",
       "      <td>0</td>\n",
       "      <td>2012-12-11</td>\n",
       "      <td>The public</td>\n",
       "      <td>Wow made from corn and may contain soy? That's...</td>\n",
       "      <td>Protect your health</td>\n",
       "      <td>1355184000</td>\n",
       "      <td>3</td>\n",
       "      <td>{'Package Quantity:': ' 4'}</td>\n",
       "      <td>NaN</td>\n",
       "      <td>17806</td>\n",
       "      <td>17233</td>\n",
       "      <td>0</td>\n",
       "      <td>2012</td>\n",
       "      <td>12</td>\n",
       "      <td>11</td>\n",
       "      <td>2</td>\n",
       "      <td>471</td>\n",
       "      <td>19</td>\n",
       "    </tr>\n",
       "  </tbody>\n",
       "</table>\n",
       "</div>"
      ],
      "text/plain": [
       "        verified reviewTime      reviewerName  \\\n",
       "6418           0 2012-12-08        The public   \n",
       "14700          0 2012-12-08        The public   \n",
       "28854          0 2012-12-09        The public   \n",
       "58478          0 2012-12-09  Gerard S. Wilson   \n",
       "209539         0 2012-12-11        The public   \n",
       "\n",
       "                                               reviewText  \\\n",
       "6418    Kelloggs uses GMO's in their products. GMO's h...   \n",
       "14700   Silks parent company contributed to the millio...   \n",
       "28854   GMO's cause cancer and organ failure. Save you...   \n",
       "58478   This product contains GMO's Known to cause Can...   \n",
       "209539  Wow made from corn and may contain soy? That's...   \n",
       "\n",
       "                    summary  unixReviewTime  vote  \\\n",
       "6418          GMO is POISON      1354924800     0   \n",
       "14700      GMO's are Poison      1354924800     0   \n",
       "28854      GMO's are poison      1355011200     6   \n",
       "58478    GMO's cause Cancer      1355011200     0   \n",
       "209539  Protect your health      1355184000     3   \n",
       "\n",
       "                                                    style image  userid  \\\n",
       "6418                                                  NaN   NaN   17806   \n",
       "14700   {'Size:': ' 32 Ounce (Pack of 6)', 'Flavor:': ...   NaN   17806   \n",
       "28854                                                 NaN   NaN   17806   \n",
       "58478                                                 NaN   NaN   17806   \n",
       "209539                        {'Package Quantity:': ' 4'}   NaN   17806   \n",
       "\n",
       "        itemid  rating  year  month  day  weekday  reviewText_len  summary_len  \n",
       "6418     17830       0  2012     12    8        6             348           13  \n",
       "14700    33412       0  2012     12    8        6             567           16  \n",
       "28854    29319       0  2012     12    9        0             306           16  \n",
       "58478     9086       0  2012     12    9        0             179           18  \n",
       "209539   17233       0  2012     12   11        2             471           19  "
      ]
     },
     "execution_count": 67,
     "metadata": {},
     "output_type": "execute_result"
    }
   ],
   "source": [
    "df[df['userid'] == 17806].head()"
   ]
  },
  {
   "cell_type": "code",
   "execution_count": 68,
   "metadata": {},
   "outputs": [
    {
     "data": {
      "text/html": [
       "<div>\n",
       "<style scoped>\n",
       "    .dataframe tbody tr th:only-of-type {\n",
       "        vertical-align: middle;\n",
       "    }\n",
       "\n",
       "    .dataframe tbody tr th {\n",
       "        vertical-align: top;\n",
       "    }\n",
       "\n",
       "    .dataframe thead th {\n",
       "        text-align: right;\n",
       "    }\n",
       "</style>\n",
       "<table border=\"1\" class=\"dataframe\">\n",
       "  <thead>\n",
       "    <tr style=\"text-align: right;\">\n",
       "      <th></th>\n",
       "      <th>rating</th>\n",
       "      <th>number_ratings</th>\n",
       "      <th>satisfaction</th>\n",
       "    </tr>\n",
       "  </thead>\n",
       "  <tbody>\n",
       "    <tr>\n",
       "      <th>count</th>\n",
       "      <td>127415.000000</td>\n",
       "      <td>127415.000000</td>\n",
       "      <td>127415.000000</td>\n",
       "    </tr>\n",
       "    <tr>\n",
       "      <th>mean</th>\n",
       "      <td>0.846896</td>\n",
       "      <td>6.373912</td>\n",
       "      <td>84.558710</td>\n",
       "    </tr>\n",
       "    <tr>\n",
       "      <th>std</th>\n",
       "      <td>0.217017</td>\n",
       "      <td>6.178848</td>\n",
       "      <td>21.766451</td>\n",
       "    </tr>\n",
       "    <tr>\n",
       "      <th>min</th>\n",
       "      <td>0.000000</td>\n",
       "      <td>1.000000</td>\n",
       "      <td>0.000000</td>\n",
       "    </tr>\n",
       "    <tr>\n",
       "      <th>25%</th>\n",
       "      <td>0.750000</td>\n",
       "      <td>4.000000</td>\n",
       "      <td>75.000000</td>\n",
       "    </tr>\n",
       "    <tr>\n",
       "      <th>50%</th>\n",
       "      <td>1.000000</td>\n",
       "      <td>5.000000</td>\n",
       "      <td>100.000000</td>\n",
       "    </tr>\n",
       "    <tr>\n",
       "      <th>75%</th>\n",
       "      <td>1.000000</td>\n",
       "      <td>7.000000</td>\n",
       "      <td>100.000000</td>\n",
       "    </tr>\n",
       "    <tr>\n",
       "      <th>max</th>\n",
       "      <td>1.000000</td>\n",
       "      <td>373.000000</td>\n",
       "      <td>100.000000</td>\n",
       "    </tr>\n",
       "  </tbody>\n",
       "</table>\n",
       "</div>"
      ],
      "text/plain": [
       "              rating  number_ratings   satisfaction\n",
       "count  127415.000000   127415.000000  127415.000000\n",
       "mean        0.846896        6.373912      84.558710\n",
       "std         0.217017        6.178848      21.766451\n",
       "min         0.000000        1.000000       0.000000\n",
       "25%         0.750000        4.000000      75.000000\n",
       "50%         1.000000        5.000000     100.000000\n",
       "75%         1.000000        7.000000     100.000000\n",
       "max         1.000000      373.000000     100.000000"
      ]
     },
     "execution_count": 68,
     "metadata": {},
     "output_type": "execute_result"
    }
   ],
   "source": [
    "users.describe()"
   ]
  },
  {
   "cell_type": "code",
   "execution_count": 69,
   "metadata": {},
   "outputs": [
    {
     "data": {
      "text/plain": [
       "<matplotlib.axes._subplots.AxesSubplot at 0x29e00c586a0>"
      ]
     },
     "execution_count": 69,
     "metadata": {},
     "output_type": "execute_result"
    },
    {
     "data": {
      "image/png": "[encoded data removed]",
      "text/plain": [
       "<Figure size 864x288 with 1 Axes>"
      ]
     },
     "metadata": {
      "needs_background": "light"
     },
     "output_type": "display_data"
    }
   ],
   "source": [
    "plt.figure(figsize=(12,4))\n",
    "plt.xlabel('Количество оценок у пользователя')\n",
    "plt.ylabel('Частота')\n",
    "users['number_ratings'].hist(bins=80)"
   ]
  },
  {
   "cell_type": "markdown",
   "metadata": {},
   "source": [
    "75% пользователй имеют количество оценок < 7"
   ]
  },
  {
   "cell_type": "markdown",
   "metadata": {},
   "source": [
    "Половина пользователей имеет среднюю оценку больше 4.66."
   ]
  },
  {
   "cell_type": "code",
   "execution_count": 70,
   "metadata": {},
   "outputs": [
    {
     "data": {
      "text/plain": [
       "<seaborn.axisgrid.JointGrid at 0x29e0111bdd8>"
      ]
     },
     "execution_count": 70,
     "metadata": {},
     "output_type": "execute_result"
    },
    {
     "data": {
      "image/png": "[encoded data removed]",
      "text/plain": [
       "<Figure size 432x432 with 3 Axes>"
      ]
     },
     "metadata": {
      "needs_background": "light"
     },
     "output_type": "display_data"
    }
   ],
   "source": [
    "sns.jointplot(x='rating', y='number_ratings', data=users, alpha=0.3)"
   ]
  },
  {
   "cell_type": "markdown",
   "metadata": {},
   "source": [
    "Возьмем пользователей с количеством оценок больше 10"
   ]
  },
  {
   "cell_type": "code",
   "execution_count": 71,
   "metadata": {
    "scrolled": false
   },
   "outputs": [
    {
     "data": {
      "text/plain": [
       "<seaborn.axisgrid.JointGrid at 0x29e01522400>"
      ]
     },
     "execution_count": 71,
     "metadata": {},
     "output_type": "execute_result"
    },
    {
     "data": {
      "image/png": "[encoded data removed]",
      "text/plain": [
       "<Figure size 432x432 with 3 Axes>"
      ]
     },
     "metadata": {
      "needs_background": "light"
     },
     "output_type": "display_data"
    }
   ],
   "source": [
    "sns.jointplot(x='rating', y='number_ratings', data=users[users['number_ratings']>10], alpha=0.3)"
   ]
  },
  {
   "cell_type": "markdown",
   "metadata": {},
   "source": [
    "Чем больше оценок ставит пользователь, тем выше у него средний рейтинг."
   ]
  },
  {
   "cell_type": "code",
   "execution_count": 72,
   "metadata": {
    "scrolled": false
   },
   "outputs": [
    {
     "data": {
      "text/plain": [
       "<matplotlib.axes._subplots.AxesSubplot at 0x29e01601f98>"
      ]
     },
     "execution_count": 72,
     "metadata": {},
     "output_type": "execute_result"
    },
    {
     "data": {
      "image/png": "[encoded data removed]",
      "text/plain": [
       "<Figure size 432x288 with 1 Axes>"
      ]
     },
     "metadata": {
      "needs_background": "light"
     },
     "output_type": "display_data"
    }
   ],
   "source": [
    "sns.boxplot(x=users[\"number_ratings\"])"
   ]
  },
  {
   "cell_type": "code",
   "execution_count": 73,
   "metadata": {
    "scrolled": true
   },
   "outputs": [
    {
     "data": {
      "text/plain": [
       "<matplotlib.axes._subplots.AxesSubplot at 0x29e01785dd8>"
      ]
     },
     "execution_count": 73,
     "metadata": {},
     "output_type": "execute_result"
    },
    {
     "data": {
      "image/png": "[encoded data removed]",
      "text/plain": [
       "<Figure size 432x288 with 1 Axes>"
      ]
     },
     "metadata": {
      "needs_background": "light"
     },
     "output_type": "display_data"
    }
   ],
   "source": [
    "sns.boxplot(x=users[\"rating\"])"
   ]
  },
  {
   "cell_type": "markdown",
   "metadata": {},
   "source": [
    "Посмотрим на ТОП-10 пользователей по количеству оценок:"
   ]
  },
  {
   "cell_type": "code",
   "execution_count": 74,
   "metadata": {
    "scrolled": false
   },
   "outputs": [
    {
     "data": {
      "text/html": [
       "<div>\n",
       "<style scoped>\n",
       "    .dataframe tbody tr th:only-of-type {\n",
       "        vertical-align: middle;\n",
       "    }\n",
       "\n",
       "    .dataframe tbody tr th {\n",
       "        vertical-align: top;\n",
       "    }\n",
       "\n",
       "    .dataframe thead th {\n",
       "        text-align: right;\n",
       "    }\n",
       "</style>\n",
       "<table border=\"1\" class=\"dataframe\">\n",
       "  <thead>\n",
       "    <tr style=\"text-align: right;\">\n",
       "      <th></th>\n",
       "      <th>rating</th>\n",
       "      <th>number_ratings</th>\n",
       "      <th>satisfaction</th>\n",
       "    </tr>\n",
       "    <tr>\n",
       "      <th>userid</th>\n",
       "      <th></th>\n",
       "      <th></th>\n",
       "      <th></th>\n",
       "    </tr>\n",
       "  </thead>\n",
       "  <tbody>\n",
       "    <tr>\n",
       "      <th>842</th>\n",
       "      <td>0.994638</td>\n",
       "      <td>373</td>\n",
       "      <td>99</td>\n",
       "    </tr>\n",
       "    <tr>\n",
       "      <th>355</th>\n",
       "      <td>0.880000</td>\n",
       "      <td>275</td>\n",
       "      <td>88</td>\n",
       "    </tr>\n",
       "    <tr>\n",
       "      <th>2024</th>\n",
       "      <td>0.868613</td>\n",
       "      <td>274</td>\n",
       "      <td>86</td>\n",
       "    </tr>\n",
       "    <tr>\n",
       "      <th>2809</th>\n",
       "      <td>0.694779</td>\n",
       "      <td>249</td>\n",
       "      <td>69</td>\n",
       "    </tr>\n",
       "    <tr>\n",
       "      <th>17987</th>\n",
       "      <td>0.863454</td>\n",
       "      <td>249</td>\n",
       "      <td>86</td>\n",
       "    </tr>\n",
       "    <tr>\n",
       "      <th>424</th>\n",
       "      <td>0.930693</td>\n",
       "      <td>202</td>\n",
       "      <td>93</td>\n",
       "    </tr>\n",
       "    <tr>\n",
       "      <th>4116</th>\n",
       "      <td>0.936842</td>\n",
       "      <td>190</td>\n",
       "      <td>93</td>\n",
       "    </tr>\n",
       "    <tr>\n",
       "      <th>1874</th>\n",
       "      <td>0.942105</td>\n",
       "      <td>190</td>\n",
       "      <td>94</td>\n",
       "    </tr>\n",
       "    <tr>\n",
       "      <th>888</th>\n",
       "      <td>0.920213</td>\n",
       "      <td>188</td>\n",
       "      <td>92</td>\n",
       "    </tr>\n",
       "    <tr>\n",
       "      <th>3528</th>\n",
       "      <td>0.834225</td>\n",
       "      <td>187</td>\n",
       "      <td>83</td>\n",
       "    </tr>\n",
       "  </tbody>\n",
       "</table>\n",
       "</div>"
      ],
      "text/plain": [
       "          rating  number_ratings  satisfaction\n",
       "userid                                        \n",
       "842     0.994638             373            99\n",
       "355     0.880000             275            88\n",
       "2024    0.868613             274            86\n",
       "2809    0.694779             249            69\n",
       "17987   0.863454             249            86\n",
       "424     0.930693             202            93\n",
       "4116    0.936842             190            93\n",
       "1874    0.942105             190            94\n",
       "888     0.920213             188            92\n",
       "3528    0.834225             187            83"
      ]
     },
     "execution_count": 74,
     "metadata": {},
     "output_type": "execute_result"
    }
   ],
   "source": [
    "users.sort_values('number_ratings', ascending=False).head(10)"
   ]
  },
  {
   "cell_type": "markdown",
   "metadata": {},
   "source": [
    "Посмотрим на пользователя \"842\" поближе"
   ]
  },
  {
   "cell_type": "code",
   "execution_count": 75,
   "metadata": {
    "scrolled": false
   },
   "outputs": [
    {
     "data": {
      "text/html": [
       "<div>\n",
       "<style scoped>\n",
       "    .dataframe tbody tr th:only-of-type {\n",
       "        vertical-align: middle;\n",
       "    }\n",
       "\n",
       "    .dataframe tbody tr th {\n",
       "        vertical-align: top;\n",
       "    }\n",
       "\n",
       "    .dataframe thead th {\n",
       "        text-align: right;\n",
       "    }\n",
       "</style>\n",
       "<table border=\"1\" class=\"dataframe\">\n",
       "  <thead>\n",
       "    <tr style=\"text-align: right;\">\n",
       "      <th></th>\n",
       "      <th>verified</th>\n",
       "      <th>reviewTime</th>\n",
       "      <th>reviewerName</th>\n",
       "      <th>reviewText</th>\n",
       "      <th>summary</th>\n",
       "      <th>unixReviewTime</th>\n",
       "      <th>vote</th>\n",
       "      <th>style</th>\n",
       "      <th>image</th>\n",
       "      <th>userid</th>\n",
       "      <th>itemid</th>\n",
       "      <th>rating</th>\n",
       "      <th>year</th>\n",
       "      <th>month</th>\n",
       "      <th>day</th>\n",
       "      <th>weekday</th>\n",
       "      <th>reviewText_len</th>\n",
       "      <th>summary_len</th>\n",
       "    </tr>\n",
       "  </thead>\n",
       "  <tbody>\n",
       "    <tr>\n",
       "      <th>954</th>\n",
       "      <td>0</td>\n",
       "      <td>2014-11-29</td>\n",
       "      <td>Doug Erlandson</td>\n",
       "      <td>These tasty Jelly Belly licorice pastels have ...</td>\n",
       "      <td>Tasty snack</td>\n",
       "      <td>1417219200</td>\n",
       "      <td>2</td>\n",
       "      <td>NaN</td>\n",
       "      <td>NaN</td>\n",
       "      <td>842</td>\n",
       "      <td>2818</td>\n",
       "      <td>1</td>\n",
       "      <td>2014</td>\n",
       "      <td>11</td>\n",
       "      <td>29</td>\n",
       "      <td>6</td>\n",
       "      <td>677</td>\n",
       "      <td>11</td>\n",
       "    </tr>\n",
       "    <tr>\n",
       "      <th>3486</th>\n",
       "      <td>0</td>\n",
       "      <td>2013-12-26</td>\n",
       "      <td>Doug Erlandson</td>\n",
       "      <td>I've tasted a number of different caramels ove...</td>\n",
       "      <td>None better</td>\n",
       "      <td>1388016000</td>\n",
       "      <td>2</td>\n",
       "      <td>{'Flavor:': ' Soft Vanilla'}</td>\n",
       "      <td>NaN</td>\n",
       "      <td>842</td>\n",
       "      <td>17923</td>\n",
       "      <td>1</td>\n",
       "      <td>2013</td>\n",
       "      <td>12</td>\n",
       "      <td>26</td>\n",
       "      <td>4</td>\n",
       "      <td>733</td>\n",
       "      <td>11</td>\n",
       "    </tr>\n",
       "    <tr>\n",
       "      <th>8098</th>\n",
       "      <td>0</td>\n",
       "      <td>2013-11-04</td>\n",
       "      <td>Doug Erlandson</td>\n",
       "      <td>I've been in love with Dutch licorice for more...</td>\n",
       "      <td>Among my favorites</td>\n",
       "      <td>1383523200</td>\n",
       "      <td>2</td>\n",
       "      <td>NaN</td>\n",
       "      <td>NaN</td>\n",
       "      <td>842</td>\n",
       "      <td>39018</td>\n",
       "      <td>1</td>\n",
       "      <td>2013</td>\n",
       "      <td>11</td>\n",
       "      <td>4</td>\n",
       "      <td>1</td>\n",
       "      <td>1385</td>\n",
       "      <td>18</td>\n",
       "    </tr>\n",
       "    <tr>\n",
       "      <th>8172</th>\n",
       "      <td>0</td>\n",
       "      <td>2014-10-10</td>\n",
       "      <td>Doug Erlandson</td>\n",
       "      <td>Until recently I had never tasted almond butte...</td>\n",
       "      <td>Tasty and better for you than peanut butter</td>\n",
       "      <td>1412899200</td>\n",
       "      <td>8</td>\n",
       "      <td>NaN</td>\n",
       "      <td>NaN</td>\n",
       "      <td>842</td>\n",
       "      <td>30642</td>\n",
       "      <td>1</td>\n",
       "      <td>2014</td>\n",
       "      <td>10</td>\n",
       "      <td>10</td>\n",
       "      <td>5</td>\n",
       "      <td>668</td>\n",
       "      <td>43</td>\n",
       "    </tr>\n",
       "    <tr>\n",
       "      <th>9859</th>\n",
       "      <td>0</td>\n",
       "      <td>2017-03-06</td>\n",
       "      <td>Doug Erlandson</td>\n",
       "      <td>Forty years ago, when I became interested in e...</td>\n",
       "      <td>Wouldn't use any other type of sugar</td>\n",
       "      <td>1488758400</td>\n",
       "      <td>2</td>\n",
       "      <td>{'Size:': ' 500 Count'}</td>\n",
       "      <td>NaN</td>\n",
       "      <td>842</td>\n",
       "      <td>1479</td>\n",
       "      <td>1</td>\n",
       "      <td>2017</td>\n",
       "      <td>3</td>\n",
       "      <td>6</td>\n",
       "      <td>1</td>\n",
       "      <td>565</td>\n",
       "      <td>36</td>\n",
       "    </tr>\n",
       "  </tbody>\n",
       "</table>\n",
       "</div>"
      ],
      "text/plain": [
       "      verified reviewTime    reviewerName  \\\n",
       "954          0 2014-11-29  Doug Erlandson   \n",
       "3486         0 2013-12-26  Doug Erlandson   \n",
       "8098         0 2013-11-04  Doug Erlandson   \n",
       "8172         0 2014-10-10  Doug Erlandson   \n",
       "9859         0 2017-03-06  Doug Erlandson   \n",
       "\n",
       "                                             reviewText  \\\n",
       "954   These tasty Jelly Belly licorice pastels have ...   \n",
       "3486  I've tasted a number of different caramels ove...   \n",
       "8098  I've been in love with Dutch licorice for more...   \n",
       "8172  Until recently I had never tasted almond butte...   \n",
       "9859  Forty years ago, when I became interested in e...   \n",
       "\n",
       "                                          summary  unixReviewTime  vote  \\\n",
       "954                                   Tasty snack      1417219200     2   \n",
       "3486                                  None better      1388016000     2   \n",
       "8098                           Among my favorites      1383523200     2   \n",
       "8172  Tasty and better for you than peanut butter      1412899200     8   \n",
       "9859         Wouldn't use any other type of sugar      1488758400     2   \n",
       "\n",
       "                             style image  userid  itemid  rating  year  month  \\\n",
       "954                            NaN   NaN     842    2818       1  2014     11   \n",
       "3486  {'Flavor:': ' Soft Vanilla'}   NaN     842   17923       1  2013     12   \n",
       "8098                           NaN   NaN     842   39018       1  2013     11   \n",
       "8172                           NaN   NaN     842   30642       1  2014     10   \n",
       "9859       {'Size:': ' 500 Count'}   NaN     842    1479       1  2017      3   \n",
       "\n",
       "      day  weekday  reviewText_len  summary_len  \n",
       "954    29        6             677           11  \n",
       "3486   26        4             733           11  \n",
       "8098    4        1            1385           18  \n",
       "8172   10        5             668           43  \n",
       "9859    6        1             565           36  "
      ]
     },
     "execution_count": 75,
     "metadata": {},
     "output_type": "execute_result"
    }
   ],
   "source": [
    "df[df['userid']==842].head()"
   ]
  },
  {
   "cell_type": "markdown",
   "metadata": {},
   "source": [
    "Doug Erlandson оценил 373 товаров и уровень его удовлетворенности 99%!"
   ]
  },
  {
   "cell_type": "code",
   "execution_count": 76,
   "metadata": {},
   "outputs": [],
   "source": [
    "users.reset_index(inplace=True)"
   ]
  },
  {
   "cell_type": "code",
   "execution_count": 77,
   "metadata": {},
   "outputs": [],
   "source": [
    "where_userid = []\n",
    "for i in range(127496):\n",
    "    if i not in users['userid'].values:\n",
    "        where_userid.append(i)"
   ]
  },
  {
   "cell_type": "markdown",
   "metadata": {},
   "source": [
    "Некторые userid отсутствуют в списке."
   ]
  },
  {
   "cell_type": "code",
   "execution_count": 78,
   "metadata": {},
   "outputs": [
    {
     "name": "stdout",
     "output_type": "stream",
     "text": [
      "[4801, 5708, 8472, 8939, 10625, 11762, 13457, 13514, 15637, 16043, 17487, 19827, 20032, 20981, 21240, 24268, 24468, 25554, 26208, 28498, 29544, 31744, 37516, 38827, 39257, 39470, 42030, 42383, 45620, 46487, 48843, 49473, 49909, 51040, 54378, 54550, 57945, 59255, 59322, 60084, 62284, 62706, 62974, 63436, 64975, 69670, 70039, 71746, 72574, 74166, 74497, 74546, 76398, 76863, 77008, 77269, 79430, 80333, 81623, 82152, 84259, 86708, 88531, 92058, 93047, 96737, 100375, 101379, 103223, 104451, 107300, 107656, 111078, 115439, 118332, 121472, 121513, 123180, 123874, 125499, 127484]\n"
     ]
    }
   ],
   "source": [
    "print(where_userid)"
   ]
  },
  {
   "cell_type": "markdown",
   "metadata": {},
   "source": [
    "### Создание категории товара\n",
    "Для каждого товара создадим теги, характеризующие данный товар. Информацию будем брать из отзывов пользователей. Для начала создадим датафрейм из возможных тегов для продуктового магазина."
   ]
  },
  {
   "cell_type": "code",
   "execution_count": 124,
   "metadata": {},
   "outputs": [
    {
     "data": {
      "text/plain": [
       "108"
      ]
     },
     "execution_count": 124,
     "metadata": {},
     "output_type": "execute_result"
    }
   ],
   "source": [
    "tags = \"coffee, tea, soda, coconut, energy, сereal, snack, chocolate, beer, cocktail, vodka, wine, bakery, \\\n",
    "dessert, bread, cake, cookie, pastrie, pizza, dough, toaster, syrup, flakes, muesli, pancake, waffle, baking, \\\n",
    "toffee, caramel, candied, candy, gum, fudge, lollipop, jelly, marshmallow, mint, sour, sweets, biscuit, \\\n",
    "breakfast, dairy, butter, margarine, cheese, sauce, cream, egg, milk, lunche, yogurt, appetizer, pie, \\\n",
    "quich, meat, salad, salsa, pasta, meal, olive, antipasto, sandwiche, soup, stew, chili, nut, fruit, jam, juice, \\\n",
    "vegetable, potato, tomato, peach, strawberry, vanilla, cherry, blueberry, bacon, beef, chicken, lamb, \\\n",
    "pork, sausage, turkey, jerky, burger, loaves, roasts, \\\n",
    "meatballs, nugget, cutlet, tofu, rice, bean, noodle, vegetarian, herb, protein, vegan, gluten, organic, bar, \\\n",
    "seed, cracker, popcorn, pretzel, chips, wasabi\"\n",
    "\n",
    "tags = tags.replace(' ', '').split(',')\n",
    "len(tags)"
   ]
  },
  {
   "cell_type": "code",
   "execution_count": 125,
   "metadata": {},
   "outputs": [
    {
     "data": {
      "text/html": [
       "<div>\n",
       "<style scoped>\n",
       "    .dataframe tbody tr th:only-of-type {\n",
       "        vertical-align: middle;\n",
       "    }\n",
       "\n",
       "    .dataframe tbody tr th {\n",
       "        vertical-align: top;\n",
       "    }\n",
       "\n",
       "    .dataframe thead th {\n",
       "        text-align: right;\n",
       "    }\n",
       "</style>\n",
       "<table border=\"1\" class=\"dataframe\">\n",
       "  <thead>\n",
       "    <tr style=\"text-align: right;\">\n",
       "      <th></th>\n",
       "      <th>tag_id</th>\n",
       "      <th>tag</th>\n",
       "    </tr>\n",
       "  </thead>\n",
       "  <tbody>\n",
       "    <tr>\n",
       "      <th>0</th>\n",
       "      <td>0</td>\n",
       "      <td>coffee</td>\n",
       "    </tr>\n",
       "    <tr>\n",
       "      <th>1</th>\n",
       "      <td>1</td>\n",
       "      <td>tea</td>\n",
       "    </tr>\n",
       "    <tr>\n",
       "      <th>2</th>\n",
       "      <td>2</td>\n",
       "      <td>soda</td>\n",
       "    </tr>\n",
       "    <tr>\n",
       "      <th>3</th>\n",
       "      <td>3</td>\n",
       "      <td>coconut</td>\n",
       "    </tr>\n",
       "    <tr>\n",
       "      <th>4</th>\n",
       "      <td>4</td>\n",
       "      <td>energy</td>\n",
       "    </tr>\n",
       "  </tbody>\n",
       "</table>\n",
       "</div>"
      ],
      "text/plain": [
       "   tag_id      tag\n",
       "0       0   coffee\n",
       "1       1      tea\n",
       "2       2     soda\n",
       "3       3  coconut\n",
       "4       4   energy"
      ]
     },
     "execution_count": 125,
     "metadata": {},
     "output_type": "execute_result"
    }
   ],
   "source": [
    "tags_dict = {}\n",
    "for ind, tag in enumerate(tags):\n",
    "    tags_dict[ind] = tag\n",
    "    \n",
    "df_tags = pd.DataFrame(tags_dict.items(), columns=['tag_id', 'tag'])\n",
    "df_tags.head()"
   ]
  },
  {
   "cell_type": "markdown",
   "metadata": {},
   "source": [
    "Создадим датафрейм с полями itemid, tag_id. Например, у товара 12 есть теги 2,5,7. Этот датафрейм будем использовать для обучения модели в качестве признаков товара."
   ]
  },
  {
   "cell_type": "code",
   "execution_count": 126,
   "metadata": {},
   "outputs": [],
   "source": [
    "def find_intersections(row):\n",
    "    \"\"\" Принимает строку датафрейма. \n",
    "        Заполняет список парами tuple (itemid, tag_id).\n",
    "    \"\"\"\n",
    "    for tag in df_tags['tag']:\n",
    "        if tag in row['reviewText'].lower():\n",
    "            tag_id = df_tags[df_tags['tag'] == tag]['tag_id'].values[0]\n",
    "            pair = (row['itemid'], tag_id)\n",
    "            list_items_tags.append(pair)"
   ]
  },
  {
   "cell_type": "code",
   "execution_count": 127,
   "metadata": {},
   "outputs": [],
   "source": [
    "list_items_tags = []\n",
    "_ = df.apply(lambda row: find_intersections(row), axis=1)"
   ]
  },
  {
   "cell_type": "code",
   "execution_count": 128,
   "metadata": {},
   "outputs": [
    {
     "data": {
      "text/plain": [
       "995086"
      ]
     },
     "execution_count": 128,
     "metadata": {},
     "output_type": "execute_result"
    }
   ],
   "source": [
    "len(list_items_tags)"
   ]
  },
  {
   "cell_type": "code",
   "execution_count": 129,
   "metadata": {},
   "outputs": [],
   "source": [
    "items_tags = set(list_items_tags)"
   ]
  },
  {
   "cell_type": "code",
   "execution_count": 130,
   "metadata": {},
   "outputs": [
    {
     "data": {
      "text/plain": [
       "300880"
      ]
     },
     "execution_count": 130,
     "metadata": {},
     "output_type": "execute_result"
    }
   ],
   "source": [
    "len(items_tags)"
   ]
  },
  {
   "cell_type": "code",
   "execution_count": 131,
   "metadata": {},
   "outputs": [],
   "source": [
    "df_items_tags = pd.DataFrame(items_tags, columns=['itemid', 'tag_id'])"
   ]
  },
  {
   "cell_type": "code",
   "execution_count": 132,
   "metadata": {},
   "outputs": [
    {
     "data": {
      "text/html": [
       "<div>\n",
       "<style scoped>\n",
       "    .dataframe tbody tr th:only-of-type {\n",
       "        vertical-align: middle;\n",
       "    }\n",
       "\n",
       "    .dataframe tbody tr th {\n",
       "        vertical-align: top;\n",
       "    }\n",
       "\n",
       "    .dataframe thead th {\n",
       "        text-align: right;\n",
       "    }\n",
       "</style>\n",
       "<table border=\"1\" class=\"dataframe\">\n",
       "  <thead>\n",
       "    <tr style=\"text-align: right;\">\n",
       "      <th></th>\n",
       "      <th>itemid</th>\n",
       "      <th>tag_id</th>\n",
       "    </tr>\n",
       "  </thead>\n",
       "  <tbody>\n",
       "    <tr>\n",
       "      <th>0</th>\n",
       "      <td>1760</td>\n",
       "      <td>65</td>\n",
       "    </tr>\n",
       "    <tr>\n",
       "      <th>1</th>\n",
       "      <td>19733</td>\n",
       "      <td>14</td>\n",
       "    </tr>\n",
       "    <tr>\n",
       "      <th>2</th>\n",
       "      <td>4651</td>\n",
       "      <td>48</td>\n",
       "    </tr>\n",
       "    <tr>\n",
       "      <th>3</th>\n",
       "      <td>23235</td>\n",
       "      <td>2</td>\n",
       "    </tr>\n",
       "    <tr>\n",
       "      <th>4</th>\n",
       "      <td>727</td>\n",
       "      <td>68</td>\n",
       "    </tr>\n",
       "  </tbody>\n",
       "</table>\n",
       "</div>"
      ],
      "text/plain": [
       "   itemid  tag_id\n",
       "0    1760      65\n",
       "1   19733      14\n",
       "2    4651      48\n",
       "3   23235       2\n",
       "4     727      68"
      ]
     },
     "execution_count": 132,
     "metadata": {},
     "output_type": "execute_result"
    }
   ],
   "source": [
    "df_items_tags.head()"
   ]
  },
  {
   "cell_type": "code",
   "execution_count": 133,
   "metadata": {},
   "outputs": [],
   "source": [
    "# сохраним в виде csv-файла\n",
    "df_items_tags.to_csv('items_tags.csv', index = False)"
   ]
  },
  {
   "cell_type": "markdown",
   "metadata": {},
   "source": [
    "Посмотрим на товары с наибольшим количеством тегов."
   ]
  },
  {
   "cell_type": "code",
   "execution_count": 134,
   "metadata": {},
   "outputs": [
    {
     "data": {
      "text/plain": [
       "count    39990.000000\n",
       "mean         7.523881\n",
       "std          6.978213\n",
       "min          1.000000\n",
       "25%          3.000000\n",
       "50%          5.000000\n",
       "75%         10.000000\n",
       "max         67.000000\n",
       "Name: tag_id, dtype: float64"
      ]
     },
     "execution_count": 134,
     "metadata": {},
     "output_type": "execute_result"
    }
   ],
   "source": [
    "tags_info = df_items_tags.groupby('itemid')['tag_id'].count()\n",
    "tags_info.describe()"
   ]
  },
  {
   "cell_type": "markdown",
   "metadata": {},
   "source": [
    "75% товаров имеют меньше 10 тегов."
   ]
  },
  {
   "cell_type": "code",
   "execution_count": 136,
   "metadata": {},
   "outputs": [
    {
     "data": {
      "text/plain": [
       "<matplotlib.axes._subplots.AxesSubplot at 0x29e15231198>"
      ]
     },
     "execution_count": 136,
     "metadata": {},
     "output_type": "execute_result"
    },
    {
     "data": {
      "image/png": "[encoded data removed]",
      "text/plain": [
       "<Figure size 864x288 with 1 Axes>"
      ]
     },
     "metadata": {
      "needs_background": "light"
     },
     "output_type": "display_data"
    }
   ],
   "source": [
    "plt.figure(figsize=(12,4))\n",
    "plt.xlabel('Количество тегов на товар')\n",
    "plt.ylabel('Частота')\n",
    "tags_info.hist(bins=67)"
   ]
  },
  {
   "cell_type": "code",
   "execution_count": 137,
   "metadata": {},
   "outputs": [
    {
     "data": {
      "text/plain": [
       "itemid\n",
       "16833    67\n",
       "26736    67\n",
       "18620    66\n",
       "15365    65\n",
       "3927     65\n",
       "Name: tag_id, dtype: int64"
      ]
     },
     "execution_count": 137,
     "metadata": {},
     "output_type": "execute_result"
    }
   ],
   "source": [
    "tags_info.sort_values(ascending=False).head()"
   ]
  },
  {
   "cell_type": "markdown",
   "metadata": {},
   "source": [
    "Посмотрим на товар с id 16833"
   ]
  },
  {
   "cell_type": "code",
   "execution_count": 138,
   "metadata": {},
   "outputs": [
    {
     "data": {
      "text/html": [
       "<div>\n",
       "<style scoped>\n",
       "    .dataframe tbody tr th:only-of-type {\n",
       "        vertical-align: middle;\n",
       "    }\n",
       "\n",
       "    .dataframe tbody tr th {\n",
       "        vertical-align: top;\n",
       "    }\n",
       "\n",
       "    .dataframe thead th {\n",
       "        text-align: right;\n",
       "    }\n",
       "</style>\n",
       "<table border=\"1\" class=\"dataframe\">\n",
       "  <thead>\n",
       "    <tr style=\"text-align: right;\">\n",
       "      <th></th>\n",
       "      <th>itemid</th>\n",
       "      <th>tag_id</th>\n",
       "      <th>tag</th>\n",
       "    </tr>\n",
       "  </thead>\n",
       "  <tbody>\n",
       "    <tr>\n",
       "      <th>0</th>\n",
       "      <td>16833</td>\n",
       "      <td>1</td>\n",
       "      <td>tea</td>\n",
       "    </tr>\n",
       "    <tr>\n",
       "      <th>1</th>\n",
       "      <td>16833</td>\n",
       "      <td>48</td>\n",
       "      <td>milk</td>\n",
       "    </tr>\n",
       "    <tr>\n",
       "      <th>2</th>\n",
       "      <td>16833</td>\n",
       "      <td>101</td>\n",
       "      <td>bar</td>\n",
       "    </tr>\n",
       "    <tr>\n",
       "      <th>3</th>\n",
       "      <td>16833</td>\n",
       "      <td>70</td>\n",
       "      <td>potato</td>\n",
       "    </tr>\n",
       "    <tr>\n",
       "      <th>4</th>\n",
       "      <td>16833</td>\n",
       "      <td>39</td>\n",
       "      <td>biscuit</td>\n",
       "    </tr>\n",
       "  </tbody>\n",
       "</table>\n",
       "</div>"
      ],
      "text/plain": [
       "   itemid  tag_id      tag\n",
       "0   16833       1      tea\n",
       "1   16833      48     milk\n",
       "2   16833     101      bar\n",
       "3   16833      70   potato\n",
       "4   16833      39  biscuit"
      ]
     },
     "execution_count": 138,
     "metadata": {},
     "output_type": "execute_result"
    }
   ],
   "source": [
    "df_items_tags[df_items_tags['itemid'] == 16833].head().merge(df_tags, left_on='tag_id', right_on='tag_id')"
   ]
  },
  {
   "cell_type": "code",
   "execution_count": 139,
   "metadata": {},
   "outputs": [
    {
     "data": {
      "text/html": [
       "<div>\n",
       "<style scoped>\n",
       "    .dataframe tbody tr th:only-of-type {\n",
       "        vertical-align: middle;\n",
       "    }\n",
       "\n",
       "    .dataframe tbody tr th {\n",
       "        vertical-align: top;\n",
       "    }\n",
       "\n",
       "    .dataframe thead th {\n",
       "        text-align: right;\n",
       "    }\n",
       "</style>\n",
       "<table border=\"1\" class=\"dataframe\">\n",
       "  <thead>\n",
       "    <tr style=\"text-align: right;\">\n",
       "      <th></th>\n",
       "      <th>verified</th>\n",
       "      <th>reviewTime</th>\n",
       "      <th>reviewerName</th>\n",
       "      <th>reviewText</th>\n",
       "      <th>summary</th>\n",
       "      <th>unixReviewTime</th>\n",
       "      <th>vote</th>\n",
       "      <th>style</th>\n",
       "      <th>image</th>\n",
       "      <th>userid</th>\n",
       "      <th>itemid</th>\n",
       "      <th>rating</th>\n",
       "      <th>year</th>\n",
       "      <th>month</th>\n",
       "      <th>day</th>\n",
       "      <th>weekday</th>\n",
       "      <th>reviewText_len</th>\n",
       "      <th>summary_len</th>\n",
       "    </tr>\n",
       "  </thead>\n",
       "  <tbody>\n",
       "    <tr>\n",
       "      <th>1354</th>\n",
       "      <td>1</td>\n",
       "      <td>2014-09-29</td>\n",
       "      <td>Lizzi - Florida</td>\n",
       "      <td>This upset my tummy a bit but the cheesy biscu...</td>\n",
       "      <td>Biscuits were good. Pizza crust not so great.</td>\n",
       "      <td>1411948800</td>\n",
       "      <td>0</td>\n",
       "      <td>{'Size:': ' 3 lb Box'}</td>\n",
       "      <td>NaN</td>\n",
       "      <td>83048</td>\n",
       "      <td>16833</td>\n",
       "      <td>1</td>\n",
       "      <td>2014</td>\n",
       "      <td>9</td>\n",
       "      <td>29</td>\n",
       "      <td>1</td>\n",
       "      <td>306</td>\n",
       "      <td>45</td>\n",
       "    </tr>\n",
       "    <tr>\n",
       "      <th>2175</th>\n",
       "      <td>1</td>\n",
       "      <td>2018-04-30</td>\n",
       "      <td>Elizabeth</td>\n",
       "      <td>My pantry will never not have this in it.</td>\n",
       "      <td>Five Stars</td>\n",
       "      <td>1525046400</td>\n",
       "      <td>0</td>\n",
       "      <td>{'Size:': ' 3 lb Box'}</td>\n",
       "      <td>NaN</td>\n",
       "      <td>114744</td>\n",
       "      <td>16833</td>\n",
       "      <td>1</td>\n",
       "      <td>2018</td>\n",
       "      <td>4</td>\n",
       "      <td>30</td>\n",
       "      <td>1</td>\n",
       "      <td>41</td>\n",
       "      <td>10</td>\n",
       "    </tr>\n",
       "    <tr>\n",
       "      <th>3059</th>\n",
       "      <td>1</td>\n",
       "      <td>2014-07-10</td>\n",
       "      <td>Tony V</td>\n",
       "      <td>Great alternative to all purpose flour for tho...</td>\n",
       "      <td>Great alternative to all purpose flour for tho...</td>\n",
       "      <td>1404950400</td>\n",
       "      <td>0</td>\n",
       "      <td>{'Size:': ' 3 lb Box'}</td>\n",
       "      <td>NaN</td>\n",
       "      <td>52792</td>\n",
       "      <td>16833</td>\n",
       "      <td>1</td>\n",
       "      <td>2014</td>\n",
       "      <td>7</td>\n",
       "      <td>10</td>\n",
       "      <td>4</td>\n",
       "      <td>278</td>\n",
       "      <td>57</td>\n",
       "    </tr>\n",
       "    <tr>\n",
       "      <th>3201</th>\n",
       "      <td>1</td>\n",
       "      <td>2014-05-16</td>\n",
       "      <td>NEVER AGAIN</td>\n",
       "      <td>good item and cheap price .</td>\n",
       "      <td>Five Stars</td>\n",
       "      <td>1400198400</td>\n",
       "      <td>0</td>\n",
       "      <td>{'Size:': ' 3 lb Box'}</td>\n",
       "      <td>NaN</td>\n",
       "      <td>38945</td>\n",
       "      <td>16833</td>\n",
       "      <td>1</td>\n",
       "      <td>2014</td>\n",
       "      <td>5</td>\n",
       "      <td>16</td>\n",
       "      <td>5</td>\n",
       "      <td>27</td>\n",
       "      <td>10</td>\n",
       "    </tr>\n",
       "    <tr>\n",
       "      <th>4788</th>\n",
       "      <td>1</td>\n",
       "      <td>2017-12-03</td>\n",
       "      <td>joe</td>\n",
       "      <td>Makes great low carb biscuits.</td>\n",
       "      <td>Five Stars</td>\n",
       "      <td>1512259200</td>\n",
       "      <td>0</td>\n",
       "      <td>{'Size:': ' 3 lb Box'}</td>\n",
       "      <td>NaN</td>\n",
       "      <td>5511</td>\n",
       "      <td>16833</td>\n",
       "      <td>1</td>\n",
       "      <td>2017</td>\n",
       "      <td>12</td>\n",
       "      <td>3</td>\n",
       "      <td>0</td>\n",
       "      <td>30</td>\n",
       "      <td>10</td>\n",
       "    </tr>\n",
       "  </tbody>\n",
       "</table>\n",
       "</div>"
      ],
      "text/plain": [
       "      verified reviewTime     reviewerName  \\\n",
       "1354         1 2014-09-29  Lizzi - Florida   \n",
       "2175         1 2018-04-30        Elizabeth   \n",
       "3059         1 2014-07-10           Tony V   \n",
       "3201         1 2014-05-16      NEVER AGAIN   \n",
       "4788         1 2017-12-03              joe   \n",
       "\n",
       "                                             reviewText  \\\n",
       "1354  This upset my tummy a bit but the cheesy biscu...   \n",
       "2175          My pantry will never not have this in it.   \n",
       "3059  Great alternative to all purpose flour for tho...   \n",
       "3201                        good item and cheap price .   \n",
       "4788                     Makes great low carb biscuits.   \n",
       "\n",
       "                                                summary  unixReviewTime  vote  \\\n",
       "1354      Biscuits were good. Pizza crust not so great.      1411948800     0   \n",
       "2175                                         Five Stars      1525046400     0   \n",
       "3059  Great alternative to all purpose flour for tho...      1404950400     0   \n",
       "3201                                         Five Stars      1400198400     0   \n",
       "4788                                         Five Stars      1512259200     0   \n",
       "\n",
       "                       style image  userid  itemid  rating  year  month  day  \\\n",
       "1354  {'Size:': ' 3 lb Box'}   NaN   83048   16833       1  2014      9   29   \n",
       "2175  {'Size:': ' 3 lb Box'}   NaN  114744   16833       1  2018      4   30   \n",
       "3059  {'Size:': ' 3 lb Box'}   NaN   52792   16833       1  2014      7   10   \n",
       "3201  {'Size:': ' 3 lb Box'}   NaN   38945   16833       1  2014      5   16   \n",
       "4788  {'Size:': ' 3 lb Box'}   NaN    5511   16833       1  2017     12    3   \n",
       "\n",
       "      weekday  reviewText_len  summary_len  \n",
       "1354        1             306           45  \n",
       "2175        1              41           10  \n",
       "3059        4             278           57  \n",
       "3201        5              27           10  \n",
       "4788        0              30           10  "
      ]
     },
     "execution_count": 139,
     "metadata": {},
     "output_type": "execute_result"
    }
   ],
   "source": [
    "df[df['itemid'] == 16833].head()"
   ]
  },
  {
   "cell_type": "markdown",
   "metadata": {},
   "source": [
    "Посмотрим на самые популярные теги."
   ]
  },
  {
   "cell_type": "code",
   "execution_count": 141,
   "metadata": {},
   "outputs": [],
   "source": [
    "tags_pop = df_items_tags.merge(df_tags, left_on='tag_id', right_on='tag_id')"
   ]
  },
  {
   "cell_type": "code",
   "execution_count": 142,
   "metadata": {},
   "outputs": [
    {
     "data": {
      "text/plain": [
       "rice         23429\n",
       "nut          15136\n",
       "tea          14652\n",
       "coffee        8621\n",
       "pie           8222\n",
       "             ...  \n",
       "lollipop       170\n",
       "muesli          98\n",
       "quich           55\n",
       "cutlet          35\n",
       "antipasto       23\n",
       "Name: tag, Length: 107, dtype: int64"
      ]
     },
     "execution_count": 142,
     "metadata": {},
     "output_type": "execute_result"
    }
   ],
   "source": [
    "tags_pop['tag'].value_counts()"
   ]
  },
  {
   "cell_type": "markdown",
   "metadata": {},
   "source": [
    "Лидеры rice, nut и tea "
   ]
  },
  {
   "cell_type": "markdown",
   "metadata": {},
   "source": [
    "## Обучаем модель"
   ]
  },
  {
   "cell_type": "code",
   "execution_count": 143,
   "metadata": {},
   "outputs": [],
   "source": [
    "import scipy.sparse as sparse\n",
    "\n",
    "from lightfm import LightFM\n",
    "from lightfm.cross_validation import random_train_test_split\n",
    "from lightfm.evaluation import auc_score, precision_at_k, recall_at_k\n",
    "import sklearn\n",
    "from sklearn.model_selection import train_test_split\n",
    "\n",
    "import scipy.sparse as sparse"
   ]
  },
  {
   "cell_type": "code",
   "execution_count": 144,
   "metadata": {},
   "outputs": [],
   "source": [
    "train_data, test_data = train_test_split(df, random_state=32, shuffle=True)"
   ]
  },
  {
   "cell_type": "code",
   "execution_count": 145,
   "metadata": {},
   "outputs": [
    {
     "data": {
      "text/plain": [
       "<127496x41319 sparse matrix of type '<class 'numpy.int32'>'\n",
       "\twith 609099 stored elements in COOrdinate format>"
      ]
     },
     "execution_count": 145,
     "metadata": {},
     "output_type": "execute_result"
    }
   ],
   "source": [
    "ratings_coo = sparse.coo_matrix((train_data['rating'].astype(int),\n",
    "                                 (train_data['userid'],\n",
    "                                  train_data['itemid'])))\n",
    "ratings_coo"
   ]
  },
  {
   "cell_type": "code",
   "execution_count": 146,
   "metadata": {},
   "outputs": [
    {
     "data": {
      "text/plain": [
       "<41320x108 sparse matrix of type '<class 'numpy.int32'>'\n",
       "\twith 300880 stored elements in COOrdinate format>"
      ]
     },
     "execution_count": 146,
     "metadata": {},
     "output_type": "execute_result"
    }
   ],
   "source": [
    "feature_ratings = sparse.coo_matrix(([1]*len(df_items_tags),(df_items_tags.itemid, df_items_tags.tag_id)))\n",
    "feature_ratings"
   ]
  },
  {
   "cell_type": "code",
   "execution_count": 147,
   "metadata": {},
   "outputs": [
    {
     "name": "stdout",
     "output_type": "stream",
     "text": [
      "Epoch 0\n",
      "Epoch 1\n",
      "Epoch 2\n",
      "Epoch 3\n",
      "Epoch 4\n"
     ]
    }
   ],
   "source": [
    "NUM_THREADS = 4 #число потоков\n",
    "NUM_COMPONENTS = 108 #число параметров вектора \n",
    "NUM_EPOCHS = 5 #число эпох обучения\n",
    "\n",
    "model = LightFM(learning_rate=0.1, loss='logistic',\n",
    "                no_components=NUM_COMPONENTS)\n",
    "model = model.fit(ratings_coo, epochs=NUM_EPOCHS, \n",
    "                  num_threads=NUM_THREADS,\n",
    "                  item_features=feature_ratings,\n",
    "                  verbose=True)"
   ]
  },
  {
   "cell_type": "code",
   "execution_count": 148,
   "metadata": {},
   "outputs": [],
   "source": [
    "preds = model.predict(test_data.userid.values,\n",
    "                      test_data.itemid.values,\n",
    "                      item_features=feature_ratings\n",
    "                     )"
   ]
  },
  {
   "cell_type": "code",
   "execution_count": 149,
   "metadata": {},
   "outputs": [
    {
     "data": {
      "text/plain": [
       "0.67096687482136"
      ]
     },
     "execution_count": 149,
     "metadata": {},
     "output_type": "execute_result"
    }
   ],
   "source": [
    "sklearn.metrics.roc_auc_score(test_data.rating,preds)"
   ]
  },
  {
   "cell_type": "markdown",
   "metadata": {},
   "source": [
    "Попробуем другой loss"
   ]
  },
  {
   "cell_type": "code",
   "execution_count": 150,
   "metadata": {},
   "outputs": [
    {
     "name": "stdout",
     "output_type": "stream",
     "text": [
      "Epoch 0\n",
      "Epoch 1\n",
      "Epoch 2\n",
      "Epoch 3\n",
      "Epoch 4\n"
     ]
    }
   ],
   "source": [
    "NUM_THREADS = 4 #число потоков\n",
    "NUM_COMPONENTS = 30 #число параметров вектора \n",
    "NUM_EPOCHS = 5 #число эпох обучения\n",
    "\n",
    "model = LightFM(learning_rate=0.1, loss='warp',\n",
    "                no_components=NUM_COMPONENTS)\n",
    "model = model.fit(ratings_coo, epochs=NUM_EPOCHS, \n",
    "                  num_threads=NUM_THREADS,\n",
    "                  item_features=feature_ratings,\n",
    "                  verbose=True)"
   ]
  },
  {
   "cell_type": "code",
   "execution_count": 151,
   "metadata": {},
   "outputs": [],
   "source": [
    "preds = model.predict(test_data.userid.values,\n",
    "                      test_data.itemid.values,\n",
    "                      item_features=feature_ratings\n",
    "                     )"
   ]
  },
  {
   "cell_type": "code",
   "execution_count": 152,
   "metadata": {},
   "outputs": [
    {
     "data": {
      "text/plain": [
       "0.5114649253283032"
      ]
     },
     "execution_count": 152,
     "metadata": {},
     "output_type": "execute_result"
    }
   ],
   "source": [
    "sklearn.metrics.roc_auc_score(test_data.rating,preds)"
   ]
  },
  {
   "cell_type": "markdown",
   "metadata": {},
   "source": [
    "Попробуем другой learning_rate"
   ]
  },
  {
   "cell_type": "code",
   "execution_count": 153,
   "metadata": {},
   "outputs": [
    {
     "name": "stdout",
     "output_type": "stream",
     "text": [
      "Epoch 0\n",
      "Epoch 1\n",
      "Epoch 2\n",
      "Epoch 3\n",
      "Epoch 4\n"
     ]
    }
   ],
   "source": [
    "NUM_THREADS = 4 #число потоков\n",
    "NUM_COMPONENTS = 60 #число параметров вектора \n",
    "NUM_EPOCHS = 5 #число эпох обучения\n",
    "\n",
    "model = LightFM(learning_rate=0.05, loss='logistic', no_components=NUM_COMPONENTS)\n",
    "model = model.fit(ratings_coo, epochs=NUM_EPOCHS, \n",
    "                  num_threads=NUM_THREADS,\n",
    "                  item_features=feature_ratings,\n",
    "                  verbose=True)"
   ]
  },
  {
   "cell_type": "code",
   "execution_count": 155,
   "metadata": {},
   "outputs": [
    {
     "data": {
      "text/plain": [
       "0.6793627108722721"
      ]
     },
     "execution_count": 155,
     "metadata": {},
     "output_type": "execute_result"
    }
   ],
   "source": [
    "preds = model.predict(test_data.userid.values,\n",
    "                      test_data.itemid.values,\n",
    "                      item_features=feature_ratings\n",
    "                     )\n",
    "sklearn.metrics.roc_auc_score(test_data.rating,preds)"
   ]
  },
  {
   "cell_type": "markdown",
   "metadata": {},
   "source": [
    "#### Обучим модель на всех данных."
   ]
  },
  {
   "cell_type": "code",
   "execution_count": 156,
   "metadata": {},
   "outputs": [
    {
     "data": {
      "text/plain": [
       "<127496x41320 sparse matrix of type '<class 'numpy.int32'>'\n",
       "\twith 812132 stored elements in COOrdinate format>"
      ]
     },
     "execution_count": 156,
     "metadata": {},
     "output_type": "execute_result"
    }
   ],
   "source": [
    "ratings_coo = sparse.coo_matrix((df['rating'].astype(int),\n",
    "                                 (df['userid'],\n",
    "                                  df['itemid'])))\n",
    "ratings_coo"
   ]
  },
  {
   "cell_type": "code",
   "execution_count": 157,
   "metadata": {},
   "outputs": [
    {
     "data": {
      "text/plain": [
       "<41320x108 sparse matrix of type '<class 'numpy.int32'>'\n",
       "\twith 300880 stored elements in COOrdinate format>"
      ]
     },
     "execution_count": 157,
     "metadata": {},
     "output_type": "execute_result"
    }
   ],
   "source": [
    "feature_ratings = sparse.coo_matrix(([1]*len(df_items_tags),(df_items_tags.itemid, df_items_tags.tag_id)))\n",
    "feature_ratings"
   ]
  },
  {
   "cell_type": "code",
   "execution_count": 158,
   "metadata": {
    "scrolled": true
   },
   "outputs": [
    {
     "name": "stdout",
     "output_type": "stream",
     "text": [
      "Epoch 0\n",
      "Epoch 1\n",
      "Epoch 2\n",
      "Epoch 3\n",
      "Epoch 4\n",
      "Epoch 5\n",
      "Epoch 6\n",
      "Epoch 7\n",
      "Epoch 8\n",
      "Epoch 9\n",
      "Epoch 10\n",
      "Epoch 11\n",
      "Epoch 12\n",
      "Epoch 13\n",
      "Epoch 14\n",
      "Epoch 15\n",
      "Epoch 16\n",
      "Epoch 17\n",
      "Epoch 18\n",
      "Epoch 19\n"
     ]
    }
   ],
   "source": [
    "NUM_THREADS = 4 #число потоков\n",
    "NUM_COMPONENTS = 30 #число параметров вектора \n",
    "NUM_EPOCHS = 20 #число эпох обучения\n",
    "\n",
    "model = LightFM(learning_rate=0.05, loss='logistic', no_components=NUM_COMPONENTS)\n",
    "model = model.fit(ratings_coo, epochs=NUM_EPOCHS, \n",
    "                  num_threads=NUM_THREADS,\n",
    "                  item_features=feature_ratings,\n",
    "                  verbose=True)"
   ]
  },
  {
   "cell_type": "code",
   "execution_count": 159,
   "metadata": {},
   "outputs": [],
   "source": [
    "# Достаём эмбеддинги\n",
    "item_biases, item_embeddings = model.get_item_representations(features=feature_ratings)"
   ]
  },
  {
   "cell_type": "code",
   "execution_count": 160,
   "metadata": {},
   "outputs": [
    {
     "data": {
      "text/plain": [
       "(41320, 30)"
      ]
     },
     "execution_count": 160,
     "metadata": {},
     "output_type": "execute_result"
    }
   ],
   "source": [
    "item_embeddings.shape"
   ]
  },
  {
   "cell_type": "code",
   "execution_count": 161,
   "metadata": {},
   "outputs": [],
   "source": [
    "import nmslib\n",
    "\n",
    "#Создаём наш граф для поиска\n",
    "nms_idx = nmslib.init(method='hnsw', space='cosinesimil')\n",
    "\n",
    "#Начинаем добавлять наши книги в граф\n",
    "nms_idx.addDataPointBatch(item_embeddings)\n",
    "nms_idx.createIndex(print_progress=True)\n",
    "\n",
    "#Вспомогательная функция для поиска по графу\n",
    "\n",
    "def nearest_items_nms(item_id, index, n=10):\n",
    "    nn = index.knnQuery(item_embeddings[item_id], k=n)\n",
    "    return nn"
   ]
  },
  {
   "cell_type": "markdown",
   "metadata": {},
   "source": [
    "#### Проверяем модель"
   ]
  },
  {
   "cell_type": "markdown",
   "metadata": {},
   "source": [
    "Давайте попробуем написать рекомендации к товару в категории pizza."
   ]
  },
  {
   "cell_type": "code",
   "execution_count": 181,
   "metadata": {},
   "outputs": [
    {
     "data": {
      "text/html": [
       "<div>\n",
       "<style scoped>\n",
       "    .dataframe tbody tr th:only-of-type {\n",
       "        vertical-align: middle;\n",
       "    }\n",
       "\n",
       "    .dataframe tbody tr th {\n",
       "        vertical-align: top;\n",
       "    }\n",
       "\n",
       "    .dataframe thead th {\n",
       "        text-align: right;\n",
       "    }\n",
       "</style>\n",
       "<table border=\"1\" class=\"dataframe\">\n",
       "  <thead>\n",
       "    <tr style=\"text-align: right;\">\n",
       "      <th></th>\n",
       "      <th>tag_id</th>\n",
       "      <th>tag</th>\n",
       "    </tr>\n",
       "  </thead>\n",
       "  <tbody>\n",
       "    <tr>\n",
       "      <th>18</th>\n",
       "      <td>18</td>\n",
       "      <td>pizza</td>\n",
       "    </tr>\n",
       "  </tbody>\n",
       "</table>\n",
       "</div>"
      ],
      "text/plain": [
       "    tag_id    tag\n",
       "18      18  pizza"
      ]
     },
     "execution_count": 181,
     "metadata": {},
     "output_type": "execute_result"
    }
   ],
   "source": [
    "df_tags[df_tags['tag']=='pizza']"
   ]
  },
  {
   "cell_type": "code",
   "execution_count": 182,
   "metadata": {},
   "outputs": [
    {
     "data": {
      "text/html": [
       "<div>\n",
       "<style scoped>\n",
       "    .dataframe tbody tr th:only-of-type {\n",
       "        vertical-align: middle;\n",
       "    }\n",
       "\n",
       "    .dataframe tbody tr th {\n",
       "        vertical-align: top;\n",
       "    }\n",
       "\n",
       "    .dataframe thead th {\n",
       "        text-align: right;\n",
       "    }\n",
       "</style>\n",
       "<table border=\"1\" class=\"dataframe\">\n",
       "  <thead>\n",
       "    <tr style=\"text-align: right;\">\n",
       "      <th></th>\n",
       "      <th>itemid</th>\n",
       "      <th>tag_id</th>\n",
       "      <th>tag</th>\n",
       "    </tr>\n",
       "  </thead>\n",
       "  <tbody>\n",
       "    <tr>\n",
       "      <th>0</th>\n",
       "      <td>9831</td>\n",
       "      <td>18</td>\n",
       "      <td>pizza</td>\n",
       "    </tr>\n",
       "    <tr>\n",
       "      <th>1</th>\n",
       "      <td>32384</td>\n",
       "      <td>18</td>\n",
       "      <td>pizza</td>\n",
       "    </tr>\n",
       "    <tr>\n",
       "      <th>2</th>\n",
       "      <td>18219</td>\n",
       "      <td>18</td>\n",
       "      <td>pizza</td>\n",
       "    </tr>\n",
       "    <tr>\n",
       "      <th>3</th>\n",
       "      <td>32002</td>\n",
       "      <td>18</td>\n",
       "      <td>pizza</td>\n",
       "    </tr>\n",
       "    <tr>\n",
       "      <th>4</th>\n",
       "      <td>6823</td>\n",
       "      <td>18</td>\n",
       "      <td>pizza</td>\n",
       "    </tr>\n",
       "    <tr>\n",
       "      <th>...</th>\n",
       "      <td>...</td>\n",
       "      <td>...</td>\n",
       "      <td>...</td>\n",
       "    </tr>\n",
       "    <tr>\n",
       "      <th>1094</th>\n",
       "      <td>10841</td>\n",
       "      <td>18</td>\n",
       "      <td>pizza</td>\n",
       "    </tr>\n",
       "    <tr>\n",
       "      <th>1095</th>\n",
       "      <td>15177</td>\n",
       "      <td>18</td>\n",
       "      <td>pizza</td>\n",
       "    </tr>\n",
       "    <tr>\n",
       "      <th>1096</th>\n",
       "      <td>143</td>\n",
       "      <td>18</td>\n",
       "      <td>pizza</td>\n",
       "    </tr>\n",
       "    <tr>\n",
       "      <th>1097</th>\n",
       "      <td>38380</td>\n",
       "      <td>18</td>\n",
       "      <td>pizza</td>\n",
       "    </tr>\n",
       "    <tr>\n",
       "      <th>1098</th>\n",
       "      <td>10260</td>\n",
       "      <td>18</td>\n",
       "      <td>pizza</td>\n",
       "    </tr>\n",
       "  </tbody>\n",
       "</table>\n",
       "<p>1099 rows × 3 columns</p>\n",
       "</div>"
      ],
      "text/plain": [
       "      itemid  tag_id    tag\n",
       "0       9831      18  pizza\n",
       "1      32384      18  pizza\n",
       "2      18219      18  pizza\n",
       "3      32002      18  pizza\n",
       "4       6823      18  pizza\n",
       "...      ...     ...    ...\n",
       "1094   10841      18  pizza\n",
       "1095   15177      18  pizza\n",
       "1096     143      18  pizza\n",
       "1097   38380      18  pizza\n",
       "1098   10260      18  pizza\n",
       "\n",
       "[1099 rows x 3 columns]"
      ]
     },
     "execution_count": 182,
     "metadata": {},
     "output_type": "execute_result"
    }
   ],
   "source": [
    "df_items_tags[df_items_tags['tag_id'] == 18].merge(df_tags, left_on='tag_id', right_on='tag_id')"
   ]
  },
  {
   "cell_type": "code",
   "execution_count": 185,
   "metadata": {},
   "outputs": [
    {
     "data": {
      "text/html": [
       "<div>\n",
       "<style scoped>\n",
       "    .dataframe tbody tr th:only-of-type {\n",
       "        vertical-align: middle;\n",
       "    }\n",
       "\n",
       "    .dataframe tbody tr th {\n",
       "        vertical-align: top;\n",
       "    }\n",
       "\n",
       "    .dataframe thead th {\n",
       "        text-align: right;\n",
       "    }\n",
       "</style>\n",
       "<table border=\"1\" class=\"dataframe\">\n",
       "  <thead>\n",
       "    <tr style=\"text-align: right;\">\n",
       "      <th></th>\n",
       "      <th>itemid</th>\n",
       "      <th>tag_id</th>\n",
       "      <th>tag</th>\n",
       "    </tr>\n",
       "  </thead>\n",
       "  <tbody>\n",
       "    <tr>\n",
       "      <th>0</th>\n",
       "      <td>143</td>\n",
       "      <td>47</td>\n",
       "      <td>egg</td>\n",
       "    </tr>\n",
       "    <tr>\n",
       "      <th>1</th>\n",
       "      <td>143</td>\n",
       "      <td>62</td>\n",
       "      <td>soup</td>\n",
       "    </tr>\n",
       "    <tr>\n",
       "      <th>2</th>\n",
       "      <td>143</td>\n",
       "      <td>92</td>\n",
       "      <td>rice</td>\n",
       "    </tr>\n",
       "    <tr>\n",
       "      <th>3</th>\n",
       "      <td>143</td>\n",
       "      <td>55</td>\n",
       "      <td>salad</td>\n",
       "    </tr>\n",
       "    <tr>\n",
       "      <th>4</th>\n",
       "      <td>143</td>\n",
       "      <td>85</td>\n",
       "      <td>burger</td>\n",
       "    </tr>\n",
       "    <tr>\n",
       "      <th>5</th>\n",
       "      <td>143</td>\n",
       "      <td>22</td>\n",
       "      <td>flakes</td>\n",
       "    </tr>\n",
       "    <tr>\n",
       "      <th>6</th>\n",
       "      <td>143</td>\n",
       "      <td>1</td>\n",
       "      <td>tea</td>\n",
       "    </tr>\n",
       "    <tr>\n",
       "      <th>7</th>\n",
       "      <td>143</td>\n",
       "      <td>70</td>\n",
       "      <td>potato</td>\n",
       "    </tr>\n",
       "    <tr>\n",
       "      <th>8</th>\n",
       "      <td>143</td>\n",
       "      <td>65</td>\n",
       "      <td>nut</td>\n",
       "    </tr>\n",
       "    <tr>\n",
       "      <th>9</th>\n",
       "      <td>143</td>\n",
       "      <td>57</td>\n",
       "      <td>pasta</td>\n",
       "    </tr>\n",
       "    <tr>\n",
       "      <th>10</th>\n",
       "      <td>143</td>\n",
       "      <td>99</td>\n",
       "      <td>gluten</td>\n",
       "    </tr>\n",
       "    <tr>\n",
       "      <th>11</th>\n",
       "      <td>143</td>\n",
       "      <td>18</td>\n",
       "      <td>pizza</td>\n",
       "    </tr>\n",
       "  </tbody>\n",
       "</table>\n",
       "</div>"
      ],
      "text/plain": [
       "    itemid  tag_id     tag\n",
       "0      143      47     egg\n",
       "1      143      62    soup\n",
       "2      143      92    rice\n",
       "3      143      55   salad\n",
       "4      143      85  burger\n",
       "5      143      22  flakes\n",
       "6      143       1     tea\n",
       "7      143      70  potato\n",
       "8      143      65     nut\n",
       "9      143      57   pasta\n",
       "10     143      99  gluten\n",
       "11     143      18   pizza"
      ]
     },
     "execution_count": 185,
     "metadata": {},
     "output_type": "execute_result"
    }
   ],
   "source": [
    "df_items_tags[df_items_tags['itemid'] == 143].merge(df_tags, left_on='tag_id', right_on='tag_id')"
   ]
  },
  {
   "cell_type": "code",
   "execution_count": 191,
   "metadata": {},
   "outputs": [
    {
     "data": {
      "text/plain": [
       "array([   17,  4565,  6434, 11779, 28426, 33885, 39339, 37859, 39433,\n",
       "       39778])"
      ]
     },
     "execution_count": 191,
     "metadata": {},
     "output_type": "execute_result"
    }
   ],
   "source": [
    "nearest_items = nearest_items_nms(1, nms_idx)[0]\n",
    "nearest_items"
   ]
  },
  {
   "cell_type": "code",
   "execution_count": 192,
   "metadata": {
    "scrolled": false
   },
   "outputs": [
    {
     "data": {
      "text/html": [
       "<div>\n",
       "<style scoped>\n",
       "    .dataframe tbody tr th:only-of-type {\n",
       "        vertical-align: middle;\n",
       "    }\n",
       "\n",
       "    .dataframe tbody tr th {\n",
       "        vertical-align: top;\n",
       "    }\n",
       "\n",
       "    .dataframe thead th {\n",
       "        text-align: right;\n",
       "    }\n",
       "</style>\n",
       "<table border=\"1\" class=\"dataframe\">\n",
       "  <thead>\n",
       "    <tr style=\"text-align: right;\">\n",
       "      <th></th>\n",
       "      <th>verified</th>\n",
       "      <th>reviewTime</th>\n",
       "      <th>reviewerName</th>\n",
       "      <th>reviewText</th>\n",
       "      <th>summary</th>\n",
       "      <th>unixReviewTime</th>\n",
       "      <th>vote</th>\n",
       "      <th>style</th>\n",
       "      <th>image</th>\n",
       "      <th>userid</th>\n",
       "      <th>itemid</th>\n",
       "      <th>rating</th>\n",
       "      <th>year</th>\n",
       "      <th>month</th>\n",
       "      <th>day</th>\n",
       "      <th>weekday</th>\n",
       "      <th>reviewText_len</th>\n",
       "      <th>summary_len</th>\n",
       "    </tr>\n",
       "  </thead>\n",
       "  <tbody>\n",
       "    <tr>\n",
       "      <th>18984</th>\n",
       "      <td>1</td>\n",
       "      <td>2018-05-01</td>\n",
       "      <td>bradley pocock</td>\n",
       "      <td>Good stuff, Thank you.</td>\n",
       "      <td>Five Stars</td>\n",
       "      <td>1525132800</td>\n",
       "      <td>0</td>\n",
       "      <td>NaN</td>\n",
       "      <td>NaN</td>\n",
       "      <td>16323</td>\n",
       "      <td>11779</td>\n",
       "      <td>1</td>\n",
       "      <td>2018</td>\n",
       "      <td>5</td>\n",
       "      <td>1</td>\n",
       "      <td>2</td>\n",
       "      <td>22</td>\n",
       "      <td>10</td>\n",
       "    </tr>\n",
       "    <tr>\n",
       "      <th>42431</th>\n",
       "      <td>1</td>\n",
       "      <td>2014-08-26</td>\n",
       "      <td>VT</td>\n",
       "      <td>Garlic is small so most cloves are tiny.</td>\n",
       "      <td>Three Stars</td>\n",
       "      <td>1409011200</td>\n",
       "      <td>0</td>\n",
       "      <td>NaN</td>\n",
       "      <td>NaN</td>\n",
       "      <td>53792</td>\n",
       "      <td>11779</td>\n",
       "      <td>0</td>\n",
       "      <td>2014</td>\n",
       "      <td>8</td>\n",
       "      <td>26</td>\n",
       "      <td>2</td>\n",
       "      <td>40</td>\n",
       "      <td>11</td>\n",
       "    </tr>\n",
       "    <tr>\n",
       "      <th>49139</th>\n",
       "      <td>1</td>\n",
       "      <td>2017-05-28</td>\n",
       "      <td>TechSteph</td>\n",
       "      <td>This is my favorite sparkling water!  Perfect ...</td>\n",
       "      <td>Best sparkling water ever!!!</td>\n",
       "      <td>1495929600</td>\n",
       "      <td>0</td>\n",
       "      <td>NaN</td>\n",
       "      <td>NaN</td>\n",
       "      <td>73933</td>\n",
       "      <td>37859</td>\n",
       "      <td>1</td>\n",
       "      <td>2017</td>\n",
       "      <td>5</td>\n",
       "      <td>28</td>\n",
       "      <td>0</td>\n",
       "      <td>257</td>\n",
       "      <td>28</td>\n",
       "    </tr>\n",
       "    <tr>\n",
       "      <th>51130</th>\n",
       "      <td>1</td>\n",
       "      <td>2017-01-15</td>\n",
       "      <td>Robin</td>\n",
       "      <td>Accurately described - good value - fast shipp...</td>\n",
       "      <td>Ok for high volume use - not for prolonged use</td>\n",
       "      <td>1484438400</td>\n",
       "      <td>0</td>\n",
       "      <td>NaN</td>\n",
       "      <td>NaN</td>\n",
       "      <td>441</td>\n",
       "      <td>17</td>\n",
       "      <td>1</td>\n",
       "      <td>2017</td>\n",
       "      <td>1</td>\n",
       "      <td>15</td>\n",
       "      <td>0</td>\n",
       "      <td>230</td>\n",
       "      <td>46</td>\n",
       "    </tr>\n",
       "    <tr>\n",
       "      <th>74652</th>\n",
       "      <td>0</td>\n",
       "      <td>2016-08-29</td>\n",
       "      <td>Celia Rutherford</td>\n",
       "      <td>This watermelon spears are good for you as wel...</td>\n",
       "      <td>Taste good</td>\n",
       "      <td>1472428800</td>\n",
       "      <td>0</td>\n",
       "      <td>NaN</td>\n",
       "      <td>NaN</td>\n",
       "      <td>39795</td>\n",
       "      <td>28426</td>\n",
       "      <td>1</td>\n",
       "      <td>2016</td>\n",
       "      <td>8</td>\n",
       "      <td>29</td>\n",
       "      <td>1</td>\n",
       "      <td>62</td>\n",
       "      <td>10</td>\n",
       "    </tr>\n",
       "  </tbody>\n",
       "</table>\n",
       "</div>"
      ],
      "text/plain": [
       "       verified reviewTime      reviewerName  \\\n",
       "18984         1 2018-05-01    bradley pocock   \n",
       "42431         1 2014-08-26                VT   \n",
       "49139         1 2017-05-28         TechSteph   \n",
       "51130         1 2017-01-15             Robin   \n",
       "74652         0 2016-08-29  Celia Rutherford   \n",
       "\n",
       "                                              reviewText  \\\n",
       "18984                             Good stuff, Thank you.   \n",
       "42431           Garlic is small so most cloves are tiny.   \n",
       "49139  This is my favorite sparkling water!  Perfect ...   \n",
       "51130  Accurately described - good value - fast shipp...   \n",
       "74652  This watermelon spears are good for you as wel...   \n",
       "\n",
       "                                              summary  unixReviewTime  vote  \\\n",
       "18984                                      Five Stars      1525132800     0   \n",
       "42431                                     Three Stars      1409011200     0   \n",
       "49139                    Best sparkling water ever!!!      1495929600     0   \n",
       "51130  Ok for high volume use - not for prolonged use      1484438400     0   \n",
       "74652                                      Taste good      1472428800     0   \n",
       "\n",
       "      style image  userid  itemid  rating  year  month  day  weekday  \\\n",
       "18984   NaN   NaN   16323   11779       1  2018      5    1        2   \n",
       "42431   NaN   NaN   53792   11779       0  2014      8   26        2   \n",
       "49139   NaN   NaN   73933   37859       1  2017      5   28        0   \n",
       "51130   NaN   NaN     441      17       1  2017      1   15        0   \n",
       "74652   NaN   NaN   39795   28426       1  2016      8   29        1   \n",
       "\n",
       "       reviewText_len  summary_len  \n",
       "18984              22           10  \n",
       "42431              40           11  \n",
       "49139             257           28  \n",
       "51130             230           46  \n",
       "74652              62           10  "
      ]
     },
     "execution_count": 192,
     "metadata": {},
     "output_type": "execute_result"
    }
   ],
   "source": [
    "#Выводим похожие товары.\n",
    "\n",
    "df[df['itemid'].isin(nearest_items)].head()"
   ]
  },
  {
   "cell_type": "markdown",
   "metadata": {},
   "source": [
    "Подготовим свою модель к внедрению в продакшен"
   ]
  },
  {
   "cell_type": "code",
   "execution_count": 164,
   "metadata": {},
   "outputs": [],
   "source": [
    "import pickle\n",
    "with open('item_embeddings_2.pickle', 'wb') as file:\n",
    "    pickle.dump(item_embeddings, file, protocol=pickle.HIGHEST_PROTOCOL)"
   ]
  },
  {
   "cell_type": "markdown",
   "metadata": {},
   "source": [
    "Делаем submission"
   ]
  },
  {
   "cell_type": "code",
   "execution_count": 165,
   "metadata": {},
   "outputs": [],
   "source": [
    "test = pd.read_csv('data3/test_v3.csv', low_memory=False)"
   ]
  },
  {
   "cell_type": "code",
   "execution_count": 167,
   "metadata": {},
   "outputs": [],
   "source": [
    "preds = model.predict(test.userid.values,\n",
    "                      test.itemid.values,\n",
    "                     item_features=feature_ratings)"
   ]
  },
  {
   "cell_type": "code",
   "execution_count": 168,
   "metadata": {},
   "outputs": [
    {
     "data": {
      "text/plain": [
       "(-38.92748260498047, 74.69732666015625)"
      ]
     },
     "execution_count": 168,
     "metadata": {},
     "output_type": "execute_result"
    }
   ],
   "source": [
    "preds.min(), preds.max()"
   ]
  },
  {
   "cell_type": "code",
   "execution_count": 169,
   "metadata": {},
   "outputs": [
    {
     "data": {
      "text/plain": [
       "(0.0, 1.0)"
      ]
     },
     "execution_count": 169,
     "metadata": {},
     "output_type": "execute_result"
    }
   ],
   "source": [
    "normalized_preds = (preds - preds.min())/(preds - preds.min()).max()\n",
    "normalized_preds.min(), normalized_preds.max()"
   ]
  },
  {
   "cell_type": "code",
   "execution_count": 170,
   "metadata": {},
   "outputs": [],
   "source": [
    "submission = pd.read_csv('data3/sample_submission.csv')"
   ]
  },
  {
   "cell_type": "code",
   "execution_count": 171,
   "metadata": {},
   "outputs": [],
   "source": [
    "submission['rating']= normalized_preds"
   ]
  },
  {
   "cell_type": "code",
   "execution_count": 172,
   "metadata": {},
   "outputs": [
    {
     "data": {
      "text/html": [
       "<div>\n",
       "<style scoped>\n",
       "    .dataframe tbody tr th:only-of-type {\n",
       "        vertical-align: middle;\n",
       "    }\n",
       "\n",
       "    .dataframe tbody tr th {\n",
       "        vertical-align: top;\n",
       "    }\n",
       "\n",
       "    .dataframe thead th {\n",
       "        text-align: right;\n",
       "    }\n",
       "</style>\n",
       "<table border=\"1\" class=\"dataframe\">\n",
       "  <thead>\n",
       "    <tr style=\"text-align: right;\">\n",
       "      <th></th>\n",
       "      <th>Id</th>\n",
       "      <th>rating</th>\n",
       "    </tr>\n",
       "  </thead>\n",
       "  <tbody>\n",
       "    <tr>\n",
       "      <th>0</th>\n",
       "      <td>0</td>\n",
       "      <td>0.401176</td>\n",
       "    </tr>\n",
       "    <tr>\n",
       "      <th>1</th>\n",
       "      <td>1</td>\n",
       "      <td>0.370891</td>\n",
       "    </tr>\n",
       "    <tr>\n",
       "      <th>2</th>\n",
       "      <td>2</td>\n",
       "      <td>0.422314</td>\n",
       "    </tr>\n",
       "    <tr>\n",
       "      <th>3</th>\n",
       "      <td>3</td>\n",
       "      <td>0.367452</td>\n",
       "    </tr>\n",
       "    <tr>\n",
       "      <th>4</th>\n",
       "      <td>4</td>\n",
       "      <td>0.439210</td>\n",
       "    </tr>\n",
       "  </tbody>\n",
       "</table>\n",
       "</div>"
      ],
      "text/plain": [
       "   Id    rating\n",
       "0   0  0.401176\n",
       "1   1  0.370891\n",
       "2   2  0.422314\n",
       "3   3  0.367452\n",
       "4   4  0.439210"
      ]
     },
     "execution_count": 172,
     "metadata": {},
     "output_type": "execute_result"
    }
   ],
   "source": [
    "submission.head()"
   ]
  },
  {
   "cell_type": "code",
   "execution_count": 173,
   "metadata": {},
   "outputs": [],
   "source": [
    "# сохраним в виде csv-файла\n",
    "submission.to_csv('submission_8.csv', index = False)"
   ]
  },
  {
   "cell_type": "code",
   "execution_count": 174,
   "metadata": {},
   "outputs": [
    {
     "data": {
      "text/plain": [
       "<matplotlib.axes._subplots.AxesSubplot at 0x29e0348b828>"
      ]
     },
     "execution_count": 174,
     "metadata": {},
     "output_type": "execute_result"
    },
    {
     "data": {
      "image/png": "[encoded data removed]",
      "text/plain": [
       "<Figure size 432x288 with 1 Axes>"
      ]
     },
     "metadata": {
      "needs_background": "light"
     },
     "output_type": "display_data"
    }
   ],
   "source": [
    "submission['rating'].hist(bins=50)"
   ]
  },
  {
   "cell_type": "markdown",
   "metadata": {},
   "source": [
    "### Выводы"
   ]
  },
  {
   "cell_type": "markdown",
   "metadata": {},
   "source": [
    "- Пользователям нужно показывать товары с наибольшим количеством оценок других пользователей. Чем больше оценок, тем больше средний рейтинг товара. Товары, которые никому не понравились раньше, скорее всего не понравятся и текущим пользователям (при условии, что товар был оценен несколькими пользователями). \n",
    "- Если у товара давно не было свежих оценок, то он должен иметь меньший приоритет при показе, чем товар со свежими оценками.\n",
    "- Самый часто оцениваемый товар - это товар из категории \"Snack\". Все товары из ТОП-4 это \"Snack\".\n",
    "- Самые встречающиеся теги у товаров: rice, nut и tea.\n",
    "- Если пользователь еще не оценивал товары (новый пользователь), то ему можно показывать популярные товары из той же категории, которую он сейчас смотрит.\n",
    "- Эффективность от внедрения модели в реальную работы можно оценить с помощью A/B-тестирования. Одна группа пользователей будет получать рекомендации на сайте, а другая нет. Через заранее определенный срок следует сделать выводы, увеличился ли средний чек покупателя, который получал рекомендации или нет."
   ]
  },
  {
   "cell_type": "markdown",
   "metadata": {},
   "source": [
    "Для улучшения показателей системы можно:\n",
    "- усовершенствовать способ определения тегов для товара,\n",
    "- создать признаки, характеризующие пользователя (напрмер, верифицирован ли пользователь)\n",
    "- попробовать обучить модель, используя другие библиотеки, "
   ]
  },
  {
   "cell_type": "code",
   "execution_count": null,
   "metadata": {},
   "outputs": [],
   "source": []
  }
 ],
 "metadata": {
  "kernelspec": {
   "display_name": "Python 3",
   "language": "python",
   "name": "python3"
  },
  "language_info": {
   "codemirror_mode": {
    "name": "ipython",
    "version": 3
   },
   "file_extension": ".py",
   "mimetype": "text/x-python",
   "name": "python",
   "nbconvert_exporter": "python",
   "pygments_lexer": "ipython3",
   "version": "3.7.3"
  }
 },
 "nbformat": 4,
 "nbformat_minor": 2
}
