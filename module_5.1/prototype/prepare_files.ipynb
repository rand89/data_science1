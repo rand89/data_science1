{
 "cells": [
  {
   "cell_type": "markdown",
   "metadata": {},
   "source": [
    "## Модуль 5.1 - Рекомендательные системы\n",
    "### Подготовка датасетов для прототипа системы"
   ]
  },
  {
   "cell_type": "markdown",
   "metadata": {},
   "source": [
    "## Импорт библиотек"
   ]
  },
  {
   "cell_type": "code",
   "execution_count": 1,
   "metadata": {},
   "outputs": [],
   "source": [
    "import pandas as pd\n",
    "import json "
   ]
  },
  {
   "cell_type": "markdown",
   "metadata": {},
   "source": [
    "## Получаем данные"
   ]
  },
  {
   "cell_type": "code",
   "execution_count": 2,
   "metadata": {},
   "outputs": [],
   "source": [
    "df = pd.read_csv('data4/train.zip', low_memory=False)"
   ]
  },
  {
   "cell_type": "code",
   "execution_count": 3,
   "metadata": {},
   "outputs": [
    {
     "data": {
      "text/html": [
       "<div>\n",
       "<style scoped>\n",
       "    .dataframe tbody tr th:only-of-type {\n",
       "        vertical-align: middle;\n",
       "    }\n",
       "\n",
       "    .dataframe tbody tr th {\n",
       "        vertical-align: top;\n",
       "    }\n",
       "\n",
       "    .dataframe thead th {\n",
       "        text-align: right;\n",
       "    }\n",
       "</style>\n",
       "<table border=\"1\" class=\"dataframe\">\n",
       "  <thead>\n",
       "    <tr style=\"text-align: right;\">\n",
       "      <th></th>\n",
       "      <th>overall</th>\n",
       "      <th>verified</th>\n",
       "      <th>reviewTime</th>\n",
       "      <th>asin</th>\n",
       "      <th>reviewerName</th>\n",
       "      <th>reviewText</th>\n",
       "      <th>summary</th>\n",
       "      <th>unixReviewTime</th>\n",
       "      <th>vote</th>\n",
       "      <th>style</th>\n",
       "      <th>image</th>\n",
       "      <th>userid</th>\n",
       "      <th>itemid</th>\n",
       "      <th>rating</th>\n",
       "    </tr>\n",
       "  </thead>\n",
       "  <tbody>\n",
       "    <tr>\n",
       "      <th>0</th>\n",
       "      <td>5.0</td>\n",
       "      <td>True</td>\n",
       "      <td>10 4, 2016</td>\n",
       "      <td>B01CPNIEQG</td>\n",
       "      <td>Heather</td>\n",
       "      <td>These are my FAVORITE spices in my collection....</td>\n",
       "      <td>Must Add to your Spice kitchen!</td>\n",
       "      <td>1475539200</td>\n",
       "      <td>NaN</td>\n",
       "      <td>NaN</td>\n",
       "      <td>NaN</td>\n",
       "      <td>102179</td>\n",
       "      <td>37138</td>\n",
       "      <td>1.0</td>\n",
       "    </tr>\n",
       "    <tr>\n",
       "      <th>1</th>\n",
       "      <td>5.0</td>\n",
       "      <td>True</td>\n",
       "      <td>03 1, 2016</td>\n",
       "      <td>B006F63M8U</td>\n",
       "      <td>Linda Odom</td>\n",
       "      <td>Add A package to my Coffee and it makes a good...</td>\n",
       "      <td>Milk Chocolate Swiis MIss Hot Cocoa Mix</td>\n",
       "      <td>1456790400</td>\n",
       "      <td>NaN</td>\n",
       "      <td>{'Size:': ' 60-0.73 oz Envelopes'}</td>\n",
       "      <td>NaN</td>\n",
       "      <td>3625</td>\n",
       "      <td>17322</td>\n",
       "      <td>1.0</td>\n",
       "    </tr>\n",
       "    <tr>\n",
       "      <th>2</th>\n",
       "      <td>5.0</td>\n",
       "      <td>True</td>\n",
       "      <td>06 26, 2016</td>\n",
       "      <td>B00112O8NG</td>\n",
       "      <td>DesertBlossom</td>\n",
       "      <td>I love the Torani syrups, but not the prices o...</td>\n",
       "      <td>Love these sugar free syrups, but didn't love ...</td>\n",
       "      <td>1466899200</td>\n",
       "      <td>28</td>\n",
       "      <td>NaN</td>\n",
       "      <td>NaN</td>\n",
       "      <td>39495</td>\n",
       "      <td>5600</td>\n",
       "      <td>1.0</td>\n",
       "    </tr>\n",
       "    <tr>\n",
       "      <th>3</th>\n",
       "      <td>5.0</td>\n",
       "      <td>True</td>\n",
       "      <td>09 5, 2013</td>\n",
       "      <td>B00MRAQUM8</td>\n",
       "      <td>Connie L. Reaves</td>\n",
       "      <td>Very fragrant. The price can't be beat. I do l...</td>\n",
       "      <td>Nice !</td>\n",
       "      <td>1378339200</td>\n",
       "      <td>NaN</td>\n",
       "      <td>NaN</td>\n",
       "      <td>NaN</td>\n",
       "      <td>72854</td>\n",
       "      <td>30249</td>\n",
       "      <td>1.0</td>\n",
       "    </tr>\n",
       "    <tr>\n",
       "      <th>4</th>\n",
       "      <td>5.0</td>\n",
       "      <td>True</td>\n",
       "      <td>09 14, 2016</td>\n",
       "      <td>B000R7RN0G</td>\n",
       "      <td>Mike P.</td>\n",
       "      <td>These are my favorite jalapeno chips so far. T...</td>\n",
       "      <td>These are my favorite jalapeno chips so far</td>\n",
       "      <td>1473811200</td>\n",
       "      <td>NaN</td>\n",
       "      <td>{'Flavor:': ' Jalapeo'}</td>\n",
       "      <td>NaN</td>\n",
       "      <td>74859</td>\n",
       "      <td>4349</td>\n",
       "      <td>1.0</td>\n",
       "    </tr>\n",
       "  </tbody>\n",
       "</table>\n",
       "</div>"
      ],
      "text/plain": [
       "   overall  verified   reviewTime        asin      reviewerName  \\\n",
       "0      5.0      True   10 4, 2016  B01CPNIEQG           Heather   \n",
       "1      5.0      True   03 1, 2016  B006F63M8U        Linda Odom   \n",
       "2      5.0      True  06 26, 2016  B00112O8NG     DesertBlossom   \n",
       "3      5.0      True   09 5, 2013  B00MRAQUM8  Connie L. Reaves   \n",
       "4      5.0      True  09 14, 2016  B000R7RN0G           Mike P.   \n",
       "\n",
       "                                          reviewText  \\\n",
       "0  These are my FAVORITE spices in my collection....   \n",
       "1  Add A package to my Coffee and it makes a good...   \n",
       "2  I love the Torani syrups, but not the prices o...   \n",
       "3  Very fragrant. The price can't be beat. I do l...   \n",
       "4  These are my favorite jalapeno chips so far. T...   \n",
       "\n",
       "                                             summary  unixReviewTime vote  \\\n",
       "0                    Must Add to your Spice kitchen!      1475539200  NaN   \n",
       "1            Milk Chocolate Swiis MIss Hot Cocoa Mix      1456790400  NaN   \n",
       "2  Love these sugar free syrups, but didn't love ...      1466899200   28   \n",
       "3                                             Nice !      1378339200  NaN   \n",
       "4        These are my favorite jalapeno chips so far      1473811200  NaN   \n",
       "\n",
       "                                style image  userid  itemid  rating  \n",
       "0                                 NaN   NaN  102179   37138     1.0  \n",
       "1  {'Size:': ' 60-0.73 oz Envelopes'}   NaN    3625   17322     1.0  \n",
       "2                                 NaN   NaN   39495    5600     1.0  \n",
       "3                                 NaN   NaN   72854   30249     1.0  \n",
       "4             {'Flavor:': ' Jalapeo'}   NaN   74859    4349     1.0  "
      ]
     },
     "execution_count": 3,
     "metadata": {},
     "output_type": "execute_result"
    }
   ],
   "source": [
    "df.head()"
   ]
  },
  {
   "cell_type": "code",
   "execution_count": 4,
   "metadata": {},
   "outputs": [
    {
     "data": {
      "text/plain": [
       "(857895, 14)"
      ]
     },
     "execution_count": 4,
     "metadata": {},
     "output_type": "execute_result"
    }
   ],
   "source": [
    "df.shape"
   ]
  },
  {
   "cell_type": "markdown",
   "metadata": {},
   "source": [
    "## Обработка данных"
   ]
  },
  {
   "cell_type": "code",
   "execution_count": 5,
   "metadata": {},
   "outputs": [
    {
     "data": {
      "text/plain": [
       "(826895, 14)"
      ]
     },
     "execution_count": 5,
     "metadata": {},
     "output_type": "execute_result"
    }
   ],
   "source": [
    "# Удалим дубликаты, т.к. пользователь может оценить один товар один раз.\n",
    "df.drop_duplicates(inplace=True)\n",
    "df.shape"
   ]
  },
  {
   "cell_type": "code",
   "execution_count": 6,
   "metadata": {},
   "outputs": [],
   "source": [
    "# Удалим строки с пропущенными значениями, где их мало.\n",
    "df.dropna(subset=['reviewerName', 'reviewText', 'summary'], inplace=True)"
   ]
  },
  {
   "cell_type": "code",
   "execution_count": 7,
   "metadata": {},
   "outputs": [],
   "source": [
    "# Признак reviewTime\n",
    "df['reviewTime'] = pd.to_datetime(df['reviewTime'], format=\"%m %d, %Y\")"
   ]
  },
  {
   "cell_type": "markdown",
   "metadata": {},
   "source": [
    "### Удаление дубликатов оценок"
   ]
  },
  {
   "cell_type": "markdown",
   "metadata": {},
   "source": [
    "Один пользователь может оценить товар только один раз."
   ]
  },
  {
   "cell_type": "code",
   "execution_count": 8,
   "metadata": {
    "scrolled": false
   },
   "outputs": [
    {
     "data": {
      "text/plain": [
       "14192"
      ]
     },
     "execution_count": 8,
     "metadata": {},
     "output_type": "execute_result"
    }
   ],
   "source": [
    "duplicates = df[df.duplicated(subset = ['itemid','userid'])]\n",
    "len(duplicates)"
   ]
  },
  {
   "cell_type": "code",
   "execution_count": 9,
   "metadata": {},
   "outputs": [
    {
     "data": {
      "text/plain": [
       "array([  9326,  10863,  11572, ..., 857835, 857836, 857890], dtype=int64)"
      ]
     },
     "execution_count": 9,
     "metadata": {},
     "output_type": "execute_result"
    }
   ],
   "source": [
    "duplicates.index.values"
   ]
  },
  {
   "cell_type": "code",
   "execution_count": 10,
   "metadata": {},
   "outputs": [],
   "source": [
    "df = df.drop(duplicates.index.values)"
   ]
  },
  {
   "cell_type": "code",
   "execution_count": 11,
   "metadata": {},
   "outputs": [
    {
     "data": {
      "text/plain": [
       "(812132, 14)"
      ]
     },
     "execution_count": 11,
     "metadata": {},
     "output_type": "execute_result"
    }
   ],
   "source": [
    "df.shape"
   ]
  },
  {
   "cell_type": "markdown",
   "metadata": {},
   "source": [
    "Сохраним в csv-файл только некоторые столбцы."
   ]
  },
  {
   "cell_type": "code",
   "execution_count": 12,
   "metadata": {},
   "outputs": [
    {
     "data": {
      "text/html": [
       "<div>\n",
       "<style scoped>\n",
       "    .dataframe tbody tr th:only-of-type {\n",
       "        vertical-align: middle;\n",
       "    }\n",
       "\n",
       "    .dataframe tbody tr th {\n",
       "        vertical-align: top;\n",
       "    }\n",
       "\n",
       "    .dataframe thead th {\n",
       "        text-align: right;\n",
       "    }\n",
       "</style>\n",
       "<table border=\"1\" class=\"dataframe\">\n",
       "  <thead>\n",
       "    <tr style=\"text-align: right;\">\n",
       "      <th></th>\n",
       "      <th>overall</th>\n",
       "      <th>reviewTime</th>\n",
       "      <th>asin</th>\n",
       "      <th>userid</th>\n",
       "      <th>itemid</th>\n",
       "      <th>rating</th>\n",
       "    </tr>\n",
       "  </thead>\n",
       "  <tbody>\n",
       "    <tr>\n",
       "      <th>0</th>\n",
       "      <td>5.0</td>\n",
       "      <td>2016-10-04</td>\n",
       "      <td>B01CPNIEQG</td>\n",
       "      <td>102179</td>\n",
       "      <td>37138</td>\n",
       "      <td>1.0</td>\n",
       "    </tr>\n",
       "    <tr>\n",
       "      <th>1</th>\n",
       "      <td>5.0</td>\n",
       "      <td>2016-03-01</td>\n",
       "      <td>B006F63M8U</td>\n",
       "      <td>3625</td>\n",
       "      <td>17322</td>\n",
       "      <td>1.0</td>\n",
       "    </tr>\n",
       "    <tr>\n",
       "      <th>2</th>\n",
       "      <td>5.0</td>\n",
       "      <td>2016-06-26</td>\n",
       "      <td>B00112O8NG</td>\n",
       "      <td>39495</td>\n",
       "      <td>5600</td>\n",
       "      <td>1.0</td>\n",
       "    </tr>\n",
       "    <tr>\n",
       "      <th>3</th>\n",
       "      <td>5.0</td>\n",
       "      <td>2013-09-05</td>\n",
       "      <td>B00MRAQUM8</td>\n",
       "      <td>72854</td>\n",
       "      <td>30249</td>\n",
       "      <td>1.0</td>\n",
       "    </tr>\n",
       "    <tr>\n",
       "      <th>4</th>\n",
       "      <td>5.0</td>\n",
       "      <td>2016-09-14</td>\n",
       "      <td>B000R7RN0G</td>\n",
       "      <td>74859</td>\n",
       "      <td>4349</td>\n",
       "      <td>1.0</td>\n",
       "    </tr>\n",
       "  </tbody>\n",
       "</table>\n",
       "</div>"
      ],
      "text/plain": [
       "   overall reviewTime        asin  userid  itemid  rating\n",
       "0      5.0 2016-10-04  B01CPNIEQG  102179   37138     1.0\n",
       "1      5.0 2016-03-01  B006F63M8U    3625   17322     1.0\n",
       "2      5.0 2016-06-26  B00112O8NG   39495    5600     1.0\n",
       "3      5.0 2013-09-05  B00MRAQUM8   72854   30249     1.0\n",
       "4      5.0 2016-09-14  B000R7RN0G   74859    4349     1.0"
      ]
     },
     "execution_count": 12,
     "metadata": {},
     "output_type": "execute_result"
    }
   ],
   "source": [
    "df[['overall', 'reviewTime', 'asin', 'userid', 'itemid', 'rating']].head()"
   ]
  },
  {
   "cell_type": "code",
   "execution_count": 13,
   "metadata": {},
   "outputs": [],
   "source": [
    "# сохраним в виде csv-файла\n",
    "df[['overall', 'reviewTime', 'asin', 'userid', 'itemid', 'rating']].to_csv('rating.csv', index = False)"
   ]
  },
  {
   "cell_type": "markdown",
   "metadata": {},
   "source": [
    "### Подготовка датафрейма товаров"
   ]
  },
  {
   "cell_type": "code",
   "execution_count": 17,
   "metadata": {},
   "outputs": [],
   "source": [
    "items = pd.DataFrame()\n",
    "items['rating_avg'] = df.groupby('itemid')['rating'].mean()\n",
    "items['number_ratings'] = df.groupby('itemid')['rating'].count()\n",
    "items['overall_avg'] = df.groupby('itemid')['overall'].mean()\n",
    "items['satisfaction_avg'] = (df.groupby('itemid')['rating'].mean() * 100).astype(int)\n",
    "items.reset_index(inplace=True)"
   ]
  },
  {
   "cell_type": "code",
   "execution_count": 21,
   "metadata": {},
   "outputs": [
    {
     "data": {
      "text/html": [
       "<div>\n",
       "<style scoped>\n",
       "    .dataframe tbody tr th:only-of-type {\n",
       "        vertical-align: middle;\n",
       "    }\n",
       "\n",
       "    .dataframe tbody tr th {\n",
       "        vertical-align: top;\n",
       "    }\n",
       "\n",
       "    .dataframe thead th {\n",
       "        text-align: right;\n",
       "    }\n",
       "</style>\n",
       "<table border=\"1\" class=\"dataframe\">\n",
       "  <thead>\n",
       "    <tr style=\"text-align: right;\">\n",
       "      <th></th>\n",
       "      <th>itemid</th>\n",
       "      <th>rating_avg</th>\n",
       "      <th>number_ratings</th>\n",
       "      <th>overall_avg</th>\n",
       "      <th>satisfaction_avg</th>\n",
       "    </tr>\n",
       "  </thead>\n",
       "  <tbody>\n",
       "    <tr>\n",
       "      <th>0</th>\n",
       "      <td>0</td>\n",
       "      <td>1.000000</td>\n",
       "      <td>8</td>\n",
       "      <td>4.875000</td>\n",
       "      <td>100</td>\n",
       "    </tr>\n",
       "    <tr>\n",
       "      <th>1</th>\n",
       "      <td>1</td>\n",
       "      <td>0.761905</td>\n",
       "      <td>21</td>\n",
       "      <td>4.190476</td>\n",
       "      <td>76</td>\n",
       "    </tr>\n",
       "    <tr>\n",
       "      <th>2</th>\n",
       "      <td>2</td>\n",
       "      <td>1.000000</td>\n",
       "      <td>6</td>\n",
       "      <td>4.833333</td>\n",
       "      <td>100</td>\n",
       "    </tr>\n",
       "    <tr>\n",
       "      <th>3</th>\n",
       "      <td>3</td>\n",
       "      <td>0.905405</td>\n",
       "      <td>74</td>\n",
       "      <td>4.581081</td>\n",
       "      <td>90</td>\n",
       "    </tr>\n",
       "    <tr>\n",
       "      <th>4</th>\n",
       "      <td>4</td>\n",
       "      <td>0.800000</td>\n",
       "      <td>10</td>\n",
       "      <td>4.400000</td>\n",
       "      <td>80</td>\n",
       "    </tr>\n",
       "  </tbody>\n",
       "</table>\n",
       "</div>"
      ],
      "text/plain": [
       "   itemid  rating_avg  number_ratings  overall_avg  satisfaction_avg\n",
       "0       0    1.000000               8     4.875000               100\n",
       "1       1    0.761905              21     4.190476                76\n",
       "2       2    1.000000               6     4.833333               100\n",
       "3       3    0.905405              74     4.581081                90\n",
       "4       4    0.800000              10     4.400000                80"
      ]
     },
     "execution_count": 21,
     "metadata": {},
     "output_type": "execute_result"
    }
   ],
   "source": [
    "items.head()"
   ]
  },
  {
   "cell_type": "code",
   "execution_count": 22,
   "metadata": {},
   "outputs": [
    {
     "data": {
      "text/plain": [
       "41302"
      ]
     },
     "execution_count": 22,
     "metadata": {},
     "output_type": "execute_result"
    }
   ],
   "source": [
    "len(items)"
   ]
  },
  {
   "cell_type": "markdown",
   "metadata": {},
   "source": [
    "### Создание категории товара\n",
    "Добавим к таблице товаров дополнительные столбцы: категорию товара, название и цену."
   ]
  },
  {
   "cell_type": "code",
   "execution_count": 23,
   "metadata": {},
   "outputs": [],
   "source": [
    "# Считываем json-файл\n",
    "\n",
    "meta = []\n",
    "with open(\"data4/meta.json\", 'r') as json_file:\n",
    "    for line in json_file:\n",
    "        meta.append(json.loads(line))"
   ]
  },
  {
   "cell_type": "code",
   "execution_count": 24,
   "metadata": {},
   "outputs": [
    {
     "data": {
      "text/plain": [
       "['Grocery & Gourmet Food', 'Dairy, Cheese & Eggs', 'Cheese', 'Gouda']"
      ]
     },
     "execution_count": 24,
     "metadata": {},
     "output_type": "execute_result"
    }
   ],
   "source": [
    "meta[0]['category']"
   ]
  },
  {
   "cell_type": "code",
   "execution_count": 25,
   "metadata": {},
   "outputs": [
    {
     "data": {
      "text/plain": [
       "'$41.91'"
      ]
     },
     "execution_count": 25,
     "metadata": {},
     "output_type": "execute_result"
    }
   ],
   "source": [
    "meta[0]['price']"
   ]
  },
  {
   "cell_type": "code",
   "execution_count": 26,
   "metadata": {},
   "outputs": [
    {
     "data": {
      "text/plain": [
       "'Beemster Gouda - Aged 18/24 Months - App. 1.5 Lbs'"
      ]
     },
     "execution_count": 26,
     "metadata": {},
     "output_type": "execute_result"
    }
   ],
   "source": [
    "meta[0]['title']"
   ]
  },
  {
   "cell_type": "code",
   "execution_count": 27,
   "metadata": {},
   "outputs": [],
   "source": [
    "# Создадим столбец asin в датафрейме items\n",
    "\n",
    "items['asin'] = items['itemid'].apply(lambda x: df[df['itemid'] == x]['asin'].head(1).values[0])"
   ]
  },
  {
   "cell_type": "markdown",
   "metadata": {},
   "source": [
    "Напишем функции для заполнения новых столбцов."
   ]
  },
  {
   "cell_type": "code",
   "execution_count": 28,
   "metadata": {},
   "outputs": [],
   "source": [
    "def find_category(asin):\n",
    "    \"\"\" Принимает asin товара.\n",
    "        Возвращает категорию товара.\n",
    "    \"\"\"\n",
    "    category = \"\"\n",
    "    for cat in meta:\n",
    "        if cat['asin'] == asin:\n",
    "            try:\n",
    "                category = cat['category'][2]\n",
    "            except:\n",
    "                try:\n",
    "                    category = cat['category'][1]\n",
    "                except:\n",
    "                    category = \"\"\n",
    "            break\n",
    "    return category\n",
    "\n",
    "\n",
    "def find_price(asin):\n",
    "    \"\"\" Принимает asin товара.\n",
    "        Возвращает цену товара.\n",
    "    \"\"\"\n",
    "    price = \"\"\n",
    "    for cat in meta:\n",
    "        if cat['asin'] == asin:\n",
    "            try:\n",
    "                price = cat['price']\n",
    "            except:\n",
    "                price = \"\"\n",
    "            break\n",
    "    return price\n",
    "\n",
    "\n",
    "def find_title(asin):\n",
    "    \"\"\" Принимает asin товара.\n",
    "        Возвращает название товара.\n",
    "    \"\"\"\n",
    "    title = \"\"\n",
    "    for cat in meta:\n",
    "        if cat['asin'] == asin:\n",
    "            try:\n",
    "                title = cat['title']\n",
    "            except:\n",
    "                title = \"\"\n",
    "            break\n",
    "    return title"
   ]
  },
  {
   "cell_type": "code",
   "execution_count": 29,
   "metadata": {},
   "outputs": [],
   "source": [
    "items['category'] = items['asin'].apply(find_category)"
   ]
  },
  {
   "cell_type": "code",
   "execution_count": 30,
   "metadata": {},
   "outputs": [],
   "source": [
    "items['title'] = items['asin'].apply(find_title)"
   ]
  },
  {
   "cell_type": "code",
   "execution_count": 31,
   "metadata": {},
   "outputs": [],
   "source": [
    "items['price'] = items['asin'].apply(find_price)"
   ]
  },
  {
   "cell_type": "code",
   "execution_count": 33,
   "metadata": {},
   "outputs": [
    {
     "data": {
      "text/html": [
       "<div>\n",
       "<style scoped>\n",
       "    .dataframe tbody tr th:only-of-type {\n",
       "        vertical-align: middle;\n",
       "    }\n",
       "\n",
       "    .dataframe tbody tr th {\n",
       "        vertical-align: top;\n",
       "    }\n",
       "\n",
       "    .dataframe thead th {\n",
       "        text-align: right;\n",
       "    }\n",
       "</style>\n",
       "<table border=\"1\" class=\"dataframe\">\n",
       "  <thead>\n",
       "    <tr style=\"text-align: right;\">\n",
       "      <th></th>\n",
       "      <th>category_id</th>\n",
       "      <th>category</th>\n",
       "    </tr>\n",
       "  </thead>\n",
       "  <tbody>\n",
       "    <tr>\n",
       "      <th>0</th>\n",
       "      <td>0</td>\n",
       "      <td>Coffee, Tea &amp; Cocoa</td>\n",
       "    </tr>\n",
       "    <tr>\n",
       "      <th>1</th>\n",
       "      <td>1</td>\n",
       "      <td>Sauces</td>\n",
       "    </tr>\n",
       "    <tr>\n",
       "      <th>2</th>\n",
       "      <td>2</td>\n",
       "      <td>Food Coloring</td>\n",
       "    </tr>\n",
       "    <tr>\n",
       "      <th>3</th>\n",
       "      <td>3</td>\n",
       "      <td>Jerky &amp; Dried Meats</td>\n",
       "    </tr>\n",
       "    <tr>\n",
       "      <th>4</th>\n",
       "      <td>4</td>\n",
       "      <td>Hard Candy &amp; Lollipops</td>\n",
       "    </tr>\n",
       "  </tbody>\n",
       "</table>\n",
       "</div>"
      ],
      "text/plain": [
       "   category_id                category\n",
       "0            0     Coffee, Tea & Cocoa\n",
       "1            1                  Sauces\n",
       "2            2           Food Coloring\n",
       "3            3     Jerky & Dried Meats\n",
       "4            4  Hard Candy & Lollipops"
      ]
     },
     "execution_count": 33,
     "metadata": {},
     "output_type": "execute_result"
    }
   ],
   "source": [
    "tags_dict = {}\n",
    "for ind, tag in enumerate(items['category'].unique()):\n",
    "    tags_dict[ind] = tag\n",
    "    \n",
    "df_tags = pd.DataFrame(tags_dict.items(), columns=['category_id', 'category'])\n",
    "df_tags.head()"
   ]
  },
  {
   "cell_type": "code",
   "execution_count": 34,
   "metadata": {},
   "outputs": [
    {
     "data": {
      "text/plain": [
       "235"
      ]
     },
     "execution_count": 34,
     "metadata": {},
     "output_type": "execute_result"
    }
   ],
   "source": [
    "len(df_tags)"
   ]
  },
  {
   "cell_type": "code",
   "execution_count": 35,
   "metadata": {},
   "outputs": [],
   "source": [
    "items = items.merge(df_tags, left_on='category', right_on='category')"
   ]
  },
  {
   "cell_type": "code",
   "execution_count": 36,
   "metadata": {},
   "outputs": [
    {
     "data": {
      "text/html": [
       "<div>\n",
       "<style scoped>\n",
       "    .dataframe tbody tr th:only-of-type {\n",
       "        vertical-align: middle;\n",
       "    }\n",
       "\n",
       "    .dataframe tbody tr th {\n",
       "        vertical-align: top;\n",
       "    }\n",
       "\n",
       "    .dataframe thead th {\n",
       "        text-align: right;\n",
       "    }\n",
       "</style>\n",
       "<table border=\"1\" class=\"dataframe\">\n",
       "  <thead>\n",
       "    <tr style=\"text-align: right;\">\n",
       "      <th></th>\n",
       "      <th>itemid</th>\n",
       "      <th>rating_avg</th>\n",
       "      <th>number_ratings</th>\n",
       "      <th>overall_avg</th>\n",
       "      <th>satisfaction_avg</th>\n",
       "      <th>asin</th>\n",
       "      <th>category</th>\n",
       "      <th>title</th>\n",
       "      <th>price</th>\n",
       "      <th>category_id</th>\n",
       "    </tr>\n",
       "  </thead>\n",
       "  <tbody>\n",
       "    <tr>\n",
       "      <th>0</th>\n",
       "      <td>0</td>\n",
       "      <td>1.000000</td>\n",
       "      <td>8</td>\n",
       "      <td>4.875000</td>\n",
       "      <td>100</td>\n",
       "      <td>4639725183</td>\n",
       "      <td>Coffee, Tea &amp; Cocoa</td>\n",
       "      <td>Lipton Yellow Label Finest Blend Tea Bags 100 ...</td>\n",
       "      <td>$12.98</td>\n",
       "      <td>0</td>\n",
       "    </tr>\n",
       "    <tr>\n",
       "      <th>1</th>\n",
       "      <td>1</td>\n",
       "      <td>0.761905</td>\n",
       "      <td>21</td>\n",
       "      <td>4.190476</td>\n",
       "      <td>76</td>\n",
       "      <td>4639725043</td>\n",
       "      <td>Coffee, Tea &amp; Cocoa</td>\n",
       "      <td>Lipton Yellow Label Tea (loose tea) - 450g</td>\n",
       "      <td>$12.46</td>\n",
       "      <td>0</td>\n",
       "    </tr>\n",
       "    <tr>\n",
       "      <th>2</th>\n",
       "      <td>2</td>\n",
       "      <td>1.000000</td>\n",
       "      <td>6</td>\n",
       "      <td>4.833333</td>\n",
       "      <td>100</td>\n",
       "      <td>5463213682</td>\n",
       "      <td>Coffee, Tea &amp; Cocoa</td>\n",
       "      <td>Organo Gold Cafe Supreme 100% Certified Ganode...</td>\n",
       "      <td>$29.90</td>\n",
       "      <td>0</td>\n",
       "    </tr>\n",
       "    <tr>\n",
       "      <th>3</th>\n",
       "      <td>8</td>\n",
       "      <td>0.913043</td>\n",
       "      <td>46</td>\n",
       "      <td>4.739130</td>\n",
       "      <td>91</td>\n",
       "      <td>B00005344V</td>\n",
       "      <td>Coffee, Tea &amp; Cocoa</td>\n",
       "      <td>Traditional Medicinals Organic Breathe Easy Se...</td>\n",
       "      <td>$28.68</td>\n",
       "      <td>0</td>\n",
       "    </tr>\n",
       "    <tr>\n",
       "      <th>4</th>\n",
       "      <td>10</td>\n",
       "      <td>0.600000</td>\n",
       "      <td>5</td>\n",
       "      <td>3.400000</td>\n",
       "      <td>60</td>\n",
       "      <td>B00005IX97</td>\n",
       "      <td>Coffee, Tea &amp; Cocoa</td>\n",
       "      <td>Espressione 100% Arabica Coffee, 150-Count Pods</td>\n",
       "      <td>$64.88</td>\n",
       "      <td>0</td>\n",
       "    </tr>\n",
       "  </tbody>\n",
       "</table>\n",
       "</div>"
      ],
      "text/plain": [
       "   itemid  rating_avg  number_ratings  overall_avg  satisfaction_avg  \\\n",
       "0       0    1.000000               8     4.875000               100   \n",
       "1       1    0.761905              21     4.190476                76   \n",
       "2       2    1.000000               6     4.833333               100   \n",
       "3       8    0.913043              46     4.739130                91   \n",
       "4      10    0.600000               5     3.400000                60   \n",
       "\n",
       "         asin             category  \\\n",
       "0  4639725183  Coffee, Tea & Cocoa   \n",
       "1  4639725043  Coffee, Tea & Cocoa   \n",
       "2  5463213682  Coffee, Tea & Cocoa   \n",
       "3  B00005344V  Coffee, Tea & Cocoa   \n",
       "4  B00005IX97  Coffee, Tea & Cocoa   \n",
       "\n",
       "                                               title   price  category_id  \n",
       "0  Lipton Yellow Label Finest Blend Tea Bags 100 ...  $12.98            0  \n",
       "1         Lipton Yellow Label Tea (loose tea) - 450g  $12.46            0  \n",
       "2  Organo Gold Cafe Supreme 100% Certified Ganode...  $29.90            0  \n",
       "3  Traditional Medicinals Organic Breathe Easy Se...  $28.68            0  \n",
       "4    Espressione 100% Arabica Coffee, 150-Count Pods  $64.88            0  "
      ]
     },
     "execution_count": 36,
     "metadata": {},
     "output_type": "execute_result"
    }
   ],
   "source": [
    "items.head()"
   ]
  },
  {
   "cell_type": "markdown",
   "metadata": {},
   "source": [
    "## Обучаем модель"
   ]
  },
  {
   "cell_type": "code",
   "execution_count": 39,
   "metadata": {},
   "outputs": [],
   "source": [
    "import scipy.sparse as sparse\n",
    "\n",
    "from lightfm import LightFM\n",
    "from lightfm.cross_validation import random_train_test_split\n",
    "from lightfm.evaluation import auc_score, precision_at_k, recall_at_k\n",
    "import sklearn\n",
    "from sklearn.model_selection import train_test_split\n",
    "\n",
    "import scipy.sparse as sparse"
   ]
  },
  {
   "cell_type": "code",
   "execution_count": 40,
   "metadata": {},
   "outputs": [
    {
     "data": {
      "text/plain": [
       "<127496x41320 sparse matrix of type '<class 'numpy.int32'>'\n",
       "\twith 812132 stored elements in COOrdinate format>"
      ]
     },
     "execution_count": 40,
     "metadata": {},
     "output_type": "execute_result"
    }
   ],
   "source": [
    "ratings_coo = sparse.coo_matrix((df['rating'].astype(int),\n",
    "                                 (df['userid'],\n",
    "                                  df['itemid'])))\n",
    "ratings_coo"
   ]
  },
  {
   "cell_type": "code",
   "execution_count": 41,
   "metadata": {},
   "outputs": [
    {
     "data": {
      "text/plain": [
       "<41320x235 sparse matrix of type '<class 'numpy.int32'>'\n",
       "\twith 41302 stored elements in COOrdinate format>"
      ]
     },
     "execution_count": 41,
     "metadata": {},
     "output_type": "execute_result"
    }
   ],
   "source": [
    "feature_ratings = sparse.coo_matrix(([1]*len(items),(items.itemid, items.category_id)))\n",
    "feature_ratings"
   ]
  },
  {
   "cell_type": "code",
   "execution_count": 42,
   "metadata": {
    "scrolled": true
   },
   "outputs": [
    {
     "name": "stdout",
     "output_type": "stream",
     "text": [
      "Epoch 0\n",
      "Epoch 1\n",
      "Epoch 2\n",
      "Epoch 3\n",
      "Epoch 4\n",
      "Epoch 5\n",
      "Epoch 6\n",
      "Epoch 7\n",
      "Epoch 8\n",
      "Epoch 9\n",
      "Epoch 10\n",
      "Epoch 11\n",
      "Epoch 12\n",
      "Epoch 13\n",
      "Epoch 14\n",
      "Epoch 15\n",
      "Epoch 16\n",
      "Epoch 17\n",
      "Epoch 18\n",
      "Epoch 19\n"
     ]
    }
   ],
   "source": [
    "NUM_THREADS = 4 #число потоков\n",
    "NUM_COMPONENTS = 235 #число параметров вектора \n",
    "NUM_EPOCHS = 20 #число эпох обучения\n",
    "\n",
    "model = LightFM(learning_rate=0.1, loss='logistic', no_components=NUM_COMPONENTS)\n",
    "model = model.fit(ratings_coo, epochs=NUM_EPOCHS, \n",
    "                  num_threads=NUM_THREADS,\n",
    "                  item_features=feature_ratings,\n",
    "                  verbose=True)"
   ]
  },
  {
   "cell_type": "code",
   "execution_count": 43,
   "metadata": {},
   "outputs": [],
   "source": [
    "# Достаём эмбеддинги\n",
    "item_biases, item_embeddings = model.get_item_representations(features=feature_ratings)"
   ]
  },
  {
   "cell_type": "code",
   "execution_count": 44,
   "metadata": {},
   "outputs": [
    {
     "data": {
      "text/plain": [
       "(41320, 235)"
      ]
     },
     "execution_count": 44,
     "metadata": {},
     "output_type": "execute_result"
    }
   ],
   "source": [
    "item_embeddings.shape"
   ]
  },
  {
   "cell_type": "code",
   "execution_count": 45,
   "metadata": {},
   "outputs": [],
   "source": [
    "import nmslib\n",
    "\n",
    "#Создаём наш граф для поиска\n",
    "nms_idx = nmslib.init(method='hnsw', space='cosinesimil')\n",
    "\n",
    "#Начинаем добавлять наши книги в граф\n",
    "nms_idx.addDataPointBatch(item_embeddings)\n",
    "nms_idx.createIndex(print_progress=True)\n",
    "\n",
    "#Вспомогательная функция для поиска по графу\n",
    "def nearest_items_nms(item_id, index, n=10):\n",
    "    nn = index.knnQuery(item_embeddings[item_id], k=n)\n",
    "    return nn"
   ]
  },
  {
   "cell_type": "markdown",
   "metadata": {},
   "source": [
    "#### Проверяем модель"
   ]
  },
  {
   "cell_type": "markdown",
   "metadata": {},
   "source": [
    "Давайте попробуем написать рекомендации к товару в категории Coffee, Tea & Cocoa."
   ]
  },
  {
   "cell_type": "code",
   "execution_count": 46,
   "metadata": {},
   "outputs": [
    {
     "data": {
      "text/html": [
       "<div>\n",
       "<style scoped>\n",
       "    .dataframe tbody tr th:only-of-type {\n",
       "        vertical-align: middle;\n",
       "    }\n",
       "\n",
       "    .dataframe tbody tr th {\n",
       "        vertical-align: top;\n",
       "    }\n",
       "\n",
       "    .dataframe thead th {\n",
       "        text-align: right;\n",
       "    }\n",
       "</style>\n",
       "<table border=\"1\" class=\"dataframe\">\n",
       "  <thead>\n",
       "    <tr style=\"text-align: right;\">\n",
       "      <th></th>\n",
       "      <th>category_id</th>\n",
       "      <th>category</th>\n",
       "    </tr>\n",
       "  </thead>\n",
       "  <tbody>\n",
       "    <tr>\n",
       "      <th>0</th>\n",
       "      <td>0</td>\n",
       "      <td>Coffee, Tea &amp; Cocoa</td>\n",
       "    </tr>\n",
       "  </tbody>\n",
       "</table>\n",
       "</div>"
      ],
      "text/plain": [
       "   category_id             category\n",
       "0            0  Coffee, Tea & Cocoa"
      ]
     },
     "execution_count": 46,
     "metadata": {},
     "output_type": "execute_result"
    }
   ],
   "source": [
    "df_tags[df_tags['category_id'] == 0]"
   ]
  },
  {
   "cell_type": "code",
   "execution_count": 47,
   "metadata": {},
   "outputs": [
    {
     "data": {
      "text/html": [
       "<div>\n",
       "<style scoped>\n",
       "    .dataframe tbody tr th:only-of-type {\n",
       "        vertical-align: middle;\n",
       "    }\n",
       "\n",
       "    .dataframe tbody tr th {\n",
       "        vertical-align: top;\n",
       "    }\n",
       "\n",
       "    .dataframe thead th {\n",
       "        text-align: right;\n",
       "    }\n",
       "</style>\n",
       "<table border=\"1\" class=\"dataframe\">\n",
       "  <thead>\n",
       "    <tr style=\"text-align: right;\">\n",
       "      <th></th>\n",
       "      <th>itemid</th>\n",
       "      <th>rating_avg</th>\n",
       "      <th>number_ratings</th>\n",
       "      <th>overall_avg</th>\n",
       "      <th>satisfaction_avg</th>\n",
       "      <th>asin</th>\n",
       "      <th>category</th>\n",
       "      <th>title</th>\n",
       "      <th>price</th>\n",
       "      <th>category_id</th>\n",
       "    </tr>\n",
       "  </thead>\n",
       "  <tbody>\n",
       "    <tr>\n",
       "      <th>0</th>\n",
       "      <td>0</td>\n",
       "      <td>1.000000</td>\n",
       "      <td>8</td>\n",
       "      <td>4.875000</td>\n",
       "      <td>100</td>\n",
       "      <td>4639725183</td>\n",
       "      <td>Coffee, Tea &amp; Cocoa</td>\n",
       "      <td>Lipton Yellow Label Finest Blend Tea Bags 100 ...</td>\n",
       "      <td>$12.98</td>\n",
       "      <td>0</td>\n",
       "    </tr>\n",
       "    <tr>\n",
       "      <th>1</th>\n",
       "      <td>1</td>\n",
       "      <td>0.761905</td>\n",
       "      <td>21</td>\n",
       "      <td>4.190476</td>\n",
       "      <td>76</td>\n",
       "      <td>4639725043</td>\n",
       "      <td>Coffee, Tea &amp; Cocoa</td>\n",
       "      <td>Lipton Yellow Label Tea (loose tea) - 450g</td>\n",
       "      <td>$12.46</td>\n",
       "      <td>0</td>\n",
       "    </tr>\n",
       "    <tr>\n",
       "      <th>2</th>\n",
       "      <td>2</td>\n",
       "      <td>1.000000</td>\n",
       "      <td>6</td>\n",
       "      <td>4.833333</td>\n",
       "      <td>100</td>\n",
       "      <td>5463213682</td>\n",
       "      <td>Coffee, Tea &amp; Cocoa</td>\n",
       "      <td>Organo Gold Cafe Supreme 100% Certified Ganode...</td>\n",
       "      <td>$29.90</td>\n",
       "      <td>0</td>\n",
       "    </tr>\n",
       "    <tr>\n",
       "      <th>3</th>\n",
       "      <td>8</td>\n",
       "      <td>0.913043</td>\n",
       "      <td>46</td>\n",
       "      <td>4.739130</td>\n",
       "      <td>91</td>\n",
       "      <td>B00005344V</td>\n",
       "      <td>Coffee, Tea &amp; Cocoa</td>\n",
       "      <td>Traditional Medicinals Organic Breathe Easy Se...</td>\n",
       "      <td>$28.68</td>\n",
       "      <td>0</td>\n",
       "    </tr>\n",
       "    <tr>\n",
       "      <th>4</th>\n",
       "      <td>10</td>\n",
       "      <td>0.600000</td>\n",
       "      <td>5</td>\n",
       "      <td>3.400000</td>\n",
       "      <td>60</td>\n",
       "      <td>B00005IX97</td>\n",
       "      <td>Coffee, Tea &amp; Cocoa</td>\n",
       "      <td>Espressione 100% Arabica Coffee, 150-Count Pods</td>\n",
       "      <td>$64.88</td>\n",
       "      <td>0</td>\n",
       "    </tr>\n",
       "  </tbody>\n",
       "</table>\n",
       "</div>"
      ],
      "text/plain": [
       "   itemid  rating_avg  number_ratings  overall_avg  satisfaction_avg  \\\n",
       "0       0    1.000000               8     4.875000               100   \n",
       "1       1    0.761905              21     4.190476                76   \n",
       "2       2    1.000000               6     4.833333               100   \n",
       "3       8    0.913043              46     4.739130                91   \n",
       "4      10    0.600000               5     3.400000                60   \n",
       "\n",
       "         asin             category  \\\n",
       "0  4639725183  Coffee, Tea & Cocoa   \n",
       "1  4639725043  Coffee, Tea & Cocoa   \n",
       "2  5463213682  Coffee, Tea & Cocoa   \n",
       "3  B00005344V  Coffee, Tea & Cocoa   \n",
       "4  B00005IX97  Coffee, Tea & Cocoa   \n",
       "\n",
       "                                               title   price  category_id  \n",
       "0  Lipton Yellow Label Finest Blend Tea Bags 100 ...  $12.98            0  \n",
       "1         Lipton Yellow Label Tea (loose tea) - 450g  $12.46            0  \n",
       "2  Organo Gold Cafe Supreme 100% Certified Ganode...  $29.90            0  \n",
       "3  Traditional Medicinals Organic Breathe Easy Se...  $28.68            0  \n",
       "4    Espressione 100% Arabica Coffee, 150-Count Pods  $64.88            0  "
      ]
     },
     "execution_count": 47,
     "metadata": {},
     "output_type": "execute_result"
    }
   ],
   "source": [
    "items[items['category_id'] == 0].head()"
   ]
  },
  {
   "cell_type": "code",
   "execution_count": 48,
   "metadata": {},
   "outputs": [
    {
     "data": {
      "text/plain": [
       "array([16541, 40695, 40788, 41143, 41228, 41196, 41268, 41274, 41318,\n",
       "       37727])"
      ]
     },
     "execution_count": 48,
     "metadata": {},
     "output_type": "execute_result"
    }
   ],
   "source": [
    "nearest_items = nearest_items_nms(0, nms_idx)[0]\n",
    "nearest_items"
   ]
  },
  {
   "cell_type": "code",
   "execution_count": 49,
   "metadata": {
    "scrolled": false
   },
   "outputs": [
    {
     "data": {
      "text/html": [
       "<div>\n",
       "<style scoped>\n",
       "    .dataframe tbody tr th:only-of-type {\n",
       "        vertical-align: middle;\n",
       "    }\n",
       "\n",
       "    .dataframe tbody tr th {\n",
       "        vertical-align: top;\n",
       "    }\n",
       "\n",
       "    .dataframe thead th {\n",
       "        text-align: right;\n",
       "    }\n",
       "</style>\n",
       "<table border=\"1\" class=\"dataframe\">\n",
       "  <thead>\n",
       "    <tr style=\"text-align: right;\">\n",
       "      <th></th>\n",
       "      <th>itemid</th>\n",
       "      <th>rating_avg</th>\n",
       "      <th>number_ratings</th>\n",
       "      <th>overall_avg</th>\n",
       "      <th>satisfaction_avg</th>\n",
       "      <th>asin</th>\n",
       "      <th>category</th>\n",
       "      <th>title</th>\n",
       "      <th>price</th>\n",
       "      <th>category_id</th>\n",
       "    </tr>\n",
       "  </thead>\n",
       "  <tbody>\n",
       "    <tr>\n",
       "      <th>2776</th>\n",
       "      <td>16541</td>\n",
       "      <td>0.8</td>\n",
       "      <td>45</td>\n",
       "      <td>4.266667</td>\n",
       "      <td>80</td>\n",
       "      <td>B005RFBNP4</td>\n",
       "      <td>Coffee, Tea &amp; Cocoa</td>\n",
       "      <td>First Colony Organic Fair Trade Whole Bean Cof...</td>\n",
       "      <td>$15.99</td>\n",
       "      <td>0</td>\n",
       "    </tr>\n",
       "    <tr>\n",
       "      <th>6835</th>\n",
       "      <td>37727</td>\n",
       "      <td>0.7</td>\n",
       "      <td>10</td>\n",
       "      <td>4.000000</td>\n",
       "      <td>70</td>\n",
       "      <td>B01F2TSY1A</td>\n",
       "      <td>Coffee, Tea &amp; Cocoa</td>\n",
       "      <td>Pink Stork Lactation: Herbal Mint Nursing Supp...</td>\n",
       "      <td>$11.99</td>\n",
       "      <td>0</td>\n",
       "    </tr>\n",
       "    <tr>\n",
       "      <th>7133</th>\n",
       "      <td>40695</td>\n",
       "      <td>1.0</td>\n",
       "      <td>4</td>\n",
       "      <td>5.000000</td>\n",
       "      <td>100</td>\n",
       "      <td>B00KWL5STA</td>\n",
       "      <td>Coffee, Tea &amp; Cocoa</td>\n",
       "      <td>Ghirardelli Hot Cocoa Mix Mocha (Pack of 2)</td>\n",
       "      <td>$14.99</td>\n",
       "      <td>0</td>\n",
       "    </tr>\n",
       "    <tr>\n",
       "      <th>7140</th>\n",
       "      <td>40788</td>\n",
       "      <td>1.0</td>\n",
       "      <td>3</td>\n",
       "      <td>4.666667</td>\n",
       "      <td>100</td>\n",
       "      <td>B00N3462T8</td>\n",
       "      <td>Coffee, Tea &amp; Cocoa</td>\n",
       "      <td>Victor Allen's Coffee 12-Count Single Serve Cu...</td>\n",
       "      <td>$14.24</td>\n",
       "      <td>0</td>\n",
       "    </tr>\n",
       "    <tr>\n",
       "      <th>7169</th>\n",
       "      <td>41143</td>\n",
       "      <td>1.0</td>\n",
       "      <td>4</td>\n",
       "      <td>4.750000</td>\n",
       "      <td>100</td>\n",
       "      <td>B014JRXCLI</td>\n",
       "      <td>Coffee, Tea &amp; Cocoa</td>\n",
       "      <td>Great Iced Tea or Hot All year - Holiday Spice...</td>\n",
       "      <td>$15.99</td>\n",
       "      <td>0</td>\n",
       "    </tr>\n",
       "    <tr>\n",
       "      <th>7175</th>\n",
       "      <td>41196</td>\n",
       "      <td>0.5</td>\n",
       "      <td>4</td>\n",
       "      <td>4.000000</td>\n",
       "      <td>50</td>\n",
       "      <td>B019J2LI8M</td>\n",
       "      <td>Coffee, Tea &amp; Cocoa</td>\n",
       "      <td>Twisted Pine Dark Italian Roast, Extra Bold Co...</td>\n",
       "      <td></td>\n",
       "      <td>0</td>\n",
       "    </tr>\n",
       "    <tr>\n",
       "      <th>7177</th>\n",
       "      <td>41228</td>\n",
       "      <td>1.0</td>\n",
       "      <td>4</td>\n",
       "      <td>4.750000</td>\n",
       "      <td>100</td>\n",
       "      <td>B01B7BVIUQ</td>\n",
       "      <td>Coffee, Tea &amp; Cocoa</td>\n",
       "      <td>MORINGA GINGER TEA - USDA Organic, Exotic Blen...</td>\n",
       "      <td>$13.95</td>\n",
       "      <td>0</td>\n",
       "    </tr>\n",
       "    <tr>\n",
       "      <th>7179</th>\n",
       "      <td>41268</td>\n",
       "      <td>0.8</td>\n",
       "      <td>5</td>\n",
       "      <td>4.200000</td>\n",
       "      <td>80</td>\n",
       "      <td>B01EUM91YE</td>\n",
       "      <td>Coffee, Tea &amp; Cocoa</td>\n",
       "      <td>20 Count - Variety Starbucks Flavored Coffee K...</td>\n",
       "      <td>$19.99</td>\n",
       "      <td>0</td>\n",
       "    </tr>\n",
       "    <tr>\n",
       "      <th>7180</th>\n",
       "      <td>41274</td>\n",
       "      <td>1.0</td>\n",
       "      <td>4</td>\n",
       "      <td>4.750000</td>\n",
       "      <td>100</td>\n",
       "      <td>B01F7AWF32</td>\n",
       "      <td>Coffee, Tea &amp; Cocoa</td>\n",
       "      <td>International Delight Hazelnut Coffee Creamer ...</td>\n",
       "      <td></td>\n",
       "      <td>0</td>\n",
       "    </tr>\n",
       "    <tr>\n",
       "      <th>7181</th>\n",
       "      <td>41318</td>\n",
       "      <td>1.0</td>\n",
       "      <td>2</td>\n",
       "      <td>5.000000</td>\n",
       "      <td>100</td>\n",
       "      <td>B01HGBEYRU</td>\n",
       "      <td>Coffee, Tea &amp; Cocoa</td>\n",
       "      <td>Nescafe Taster's Choice Instant Coffee, House ...</td>\n",
       "      <td></td>\n",
       "      <td>0</td>\n",
       "    </tr>\n",
       "  </tbody>\n",
       "</table>\n",
       "</div>"
      ],
      "text/plain": [
       "      itemid  rating_avg  number_ratings  overall_avg  satisfaction_avg  \\\n",
       "2776   16541         0.8              45     4.266667                80   \n",
       "6835   37727         0.7              10     4.000000                70   \n",
       "7133   40695         1.0               4     5.000000               100   \n",
       "7140   40788         1.0               3     4.666667               100   \n",
       "7169   41143         1.0               4     4.750000               100   \n",
       "7175   41196         0.5               4     4.000000                50   \n",
       "7177   41228         1.0               4     4.750000               100   \n",
       "7179   41268         0.8               5     4.200000                80   \n",
       "7180   41274         1.0               4     4.750000               100   \n",
       "7181   41318         1.0               2     5.000000               100   \n",
       "\n",
       "            asin             category  \\\n",
       "2776  B005RFBNP4  Coffee, Tea & Cocoa   \n",
       "6835  B01F2TSY1A  Coffee, Tea & Cocoa   \n",
       "7133  B00KWL5STA  Coffee, Tea & Cocoa   \n",
       "7140  B00N3462T8  Coffee, Tea & Cocoa   \n",
       "7169  B014JRXCLI  Coffee, Tea & Cocoa   \n",
       "7175  B019J2LI8M  Coffee, Tea & Cocoa   \n",
       "7177  B01B7BVIUQ  Coffee, Tea & Cocoa   \n",
       "7179  B01EUM91YE  Coffee, Tea & Cocoa   \n",
       "7180  B01F7AWF32  Coffee, Tea & Cocoa   \n",
       "7181  B01HGBEYRU  Coffee, Tea & Cocoa   \n",
       "\n",
       "                                                  title   price  category_id  \n",
       "2776  First Colony Organic Fair Trade Whole Bean Cof...  $15.99            0  \n",
       "6835  Pink Stork Lactation: Herbal Mint Nursing Supp...  $11.99            0  \n",
       "7133        Ghirardelli Hot Cocoa Mix Mocha (Pack of 2)  $14.99            0  \n",
       "7140  Victor Allen's Coffee 12-Count Single Serve Cu...  $14.24            0  \n",
       "7169  Great Iced Tea or Hot All year - Holiday Spice...  $15.99            0  \n",
       "7175  Twisted Pine Dark Italian Roast, Extra Bold Co...                    0  \n",
       "7177  MORINGA GINGER TEA - USDA Organic, Exotic Blen...  $13.95            0  \n",
       "7179  20 Count - Variety Starbucks Flavored Coffee K...  $19.99            0  \n",
       "7180  International Delight Hazelnut Coffee Creamer ...                    0  \n",
       "7181  Nescafe Taster's Choice Instant Coffee, House ...                    0  "
      ]
     },
     "execution_count": 49,
     "metadata": {},
     "output_type": "execute_result"
    }
   ],
   "source": [
    "#Выводим похожие товары.\n",
    "\n",
    "items[items['itemid'].isin(nearest_items)]"
   ]
  },
  {
   "cell_type": "markdown",
   "metadata": {},
   "source": [
    "Подготовим свою модель к внедрению в продакшен"
   ]
  },
  {
   "cell_type": "code",
   "execution_count": 50,
   "metadata": {},
   "outputs": [],
   "source": [
    "import pickle\n",
    "with open('item_embeddings.pickle', 'wb') as file:\n",
    "    pickle.dump(item_embeddings, file, protocol=pickle.HIGHEST_PROTOCOL)"
   ]
  },
  {
   "cell_type": "markdown",
   "metadata": {},
   "source": [
    "## Пример работы прототипа"
   ]
  },
  {
   "cell_type": "code",
   "execution_count": 51,
   "metadata": {},
   "outputs": [],
   "source": [
    "rating_df = pd.read_csv('master/prod/rating.csv')\n",
    "items_df = pd.read_csv('master/prod/items.csv')"
   ]
  },
  {
   "cell_type": "markdown",
   "metadata": {},
   "source": [
    "- В поле \"User ID\" указывается id пользователя (целое число)."
   ]
  },
  {
   "cell_type": "code",
   "execution_count": 52,
   "metadata": {},
   "outputs": [],
   "source": [
    "user_id = 39495"
   ]
  },
  {
   "cell_type": "markdown",
   "metadata": {},
   "source": [
    "- На экран выводятся не более 5 последних оценок этого пользователя в порядке убывания."
   ]
  },
  {
   "cell_type": "code",
   "execution_count": 60,
   "metadata": {},
   "outputs": [],
   "source": [
    "#Получаем пять последних оценок пользователя\n",
    "user_df = rating_df[rating_df['userid'] == user_id].sort_values(by='reviewTime', ascending=False).head(5)\n",
    "user_df = user_df.merge(items, left_on='asin', right_on='asin', how='inner', suffixes=('_left', '_right'))\n",
    "user_df = user_df[['reviewTime', 'category', 'title', 'overall', 'itemid_left']]\n",
    "user_df.rename(columns={'itemid_left': 'itemid'}, inplace=True)"
   ]
  },
  {
   "cell_type": "code",
   "execution_count": 61,
   "metadata": {},
   "outputs": [
    {
     "data": {
      "text/html": [
       "<div>\n",
       "<style scoped>\n",
       "    .dataframe tbody tr th:only-of-type {\n",
       "        vertical-align: middle;\n",
       "    }\n",
       "\n",
       "    .dataframe tbody tr th {\n",
       "        vertical-align: top;\n",
       "    }\n",
       "\n",
       "    .dataframe thead th {\n",
       "        text-align: right;\n",
       "    }\n",
       "</style>\n",
       "<table border=\"1\" class=\"dataframe\">\n",
       "  <thead>\n",
       "    <tr style=\"text-align: right;\">\n",
       "      <th></th>\n",
       "      <th>reviewTime</th>\n",
       "      <th>category</th>\n",
       "      <th>title</th>\n",
       "      <th>overall</th>\n",
       "      <th>itemid</th>\n",
       "    </tr>\n",
       "  </thead>\n",
       "  <tbody>\n",
       "    <tr>\n",
       "      <th>0</th>\n",
       "      <td>2016-06-26</td>\n",
       "      <td>Bottled Beverages, Water &amp; Drink Mixes</td>\n",
       "      <td>Torani Syrup, Sugar Free Vanilla, 25.4 oz</td>\n",
       "      <td>5.0</td>\n",
       "      <td>5600</td>\n",
       "    </tr>\n",
       "    <tr>\n",
       "      <th>1</th>\n",
       "      <td>2016-06-26</td>\n",
       "      <td>Bouillon</td>\n",
       "      <td>Hormel Herb Ox Chicken Bouillon 50 Packets</td>\n",
       "      <td>5.0</td>\n",
       "      <td>19196</td>\n",
       "    </tr>\n",
       "    <tr>\n",
       "      <th>2</th>\n",
       "      <td>2016-06-26</td>\n",
       "      <td>Nut &amp; Seed Butters</td>\n",
       "      <td>Bell Plantation PB2 Powdered Peanut Butter, Ne...</td>\n",
       "      <td>5.0</td>\n",
       "      <td>26755</td>\n",
       "    </tr>\n",
       "    <tr>\n",
       "      <th>3</th>\n",
       "      <td>2015-01-07</td>\n",
       "      <td>Nuts &amp; Seeds</td>\n",
       "      <td>Planters Peanuts, Honey Roasted &amp; Salted, 52 O...</td>\n",
       "      <td>3.0</td>\n",
       "      <td>4689</td>\n",
       "    </tr>\n",
       "    <tr>\n",
       "      <th>4</th>\n",
       "      <td>2015-01-07</td>\n",
       "      <td>Nuts &amp; Seeds</td>\n",
       "      <td>Planters Dry Roasted Peanuts, Dry Roasted, Lig...</td>\n",
       "      <td>3.0</td>\n",
       "      <td>1378</td>\n",
       "    </tr>\n",
       "  </tbody>\n",
       "</table>\n",
       "</div>"
      ],
      "text/plain": [
       "   reviewTime                                category  \\\n",
       "0  2016-06-26  Bottled Beverages, Water & Drink Mixes   \n",
       "1  2016-06-26                                Bouillon   \n",
       "2  2016-06-26                      Nut & Seed Butters   \n",
       "3  2015-01-07                            Nuts & Seeds   \n",
       "4  2015-01-07                            Nuts & Seeds   \n",
       "\n",
       "                                               title  overall  itemid  \n",
       "0          Torani Syrup, Sugar Free Vanilla, 25.4 oz      5.0    5600  \n",
       "1         Hormel Herb Ox Chicken Bouillon 50 Packets      5.0   19196  \n",
       "2  Bell Plantation PB2 Powdered Peanut Butter, Ne...      5.0   26755  \n",
       "3  Planters Peanuts, Honey Roasted & Salted, 52 O...      3.0    4689  \n",
       "4  Planters Dry Roasted Peanuts, Dry Roasted, Lig...      3.0    1378  "
      ]
     },
     "execution_count": 61,
     "metadata": {},
     "output_type": "execute_result"
    }
   ],
   "source": [
    "user_df"
   ]
  },
  {
   "cell_type": "markdown",
   "metadata": {},
   "source": [
    "- На основе последних 3-х оценок делаются рекомендации"
   ]
  },
  {
   "cell_type": "code",
   "execution_count": 68,
   "metadata": {},
   "outputs": [
    {
     "data": {
      "text/plain": [
       "5600"
      ]
     },
     "execution_count": 68,
     "metadata": {},
     "output_type": "execute_result"
    }
   ],
   "source": [
    "itemid = user_df.iloc[0]['itemid']\n",
    "itemid"
   ]
  },
  {
   "cell_type": "code",
   "execution_count": 69,
   "metadata": {},
   "outputs": [
    {
     "data": {
      "text/plain": [
       "array([ 9131,  9310,  9312, 40996, 41174, 41240, 41199, 41281, 41261,\n",
       "       41267])"
      ]
     },
     "execution_count": 69,
     "metadata": {},
     "output_type": "execute_result"
    }
   ],
   "source": [
    "nearest_items = nearest_items_nms(itemid, nms_idx)[0]\n",
    "nearest_items"
   ]
  },
  {
   "cell_type": "code",
   "execution_count": 70,
   "metadata": {},
   "outputs": [
    {
     "data": {
      "text/html": [
       "<div>\n",
       "<style scoped>\n",
       "    .dataframe tbody tr th:only-of-type {\n",
       "        vertical-align: middle;\n",
       "    }\n",
       "\n",
       "    .dataframe tbody tr th {\n",
       "        vertical-align: top;\n",
       "    }\n",
       "\n",
       "    .dataframe thead th {\n",
       "        text-align: right;\n",
       "    }\n",
       "</style>\n",
       "<table border=\"1\" class=\"dataframe\">\n",
       "  <thead>\n",
       "    <tr style=\"text-align: right;\">\n",
       "      <th></th>\n",
       "      <th>itemid</th>\n",
       "      <th>rating_avg</th>\n",
       "      <th>number_ratings</th>\n",
       "      <th>overall_avg</th>\n",
       "      <th>satisfaction_avg</th>\n",
       "      <th>asin</th>\n",
       "      <th>category</th>\n",
       "      <th>title</th>\n",
       "      <th>price</th>\n",
       "      <th>category_id</th>\n",
       "    </tr>\n",
       "  </thead>\n",
       "  <tbody>\n",
       "    <tr>\n",
       "      <th>21846</th>\n",
       "      <td>9310</td>\n",
       "      <td>1.0</td>\n",
       "      <td>4</td>\n",
       "      <td>5.0</td>\n",
       "      <td>100</td>\n",
       "      <td>B001OVSRW2</td>\n",
       "      <td>Bottled Beverages, Water &amp; Drink Mixes</td>\n",
       "      <td>Whiskey Sour Bar-Tenders Instant Cocktail Mix,...</td>\n",
       "      <td>$39.49</td>\n",
       "      <td>33</td>\n",
       "    </tr>\n",
       "    <tr>\n",
       "      <th>23593</th>\n",
       "      <td>41199</td>\n",
       "      <td>1.0</td>\n",
       "      <td>3</td>\n",
       "      <td>5.0</td>\n",
       "      <td>100</td>\n",
       "      <td>B019YK6AX2</td>\n",
       "      <td>Bottled Beverages, Water &amp; Drink Mixes</td>\n",
       "      <td>Crystal Light Tea Sticks, Lemonade, 32ct 2pk (...</td>\n",
       "      <td>$25.57</td>\n",
       "      <td>33</td>\n",
       "    </tr>\n",
       "    <tr>\n",
       "      <th>23597</th>\n",
       "      <td>41261</td>\n",
       "      <td>1.0</td>\n",
       "      <td>4</td>\n",
       "      <td>5.0</td>\n",
       "      <td>100</td>\n",
       "      <td>B01E5LYDRU</td>\n",
       "      <td>Bottled Beverages, Water &amp; Drink Mixes</td>\n",
       "      <td>Lakewood Organic Pure Veggie V12 Juice, 32 Oun...</td>\n",
       "      <td>NaN</td>\n",
       "      <td>33</td>\n",
       "    </tr>\n",
       "  </tbody>\n",
       "</table>\n",
       "</div>"
      ],
      "text/plain": [
       "       itemid  rating_avg  number_ratings  overall_avg  satisfaction_avg  \\\n",
       "21846    9310         1.0               4          5.0               100   \n",
       "23593   41199         1.0               3          5.0               100   \n",
       "23597   41261         1.0               4          5.0               100   \n",
       "\n",
       "             asin                                category  \\\n",
       "21846  B001OVSRW2  Bottled Beverages, Water & Drink Mixes   \n",
       "23593  B019YK6AX2  Bottled Beverages, Water & Drink Mixes   \n",
       "23597  B01E5LYDRU  Bottled Beverages, Water & Drink Mixes   \n",
       "\n",
       "                                                   title   price  category_id  \n",
       "21846  Whiskey Sour Bar-Tenders Instant Cocktail Mix,...  $39.49           33  \n",
       "23593  Crystal Light Tea Sticks, Lemonade, 32ct 2pk (...  $25.57           33  \n",
       "23597  Lakewood Organic Pure Veggie V12 Juice, 32 Oun...     NaN           33  "
      ]
     },
     "execution_count": 70,
     "metadata": {},
     "output_type": "execute_result"
    }
   ],
   "source": [
    "#Выводим похожие товары.\n",
    "\n",
    "items_df[items_df['itemid'].isin(nearest_items)].sort_values(by='satisfaction_avg', ascending=False).head(3)"
   ]
  },
  {
   "cell_type": "code",
   "execution_count": 81,
   "metadata": {},
   "outputs": [],
   "source": [
    "items['title'] = items['title'].apply(lambda x: x if len(x) < 400 else '')"
   ]
  },
  {
   "cell_type": "code",
   "execution_count": 83,
   "metadata": {},
   "outputs": [],
   "source": [
    "# сохраним в виде csv-файла\n",
    "items.to_csv('items.csv', index = False)"
   ]
  },
  {
   "cell_type": "code",
   "execution_count": null,
   "metadata": {},
   "outputs": [],
   "source": []
  }
 ],
 "metadata": {
  "kernelspec": {
   "display_name": "Python 3",
   "language": "python",
   "name": "python3"
  },
  "language_info": {
   "codemirror_mode": {
    "name": "ipython",
    "version": 3
   },
   "file_extension": ".py",
   "mimetype": "text/x-python",
   "name": "python",
   "nbconvert_exporter": "python",
   "pygments_lexer": "ipython3",
   "version": "3.7.3"
  }
 },
 "nbformat": 4,
 "nbformat_minor": 2
}
